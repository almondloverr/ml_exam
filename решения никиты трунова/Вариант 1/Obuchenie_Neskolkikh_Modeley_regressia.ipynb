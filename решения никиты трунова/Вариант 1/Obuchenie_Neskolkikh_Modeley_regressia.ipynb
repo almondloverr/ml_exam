{
 "cells": [
  {
   "cell_type": "markdown",
   "id": "61a80b0f",
   "metadata": {},
   "source": [
    "# Трунов Никита\n",
    "## Билет 0"
   ]
  },
  {
   "cell_type": "markdown",
   "id": "70ff5109",
   "metadata": {},
   "source": [
    "## 1. Описание датасета и решаемой задачи "
   ]
  },
  {
   "cell_type": "markdown",
   "id": "09548c65",
   "metadata": {},
   "source": [
    "Датасет включает в себя выборку автомобилей с различными харатеристиками. Решаемая задача - задача множественной регрессии. Целевая переменная - цена автомобиля."
   ]
  },
  {
   "cell_type": "markdown",
   "id": "40f90189",
   "metadata": {},
   "source": [
    "## 2. Импорты"
   ]
  },
  {
   "cell_type": "code",
   "execution_count": 1,
   "id": "70a33204",
   "metadata": {},
   "outputs": [],
   "source": [
    "import pandas as pd\n",
    "from sklearn.model_selection import train_test_split, cross_validate\n",
    "from sklearn.linear_model import LinearRegression\n",
    "from sklearn.tree import DecisionTreeRegressor\n",
    "from sklearn.ensemble import RandomForestRegressor, GradientBoostingRegressor\n",
    "from sklearn.metrics import (\n",
    "    make_scorer, r2_score, mean_absolute_error, mean_absolute_percentage_error,\n",
    "    mean_squared_error)"
   ]
  },
  {
   "cell_type": "markdown",
   "id": "3e3495f7",
   "metadata": {},
   "source": [
    "## 3. Подготовительный этап"
   ]
  },
  {
   "cell_type": "markdown",
   "id": "03e44e61",
   "metadata": {},
   "source": [
    "Загружаем датасет в Python."
   ]
  },
  {
   "cell_type": "code",
   "execution_count": 2,
   "id": "03d507c5",
   "metadata": {
    "scrolled": true
   },
   "outputs": [
    {
     "data": {
      "text/html": [
       "<div>\n",
       "<style scoped>\n",
       "    .dataframe tbody tr th:only-of-type {\n",
       "        vertical-align: middle;\n",
       "    }\n",
       "\n",
       "    .dataframe tbody tr th {\n",
       "        vertical-align: top;\n",
       "    }\n",
       "\n",
       "    .dataframe thead th {\n",
       "        text-align: right;\n",
       "    }\n",
       "</style>\n",
       "<table border=\"1\" class=\"dataframe\">\n",
       "  <thead>\n",
       "    <tr style=\"text-align: right;\">\n",
       "      <th></th>\n",
       "      <th>car_ID</th>\n",
       "      <th>symboling</th>\n",
       "      <th>CarName</th>\n",
       "      <th>fueltype</th>\n",
       "      <th>aspiration</th>\n",
       "      <th>doornumber</th>\n",
       "      <th>carbody</th>\n",
       "      <th>drivewheel</th>\n",
       "      <th>enginelocation</th>\n",
       "      <th>wheelbase</th>\n",
       "      <th>...</th>\n",
       "      <th>enginesize</th>\n",
       "      <th>fuelsystem</th>\n",
       "      <th>boreratio</th>\n",
       "      <th>stroke</th>\n",
       "      <th>compressionratio</th>\n",
       "      <th>horsepower</th>\n",
       "      <th>peakrpm</th>\n",
       "      <th>citympg</th>\n",
       "      <th>highwaympg</th>\n",
       "      <th>price</th>\n",
       "    </tr>\n",
       "  </thead>\n",
       "  <tbody>\n",
       "    <tr>\n",
       "      <th>0</th>\n",
       "      <td>1</td>\n",
       "      <td>3</td>\n",
       "      <td>alfa-romero giulia</td>\n",
       "      <td>gas</td>\n",
       "      <td>std</td>\n",
       "      <td>two</td>\n",
       "      <td>convertible</td>\n",
       "      <td>rwd</td>\n",
       "      <td>front</td>\n",
       "      <td>88.6</td>\n",
       "      <td>...</td>\n",
       "      <td>130</td>\n",
       "      <td>mpfi</td>\n",
       "      <td>3.47</td>\n",
       "      <td>2.68</td>\n",
       "      <td>9.0</td>\n",
       "      <td>111</td>\n",
       "      <td>5000</td>\n",
       "      <td>21</td>\n",
       "      <td>27</td>\n",
       "      <td>13495.0</td>\n",
       "    </tr>\n",
       "    <tr>\n",
       "      <th>1</th>\n",
       "      <td>2</td>\n",
       "      <td>3</td>\n",
       "      <td>alfa-romero stelvio</td>\n",
       "      <td>gas</td>\n",
       "      <td>std</td>\n",
       "      <td>two</td>\n",
       "      <td>convertible</td>\n",
       "      <td>rwd</td>\n",
       "      <td>front</td>\n",
       "      <td>88.6</td>\n",
       "      <td>...</td>\n",
       "      <td>130</td>\n",
       "      <td>mpfi</td>\n",
       "      <td>3.47</td>\n",
       "      <td>2.68</td>\n",
       "      <td>9.0</td>\n",
       "      <td>111</td>\n",
       "      <td>5000</td>\n",
       "      <td>21</td>\n",
       "      <td>27</td>\n",
       "      <td>16500.0</td>\n",
       "    </tr>\n",
       "    <tr>\n",
       "      <th>2</th>\n",
       "      <td>3</td>\n",
       "      <td>1</td>\n",
       "      <td>alfa-romero Quadrifoglio</td>\n",
       "      <td>gas</td>\n",
       "      <td>std</td>\n",
       "      <td>two</td>\n",
       "      <td>hatchback</td>\n",
       "      <td>rwd</td>\n",
       "      <td>front</td>\n",
       "      <td>94.5</td>\n",
       "      <td>...</td>\n",
       "      <td>152</td>\n",
       "      <td>mpfi</td>\n",
       "      <td>2.68</td>\n",
       "      <td>3.47</td>\n",
       "      <td>9.0</td>\n",
       "      <td>154</td>\n",
       "      <td>5000</td>\n",
       "      <td>19</td>\n",
       "      <td>26</td>\n",
       "      <td>16500.0</td>\n",
       "    </tr>\n",
       "    <tr>\n",
       "      <th>3</th>\n",
       "      <td>4</td>\n",
       "      <td>2</td>\n",
       "      <td>audi 100 ls</td>\n",
       "      <td>gas</td>\n",
       "      <td>std</td>\n",
       "      <td>four</td>\n",
       "      <td>sedan</td>\n",
       "      <td>fwd</td>\n",
       "      <td>front</td>\n",
       "      <td>99.8</td>\n",
       "      <td>...</td>\n",
       "      <td>109</td>\n",
       "      <td>mpfi</td>\n",
       "      <td>3.19</td>\n",
       "      <td>3.40</td>\n",
       "      <td>10.0</td>\n",
       "      <td>102</td>\n",
       "      <td>5500</td>\n",
       "      <td>24</td>\n",
       "      <td>30</td>\n",
       "      <td>13950.0</td>\n",
       "    </tr>\n",
       "    <tr>\n",
       "      <th>4</th>\n",
       "      <td>5</td>\n",
       "      <td>2</td>\n",
       "      <td>audi 100ls</td>\n",
       "      <td>gas</td>\n",
       "      <td>std</td>\n",
       "      <td>four</td>\n",
       "      <td>sedan</td>\n",
       "      <td>4wd</td>\n",
       "      <td>front</td>\n",
       "      <td>99.4</td>\n",
       "      <td>...</td>\n",
       "      <td>136</td>\n",
       "      <td>mpfi</td>\n",
       "      <td>3.19</td>\n",
       "      <td>3.40</td>\n",
       "      <td>8.0</td>\n",
       "      <td>115</td>\n",
       "      <td>5500</td>\n",
       "      <td>18</td>\n",
       "      <td>22</td>\n",
       "      <td>17450.0</td>\n",
       "    </tr>\n",
       "  </tbody>\n",
       "</table>\n",
       "<p>5 rows × 26 columns</p>\n",
       "</div>"
      ],
      "text/plain": [
       "   car_ID  symboling                   CarName fueltype aspiration doornumber  \\\n",
       "0       1          3        alfa-romero giulia      gas        std        two   \n",
       "1       2          3       alfa-romero stelvio      gas        std        two   \n",
       "2       3          1  alfa-romero Quadrifoglio      gas        std        two   \n",
       "3       4          2               audi 100 ls      gas        std       four   \n",
       "4       5          2                audi 100ls      gas        std       four   \n",
       "\n",
       "       carbody drivewheel enginelocation  wheelbase  ...  enginesize  \\\n",
       "0  convertible        rwd          front       88.6  ...         130   \n",
       "1  convertible        rwd          front       88.6  ...         130   \n",
       "2    hatchback        rwd          front       94.5  ...         152   \n",
       "3        sedan        fwd          front       99.8  ...         109   \n",
       "4        sedan        4wd          front       99.4  ...         136   \n",
       "\n",
       "   fuelsystem  boreratio  stroke compressionratio horsepower  peakrpm citympg  \\\n",
       "0        mpfi       3.47    2.68              9.0        111     5000      21   \n",
       "1        mpfi       3.47    2.68              9.0        111     5000      21   \n",
       "2        mpfi       2.68    3.47              9.0        154     5000      19   \n",
       "3        mpfi       3.19    3.40             10.0        102     5500      24   \n",
       "4        mpfi       3.19    3.40              8.0        115     5500      18   \n",
       "\n",
       "   highwaympg    price  \n",
       "0          27  13495.0  \n",
       "1          27  16500.0  \n",
       "2          26  16500.0  \n",
       "3          30  13950.0  \n",
       "4          22  17450.0  \n",
       "\n",
       "[5 rows x 26 columns]"
      ]
     },
     "execution_count": 2,
     "metadata": {},
     "output_type": "execute_result"
    }
   ],
   "source": [
    "df = pd.read_csv('CarPrice_Assignment.csv')\n",
    "df.head()"
   ]
  },
  {
   "cell_type": "markdown",
   "id": "c7e91dea",
   "metadata": {},
   "source": [
    "Исходный датасет содержит 205 точек данных и 26 переменных."
   ]
  },
  {
   "cell_type": "code",
   "execution_count": 3,
   "id": "b2ad7a7d",
   "metadata": {},
   "outputs": [
    {
     "data": {
      "text/plain": [
       "(205, 26)"
      ]
     },
     "execution_count": 3,
     "metadata": {},
     "output_type": "execute_result"
    }
   ],
   "source": [
    "df.shape"
   ]
  },
  {
   "cell_type": "markdown",
   "id": "868f14f3",
   "metadata": {},
   "source": [
    "Отсутствующие значения в выборке не обнаружены."
   ]
  },
  {
   "cell_type": "code",
   "execution_count": 4,
   "id": "ae09530a",
   "metadata": {},
   "outputs": [
    {
     "data": {
      "text/plain": [
       "car_ID              0\n",
       "symboling           0\n",
       "CarName             0\n",
       "fueltype            0\n",
       "aspiration          0\n",
       "doornumber          0\n",
       "carbody             0\n",
       "drivewheel          0\n",
       "enginelocation      0\n",
       "wheelbase           0\n",
       "carlength           0\n",
       "carwidth            0\n",
       "carheight           0\n",
       "curbweight          0\n",
       "enginetype          0\n",
       "cylindernumber      0\n",
       "enginesize          0\n",
       "fuelsystem          0\n",
       "boreratio           0\n",
       "stroke              0\n",
       "compressionratio    0\n",
       "horsepower          0\n",
       "peakrpm             0\n",
       "citympg             0\n",
       "highwaympg          0\n",
       "price               0\n",
       "dtype: int64"
      ]
     },
     "execution_count": 4,
     "metadata": {},
     "output_type": "execute_result"
    }
   ],
   "source": [
    "df.isna().sum()"
   ]
  },
  {
   "cell_type": "markdown",
   "id": "eff4cb4d",
   "metadata": {},
   "source": [
    "Исключаем ненужные переменные."
   ]
  },
  {
   "cell_type": "code",
   "execution_count": 5,
   "id": "173ad4f6",
   "metadata": {},
   "outputs": [],
   "source": [
    "df = df.drop(columns=['car_ID'])"
   ]
  },
  {
   "cell_type": "markdown",
   "id": "c4035d2d",
   "metadata": {},
   "source": [
    "В столбце с названиями автомобилей достаточно много уникальных значений. Это плохой признак. Однако, можно выбрать из названий моделей марки автомобилей."
   ]
  },
  {
   "cell_type": "code",
   "execution_count": 6,
   "id": "e6b19755",
   "metadata": {},
   "outputs": [
    {
     "data": {
      "text/plain": [
       "147"
      ]
     },
     "execution_count": 6,
     "metadata": {},
     "output_type": "execute_result"
    }
   ],
   "source": [
    "df['CarName'].nunique()"
   ]
  },
  {
   "cell_type": "code",
   "execution_count": 7,
   "id": "1500a91c",
   "metadata": {},
   "outputs": [],
   "source": [
    "df['CarName'] = df['CarName'].str.split(' ',expand=True)[0].replace({\n",
    "    'maxda': 'mazda',\n",
    "    'nissan': 'Nissan',\n",
    "    'porcshce': 'porsche',\n",
    "    'toyouta': 'toyota', \n",
    "    'vokswagen': 'volkswagen',\n",
    "    'vw': 'volkswagen'\n",
    "})"
   ]
  },
  {
   "cell_type": "code",
   "execution_count": 8,
   "id": "cde5c5b9",
   "metadata": {},
   "outputs": [
    {
     "data": {
      "text/plain": [
       "22"
      ]
     },
     "execution_count": 8,
     "metadata": {},
     "output_type": "execute_result"
    }
   ],
   "source": [
    "df['CarName'].nunique()"
   ]
  },
  {
   "cell_type": "markdown",
   "id": "67e7d7a9",
   "metadata": {},
   "source": [
    "Выделяем признаки и целевую переменную."
   ]
  },
  {
   "cell_type": "code",
   "execution_count": 9,
   "id": "426cb452",
   "metadata": {},
   "outputs": [],
   "source": [
    "X = df.drop(columns=['price'])\n",
    "y = df['price']"
   ]
  },
  {
   "cell_type": "markdown",
   "id": "7b67a2e1",
   "metadata": {},
   "source": [
    "Используем способ \"One Hot Encoding\" для кодирования категориальных признаков."
   ]
  },
  {
   "cell_type": "code",
   "execution_count": 10,
   "id": "b7d264f5",
   "metadata": {},
   "outputs": [],
   "source": [
    "X = pd.get_dummies(X)"
   ]
  },
  {
   "cell_type": "markdown",
   "id": "a4c1c549",
   "metadata": {},
   "source": [
    "Разделяем выборку на обучающую и тестовую в соотношении 80% и 20%."
   ]
  },
  {
   "cell_type": "code",
   "execution_count": 11,
   "id": "5929ef7b",
   "metadata": {},
   "outputs": [],
   "source": [
    "X_train, X_test, y_train, y_test = train_test_split(\n",
    "    X, y, test_size=0.2)"
   ]
  },
  {
   "cell_type": "markdown",
   "id": "7065923f",
   "metadata": {},
   "source": [
    "## 4. Обучение моделей"
   ]
  },
  {
   "cell_type": "markdown",
   "id": "45e19ed3",
   "metadata": {},
   "source": [
    "В качестве классификаторов будем использовать логистическую регрессию, метод опорных векторов с гауссовым ядром, k ближайших соседей и многослойных перцептрон."
   ]
  },
  {
   "cell_type": "code",
   "execution_count": 12,
   "id": "087a19eb",
   "metadata": {},
   "outputs": [],
   "source": [
    "rgs = (\n",
    "    LinearRegression(),\n",
    "    DecisionTreeRegressor(),\n",
    "    RandomForestRegressor(),\n",
    "    GradientBoostingRegressor()\n",
    ")"
   ]
  },
  {
   "cell_type": "markdown",
   "id": "8bbb3e29",
   "metadata": {},
   "source": [
    "В качестве метрик качества будем использовать коэффициент детерминации, корень из средней квадратичной ошибки RMSE (root mean squared error), cреднюю абсолютную ошибку MAE (mean absolute error) и среднюю абсолютную процентную ошибку MAPE (mean absolute percentage error)."
   ]
  },
  {
   "cell_type": "code",
   "execution_count": 13,
   "id": "33d208e8",
   "metadata": {},
   "outputs": [],
   "source": [
    "scoring = {\n",
    "    'r2': make_scorer(r2_score),\n",
    "    'rmse': make_scorer(mean_squared_error, squared=False),\n",
    "    'mae': make_scorer(mean_absolute_error),\n",
    "    'mape': make_scorer(mean_absolute_percentage_error)\n",
    "}"
   ]
  },
  {
   "cell_type": "markdown",
   "id": "b0508f41",
   "metadata": {},
   "source": [
    "Для определения эффективности моделей будем считать усредненные метрики в процессе проведения кросс-валидации. Она необходима, чтобы понимать, насколько полученные метрики валидны и подобрать на их основании наиболее эффективную модель."
   ]
  },
  {
   "cell_type": "code",
   "execution_count": 14,
   "id": "a0db0456",
   "metadata": {},
   "outputs": [],
   "source": [
    "scores = {}\n",
    "for rg in rgs:\n",
    "    metrics = {\n",
    "        metric: values.mean()\n",
    "        for metric, values in cross_validate(\n",
    "            rg, X_train, y_train, scoring=scoring).items()\n",
    "    }\n",
    "    scores[type(rg).__name__] = metrics"
   ]
  },
  {
   "cell_type": "markdown",
   "id": "75611fdf",
   "metadata": {},
   "source": [
    "Наилучшие показатели метрик оказались у RandomForestRegressor и GradientBoostingRegressor: коэффициент детерминации R2 наиболее близок к 1, а ошибки минимальны. Однако, время обучения RandomForestRegressor значительно больше, чем у GradientBoostingRegressor. Поэтому выбираем GradientBoostingRegressor."
   ]
  },
  {
   "cell_type": "code",
   "execution_count": 15,
   "id": "bc76617e",
   "metadata": {},
   "outputs": [
    {
     "data": {
      "text/html": [
       "<div>\n",
       "<style scoped>\n",
       "    .dataframe tbody tr th:only-of-type {\n",
       "        vertical-align: middle;\n",
       "    }\n",
       "\n",
       "    .dataframe tbody tr th {\n",
       "        vertical-align: top;\n",
       "    }\n",
       "\n",
       "    .dataframe thead th {\n",
       "        text-align: right;\n",
       "    }\n",
       "</style>\n",
       "<table border=\"1\" class=\"dataframe\">\n",
       "  <thead>\n",
       "    <tr style=\"text-align: right;\">\n",
       "      <th></th>\n",
       "      <th>LinearRegression</th>\n",
       "      <th>DecisionTreeRegressor</th>\n",
       "      <th>RandomForestRegressor</th>\n",
       "      <th>GradientBoostingRegressor</th>\n",
       "    </tr>\n",
       "  </thead>\n",
       "  <tbody>\n",
       "    <tr>\n",
       "      <th>fit_time</th>\n",
       "      <td>0.007399</td>\n",
       "      <td>0.003601</td>\n",
       "      <td>0.198000</td>\n",
       "      <td>0.074194</td>\n",
       "    </tr>\n",
       "    <tr>\n",
       "      <th>score_time</th>\n",
       "      <td>0.003001</td>\n",
       "      <td>0.003200</td>\n",
       "      <td>0.012010</td>\n",
       "      <td>0.003000</td>\n",
       "    </tr>\n",
       "    <tr>\n",
       "      <th>test_r2</th>\n",
       "      <td>0.853163</td>\n",
       "      <td>0.842181</td>\n",
       "      <td>0.904592</td>\n",
       "      <td>0.904297</td>\n",
       "    </tr>\n",
       "    <tr>\n",
       "      <th>test_rmse</th>\n",
       "      <td>2965.985649</td>\n",
       "      <td>2965.521256</td>\n",
       "      <td>2276.259334</td>\n",
       "      <td>2263.999830</td>\n",
       "    </tr>\n",
       "    <tr>\n",
       "      <th>test_mae</th>\n",
       "      <td>2139.890707</td>\n",
       "      <td>1982.809316</td>\n",
       "      <td>1591.600617</td>\n",
       "      <td>1573.229577</td>\n",
       "    </tr>\n",
       "    <tr>\n",
       "      <th>test_mape</th>\n",
       "      <td>0.174069</td>\n",
       "      <td>0.139516</td>\n",
       "      <td>0.114120</td>\n",
       "      <td>0.115438</td>\n",
       "    </tr>\n",
       "  </tbody>\n",
       "</table>\n",
       "</div>"
      ],
      "text/plain": [
       "            LinearRegression  DecisionTreeRegressor  RandomForestRegressor  \\\n",
       "fit_time            0.007399               0.003601               0.198000   \n",
       "score_time          0.003001               0.003200               0.012010   \n",
       "test_r2             0.853163               0.842181               0.904592   \n",
       "test_rmse        2965.985649            2965.521256            2276.259334   \n",
       "test_mae         2139.890707            1982.809316            1591.600617   \n",
       "test_mape           0.174069               0.139516               0.114120   \n",
       "\n",
       "            GradientBoostingRegressor  \n",
       "fit_time                     0.074194  \n",
       "score_time                   0.003000  \n",
       "test_r2                      0.904297  \n",
       "test_rmse                 2263.999830  \n",
       "test_mae                  1573.229577  \n",
       "test_mape                    0.115438  "
      ]
     },
     "execution_count": 15,
     "metadata": {},
     "output_type": "execute_result"
    }
   ],
   "source": [
    "pd.DataFrame(scores)"
   ]
  },
  {
   "cell_type": "markdown",
   "id": "65e1791d",
   "metadata": {},
   "source": [
    "## 5. Построение итоговой модели"
   ]
  },
  {
   "cell_type": "markdown",
   "id": "4f037fe5",
   "metadata": {},
   "source": [
    "Обучим выбранную модель на тренировочных данных и сделаем предсказание на тестовых данных."
   ]
  },
  {
   "cell_type": "code",
   "execution_count": 16,
   "id": "c19ab74b",
   "metadata": {},
   "outputs": [],
   "source": [
    "rg = GradientBoostingRegressor().fit(X_train, y_train)\n",
    "y_pred = rg.predict(X_test)"
   ]
  },
  {
   "cell_type": "markdown",
   "id": "0b561a3c",
   "metadata": {},
   "source": [
    "Рассмотрим основные метрики эффективности: accuracy, precision, recall и f1."
   ]
  },
  {
   "cell_type": "code",
   "execution_count": 17,
   "id": "63e3e9bc",
   "metadata": {},
   "outputs": [
    {
     "data": {
      "text/plain": [
       "0.9142743501561925"
      ]
     },
     "execution_count": 17,
     "metadata": {},
     "output_type": "execute_result"
    }
   ],
   "source": [
    "r2_score(y_test, y_pred)"
   ]
  },
  {
   "cell_type": "code",
   "execution_count": 18,
   "id": "1a12ff92",
   "metadata": {},
   "outputs": [
    {
     "data": {
      "text/plain": [
       "1616.337016801345"
      ]
     },
     "execution_count": 18,
     "metadata": {},
     "output_type": "execute_result"
    }
   ],
   "source": [
    "mean_squared_error(y_test, y_pred, squared=False)"
   ]
  },
  {
   "cell_type": "code",
   "execution_count": 20,
   "id": "f230334e",
   "metadata": {},
   "outputs": [
    {
     "data": {
      "text/plain": [
       "1179.151268505089"
      ]
     },
     "execution_count": 20,
     "metadata": {},
     "output_type": "execute_result"
    }
   ],
   "source": [
    "mean_absolute_error(y_test, y_pred)"
   ]
  },
  {
   "cell_type": "code",
   "execution_count": 21,
   "id": "1bf9b596",
   "metadata": {},
   "outputs": [
    {
     "data": {
      "text/plain": [
       "0.10007382888397491"
      ]
     },
     "execution_count": 21,
     "metadata": {},
     "output_type": "execute_result"
    }
   ],
   "source": [
    "mean_absolute_percentage_error(y_test, y_pred)"
   ]
  },
  {
   "cell_type": "markdown",
   "id": "82142c28",
   "metadata": {},
   "source": [
    "Наблюдаются хорошие метрики, следовательно модель обучена хорошо. Обученная модель может быть применима в практических целях."
   ]
  },
  {
   "cell_type": "code",
   "execution_count": null,
   "id": "74785172",
   "metadata": {},
   "outputs": [],
   "source": []
  }
 ],
 "metadata": {
  "kernelspec": {
   "display_name": "Python 3 (ipykernel)",
   "language": "python",
   "name": "python3"
  },
  "language_info": {
   "codemirror_mode": {
    "name": "ipython",
    "version": 3
   },
   "file_extension": ".py",
   "mimetype": "text/x-python",
   "name": "python",
   "nbconvert_exporter": "python",
   "pygments_lexer": "ipython3",
   "version": "3.9.7"
  }
 },
 "nbformat": 4,
 "nbformat_minor": 5
}
