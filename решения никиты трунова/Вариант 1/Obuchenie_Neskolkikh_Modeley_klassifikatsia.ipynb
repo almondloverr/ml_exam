{
 "cells": [
  {
   "cell_type": "markdown",
   "id": "61a80b0f",
   "metadata": {},
   "source": [
    "# Трунов Никита\n",
    "## Билет 0"
   ]
  },
  {
   "cell_type": "markdown",
   "id": "70ff5109",
   "metadata": {},
   "source": [
    "## 1. Описание датасета и решаемой задачи "
   ]
  },
  {
   "cell_type": "markdown",
   "id": "09548c65",
   "metadata": {},
   "source": [
    "Датасет включает в себя описания гипотетических образцов, соответствующих 23 видам грибов семейства Agaricus и Lepiota. Каждый образец идентифицирован как съедобный или ядовитый. Решаемая задача - задача классифиции."
   ]
  },
  {
   "cell_type": "markdown",
   "id": "40f90189",
   "metadata": {},
   "source": [
    "## 2. Импорты"
   ]
  },
  {
   "cell_type": "code",
   "execution_count": 1,
   "id": "70a33204",
   "metadata": {},
   "outputs": [],
   "source": [
    "import pandas as pd\n",
    "from sklearn.model_selection import train_test_split, cross_validate\n",
    "from sklearn.metrics import (\n",
    "    make_scorer, accuracy_score, f1_score, precision_score,\n",
    "    recall_score, roc_curve, auc)\n",
    "from sklearn.linear_model import LogisticRegression\n",
    "from sklearn.svm import SVC\n",
    "from sklearn.neighbors import KNeighborsClassifier\n",
    "from sklearn.neural_network import MLPClassifier\n",
    "import matplotlib.pyplot as plt"
   ]
  },
  {
   "cell_type": "markdown",
   "id": "3e3495f7",
   "metadata": {},
   "source": [
    "## 3. Подготовительный этап"
   ]
  },
  {
   "cell_type": "markdown",
   "id": "03e44e61",
   "metadata": {},
   "source": [
    "Загружаем датасет в Python."
   ]
  },
  {
   "cell_type": "code",
   "execution_count": 2,
   "id": "03d507c5",
   "metadata": {
    "scrolled": true
   },
   "outputs": [
    {
     "data": {
      "text/html": [
       "<div>\n",
       "<style scoped>\n",
       "    .dataframe tbody tr th:only-of-type {\n",
       "        vertical-align: middle;\n",
       "    }\n",
       "\n",
       "    .dataframe tbody tr th {\n",
       "        vertical-align: top;\n",
       "    }\n",
       "\n",
       "    .dataframe thead th {\n",
       "        text-align: right;\n",
       "    }\n",
       "</style>\n",
       "<table border=\"1\" class=\"dataframe\">\n",
       "  <thead>\n",
       "    <tr style=\"text-align: right;\">\n",
       "      <th></th>\n",
       "      <th>class</th>\n",
       "      <th>cap-shape</th>\n",
       "      <th>cap-surface</th>\n",
       "      <th>cap-color</th>\n",
       "      <th>bruises</th>\n",
       "      <th>odor</th>\n",
       "      <th>gill-attachment</th>\n",
       "      <th>gill-spacing</th>\n",
       "      <th>gill-size</th>\n",
       "      <th>gill-color</th>\n",
       "      <th>...</th>\n",
       "      <th>stalk-surface-below-ring</th>\n",
       "      <th>stalk-color-above-ring</th>\n",
       "      <th>stalk-color-below-ring</th>\n",
       "      <th>veil-type</th>\n",
       "      <th>veil-color</th>\n",
       "      <th>ring-number</th>\n",
       "      <th>ring-type</th>\n",
       "      <th>spore-print-color</th>\n",
       "      <th>population</th>\n",
       "      <th>habitat</th>\n",
       "    </tr>\n",
       "  </thead>\n",
       "  <tbody>\n",
       "    <tr>\n",
       "      <th>0</th>\n",
       "      <td>p</td>\n",
       "      <td>x</td>\n",
       "      <td>s</td>\n",
       "      <td>n</td>\n",
       "      <td>t</td>\n",
       "      <td>p</td>\n",
       "      <td>f</td>\n",
       "      <td>c</td>\n",
       "      <td>n</td>\n",
       "      <td>k</td>\n",
       "      <td>...</td>\n",
       "      <td>s</td>\n",
       "      <td>w</td>\n",
       "      <td>w</td>\n",
       "      <td>p</td>\n",
       "      <td>w</td>\n",
       "      <td>o</td>\n",
       "      <td>p</td>\n",
       "      <td>k</td>\n",
       "      <td>s</td>\n",
       "      <td>u</td>\n",
       "    </tr>\n",
       "    <tr>\n",
       "      <th>1</th>\n",
       "      <td>e</td>\n",
       "      <td>x</td>\n",
       "      <td>s</td>\n",
       "      <td>y</td>\n",
       "      <td>t</td>\n",
       "      <td>a</td>\n",
       "      <td>f</td>\n",
       "      <td>c</td>\n",
       "      <td>b</td>\n",
       "      <td>k</td>\n",
       "      <td>...</td>\n",
       "      <td>s</td>\n",
       "      <td>w</td>\n",
       "      <td>w</td>\n",
       "      <td>p</td>\n",
       "      <td>w</td>\n",
       "      <td>o</td>\n",
       "      <td>p</td>\n",
       "      <td>n</td>\n",
       "      <td>n</td>\n",
       "      <td>g</td>\n",
       "    </tr>\n",
       "    <tr>\n",
       "      <th>2</th>\n",
       "      <td>e</td>\n",
       "      <td>b</td>\n",
       "      <td>s</td>\n",
       "      <td>w</td>\n",
       "      <td>t</td>\n",
       "      <td>l</td>\n",
       "      <td>f</td>\n",
       "      <td>c</td>\n",
       "      <td>b</td>\n",
       "      <td>n</td>\n",
       "      <td>...</td>\n",
       "      <td>s</td>\n",
       "      <td>w</td>\n",
       "      <td>w</td>\n",
       "      <td>p</td>\n",
       "      <td>w</td>\n",
       "      <td>o</td>\n",
       "      <td>p</td>\n",
       "      <td>n</td>\n",
       "      <td>n</td>\n",
       "      <td>m</td>\n",
       "    </tr>\n",
       "    <tr>\n",
       "      <th>3</th>\n",
       "      <td>p</td>\n",
       "      <td>x</td>\n",
       "      <td>y</td>\n",
       "      <td>w</td>\n",
       "      <td>t</td>\n",
       "      <td>p</td>\n",
       "      <td>f</td>\n",
       "      <td>c</td>\n",
       "      <td>n</td>\n",
       "      <td>n</td>\n",
       "      <td>...</td>\n",
       "      <td>s</td>\n",
       "      <td>w</td>\n",
       "      <td>w</td>\n",
       "      <td>p</td>\n",
       "      <td>w</td>\n",
       "      <td>o</td>\n",
       "      <td>p</td>\n",
       "      <td>k</td>\n",
       "      <td>s</td>\n",
       "      <td>u</td>\n",
       "    </tr>\n",
       "    <tr>\n",
       "      <th>4</th>\n",
       "      <td>e</td>\n",
       "      <td>x</td>\n",
       "      <td>s</td>\n",
       "      <td>g</td>\n",
       "      <td>f</td>\n",
       "      <td>n</td>\n",
       "      <td>f</td>\n",
       "      <td>w</td>\n",
       "      <td>b</td>\n",
       "      <td>k</td>\n",
       "      <td>...</td>\n",
       "      <td>s</td>\n",
       "      <td>w</td>\n",
       "      <td>w</td>\n",
       "      <td>p</td>\n",
       "      <td>w</td>\n",
       "      <td>o</td>\n",
       "      <td>e</td>\n",
       "      <td>n</td>\n",
       "      <td>a</td>\n",
       "      <td>g</td>\n",
       "    </tr>\n",
       "  </tbody>\n",
       "</table>\n",
       "<p>5 rows × 23 columns</p>\n",
       "</div>"
      ],
      "text/plain": [
       "  class cap-shape cap-surface cap-color bruises odor gill-attachment  \\\n",
       "0     p         x           s         n       t    p               f   \n",
       "1     e         x           s         y       t    a               f   \n",
       "2     e         b           s         w       t    l               f   \n",
       "3     p         x           y         w       t    p               f   \n",
       "4     e         x           s         g       f    n               f   \n",
       "\n",
       "  gill-spacing gill-size gill-color  ... stalk-surface-below-ring  \\\n",
       "0            c         n          k  ...                        s   \n",
       "1            c         b          k  ...                        s   \n",
       "2            c         b          n  ...                        s   \n",
       "3            c         n          n  ...                        s   \n",
       "4            w         b          k  ...                        s   \n",
       "\n",
       "  stalk-color-above-ring stalk-color-below-ring veil-type veil-color  \\\n",
       "0                      w                      w         p          w   \n",
       "1                      w                      w         p          w   \n",
       "2                      w                      w         p          w   \n",
       "3                      w                      w         p          w   \n",
       "4                      w                      w         p          w   \n",
       "\n",
       "  ring-number ring-type spore-print-color population habitat  \n",
       "0           o         p                 k          s       u  \n",
       "1           o         p                 n          n       g  \n",
       "2           o         p                 n          n       m  \n",
       "3           o         p                 k          s       u  \n",
       "4           o         e                 n          a       g  \n",
       "\n",
       "[5 rows x 23 columns]"
      ]
     },
     "execution_count": 2,
     "metadata": {},
     "output_type": "execute_result"
    }
   ],
   "source": [
    "df = pd.read_csv('mushrooms.csv')\n",
    "df.head()"
   ]
  },
  {
   "cell_type": "markdown",
   "id": "c7e91dea",
   "metadata": {},
   "source": [
    "Исходный датасет содержит 8124 точек данных и 23 переменные."
   ]
  },
  {
   "cell_type": "code",
   "execution_count": 3,
   "id": "b2ad7a7d",
   "metadata": {},
   "outputs": [
    {
     "data": {
      "text/plain": [
       "(8124, 23)"
      ]
     },
     "execution_count": 3,
     "metadata": {},
     "output_type": "execute_result"
    }
   ],
   "source": [
    "df.shape"
   ]
  },
  {
   "cell_type": "markdown",
   "id": "868f14f3",
   "metadata": {},
   "source": [
    "Отсутствующие значения в выборке не обнаружены."
   ]
  },
  {
   "cell_type": "code",
   "execution_count": 4,
   "id": "ae09530a",
   "metadata": {},
   "outputs": [
    {
     "data": {
      "text/plain": [
       "class                       0\n",
       "cap-shape                   0\n",
       "cap-surface                 0\n",
       "cap-color                   0\n",
       "bruises                     0\n",
       "odor                        0\n",
       "gill-attachment             0\n",
       "gill-spacing                0\n",
       "gill-size                   0\n",
       "gill-color                  0\n",
       "stalk-shape                 0\n",
       "stalk-root                  0\n",
       "stalk-surface-above-ring    0\n",
       "stalk-surface-below-ring    0\n",
       "stalk-color-above-ring      0\n",
       "stalk-color-below-ring      0\n",
       "veil-type                   0\n",
       "veil-color                  0\n",
       "ring-number                 0\n",
       "ring-type                   0\n",
       "spore-print-color           0\n",
       "population                  0\n",
       "habitat                     0\n",
       "dtype: int64"
      ]
     },
     "execution_count": 4,
     "metadata": {},
     "output_type": "execute_result"
    }
   ],
   "source": [
    "df.isna().sum()"
   ]
  },
  {
   "cell_type": "markdown",
   "id": "67e7d7a9",
   "metadata": {},
   "source": [
    "Выделяем признаки и целевую переменную."
   ]
  },
  {
   "cell_type": "code",
   "execution_count": 5,
   "id": "426cb452",
   "metadata": {},
   "outputs": [],
   "source": [
    "X = df.drop(columns=['class'])\n",
    "y = df['class']"
   ]
  },
  {
   "cell_type": "markdown",
   "id": "7b67a2e1",
   "metadata": {},
   "source": [
    "Используем способ \"One Hot Encoding\" для кодирования категориальных признаков."
   ]
  },
  {
   "cell_type": "code",
   "execution_count": 6,
   "id": "b7d264f5",
   "metadata": {},
   "outputs": [],
   "source": [
    "X = pd.get_dummies(X)"
   ]
  },
  {
   "cell_type": "markdown",
   "id": "a4c1c549",
   "metadata": {},
   "source": [
    "Разделяем выборку на обучающую и тестовую в соотношении 80% и 20%."
   ]
  },
  {
   "cell_type": "code",
   "execution_count": 7,
   "id": "5929ef7b",
   "metadata": {},
   "outputs": [],
   "source": [
    "X_train, X_test, y_train, y_test = train_test_split(\n",
    "    X, y, test_size=0.2)"
   ]
  },
  {
   "cell_type": "markdown",
   "id": "7065923f",
   "metadata": {},
   "source": [
    "## 4. Обучение моделей"
   ]
  },
  {
   "cell_type": "markdown",
   "id": "45e19ed3",
   "metadata": {},
   "source": [
    "В качестве классификаторов будем использовать логистическую регрессию, метод опорных векторов с гауссовым ядром, k ближайших соседей и многослойных перцептрон."
   ]
  },
  {
   "cell_type": "code",
   "execution_count": 8,
   "id": "087a19eb",
   "metadata": {},
   "outputs": [],
   "source": [
    "clfs = (\n",
    "    LogisticRegression(),\n",
    "    SVC(probability=True),\n",
    "    KNeighborsClassifier(),\n",
    "    MLPClassifier()\n",
    ")"
   ]
  },
  {
   "cell_type": "markdown",
   "id": "dca8587f",
   "metadata": {},
   "source": [
    "***Внимание! ROC-AUC строится только для бинарной классификации.***"
   ]
  },
  {
   "cell_type": "markdown",
   "id": "5dfa3d6f",
   "metadata": {},
   "source": [
    "Построим ROC-кривые и определим прощадь под ними (AUC). Все модели имеют отличные показатели."
   ]
  },
  {
   "cell_type": "code",
   "execution_count": 9,
   "id": "1a382262",
   "metadata": {},
   "outputs": [
    {
     "data": {
      "image/png": "[encoded data removed]",
      "text/plain": [
       "<Figure size 432x288 with 1 Axes>"
      ]
     },
     "metadata": {
      "needs_background": "light"
     },
     "output_type": "display_data"
    },
    {
     "data": {
      "image/png": "[encoded data removed]",
      "text/plain": [
       "<Figure size 432x288 with 1 Axes>"
      ]
     },
     "metadata": {
      "needs_background": "light"
     },
     "output_type": "display_data"
    },
    {
     "data": {
      "image/png": "[encoded data removed]",
      "text/plain": [
       "<Figure size 432x288 with 1 Axes>"
      ]
     },
     "metadata": {
      "needs_background": "light"
     },
     "output_type": "display_data"
    },
    {
     "data": {
      "image/png": "[encoded data removed]",
      "text/plain": [
       "<Figure size 432x288 with 1 Axes>"
      ]
     },
     "metadata": {
      "needs_background": "light"
     },
     "output_type": "display_data"
    }
   ],
   "source": [
    "for clf in clfs:\n",
    "    clf.fit(X_train, y_train)\n",
    "    fpr, tpr, treshold = roc_curve(\n",
    "        y_test, clf.predict_proba(X_test)[:, 1], pos_label='p')\n",
    "    plt.plot(fpr, tpr, label=f'{str(clf)} (AUC = {auc(fpr, tpr)})')\n",
    "    plt.xlabel('False Positive Rate')\n",
    "    plt.ylabel('True Positive Rate')\n",
    "    plt.title('ROC-curve')\n",
    "    plt.legend()\n",
    "    plt.show()"
   ]
  },
  {
   "cell_type": "markdown",
   "id": "8bbb3e29",
   "metadata": {},
   "source": [
    "В качестве метрик качества будем использовать accuracy, precision, recall и f1."
   ]
  },
  {
   "cell_type": "code",
   "execution_count": 10,
   "id": "33d208e8",
   "metadata": {},
   "outputs": [],
   "source": [
    "scoring = {\n",
    "    'accuracy': make_scorer(accuracy_score),\n",
    "    'precision': make_scorer(precision_score, pos_label='p'),\n",
    "    'recall': make_scorer(recall_score, pos_label='p'),\n",
    "    'f1': make_scorer(f1_score, pos_label='p')\n",
    "}"
   ]
  },
  {
   "cell_type": "markdown",
   "id": "b0508f41",
   "metadata": {},
   "source": [
    "Для определения эффективности моделей будем считать усредненные метрики в процессе проведения кросс-валидации. Она необходима, чтобы понимать, насколько полученные метрики валидны и подобрать на их основании наиболее эффективную модель."
   ]
  },
  {
   "cell_type": "code",
   "execution_count": 11,
   "id": "a0db0456",
   "metadata": {},
   "outputs": [],
   "source": [
    "scores = {}\n",
    "for clf in clfs:\n",
    "    metrics = {\n",
    "        metric: values.mean()\n",
    "        for metric, values in cross_validate(\n",
    "            clf, X_train, y_train, scoring=scoring).items()\n",
    "    }\n",
    "    scores[type(clf).__name__] = metrics"
   ]
  },
  {
   "cell_type": "markdown",
   "id": "75611fdf",
   "metadata": {},
   "source": [
    "Все модели показывают отличные результаты, поэтому в данном случае стоит основываться на времени обучения. Быстрее всего обучилась модель KNeighborsClassifier."
   ]
  },
  {
   "cell_type": "code",
   "execution_count": 12,
   "id": "bc76617e",
   "metadata": {},
   "outputs": [
    {
     "data": {
      "text/html": [
       "<div>\n",
       "<style scoped>\n",
       "    .dataframe tbody tr th:only-of-type {\n",
       "        vertical-align: middle;\n",
       "    }\n",
       "\n",
       "    .dataframe tbody tr th {\n",
       "        vertical-align: top;\n",
       "    }\n",
       "\n",
       "    .dataframe thead th {\n",
       "        text-align: right;\n",
       "    }\n",
       "</style>\n",
       "<table border=\"1\" class=\"dataframe\">\n",
       "  <thead>\n",
       "    <tr style=\"text-align: right;\">\n",
       "      <th></th>\n",
       "      <th>LogisticRegression</th>\n",
       "      <th>SVC</th>\n",
       "      <th>KNeighborsClassifier</th>\n",
       "      <th>MLPClassifier</th>\n",
       "    </tr>\n",
       "  </thead>\n",
       "  <tbody>\n",
       "    <tr>\n",
       "      <th>fit_time</th>\n",
       "      <td>0.062802</td>\n",
       "      <td>2.897230</td>\n",
       "      <td>0.011397</td>\n",
       "      <td>0.959801</td>\n",
       "    </tr>\n",
       "    <tr>\n",
       "      <th>score_time</th>\n",
       "      <td>0.022198</td>\n",
       "      <td>0.165389</td>\n",
       "      <td>0.204801</td>\n",
       "      <td>0.020799</td>\n",
       "    </tr>\n",
       "    <tr>\n",
       "      <th>test_accuracy</th>\n",
       "      <td>1.000000</td>\n",
       "      <td>1.000000</td>\n",
       "      <td>1.000000</td>\n",
       "      <td>1.000000</td>\n",
       "    </tr>\n",
       "    <tr>\n",
       "      <th>test_precision</th>\n",
       "      <td>1.000000</td>\n",
       "      <td>1.000000</td>\n",
       "      <td>1.000000</td>\n",
       "      <td>1.000000</td>\n",
       "    </tr>\n",
       "    <tr>\n",
       "      <th>test_recall</th>\n",
       "      <td>1.000000</td>\n",
       "      <td>1.000000</td>\n",
       "      <td>1.000000</td>\n",
       "      <td>1.000000</td>\n",
       "    </tr>\n",
       "    <tr>\n",
       "      <th>test_f1</th>\n",
       "      <td>1.000000</td>\n",
       "      <td>1.000000</td>\n",
       "      <td>1.000000</td>\n",
       "      <td>1.000000</td>\n",
       "    </tr>\n",
       "  </tbody>\n",
       "</table>\n",
       "</div>"
      ],
      "text/plain": [
       "                LogisticRegression       SVC  KNeighborsClassifier  \\\n",
       "fit_time                  0.062802  2.897230              0.011397   \n",
       "score_time                0.022198  0.165389              0.204801   \n",
       "test_accuracy             1.000000  1.000000              1.000000   \n",
       "test_precision            1.000000  1.000000              1.000000   \n",
       "test_recall               1.000000  1.000000              1.000000   \n",
       "test_f1                   1.000000  1.000000              1.000000   \n",
       "\n",
       "                MLPClassifier  \n",
       "fit_time             0.959801  \n",
       "score_time           0.020799  \n",
       "test_accuracy        1.000000  \n",
       "test_precision       1.000000  \n",
       "test_recall          1.000000  \n",
       "test_f1              1.000000  "
      ]
     },
     "execution_count": 12,
     "metadata": {},
     "output_type": "execute_result"
    }
   ],
   "source": [
    "pd.DataFrame(scores)"
   ]
  },
  {
   "cell_type": "markdown",
   "id": "65e1791d",
   "metadata": {},
   "source": [
    "## 5. Построение итоговой модели"
   ]
  },
  {
   "cell_type": "markdown",
   "id": "4f037fe5",
   "metadata": {},
   "source": [
    "Обучим выбранную модель на тренировочных данных и сделаем предсказание на тестовых данных."
   ]
  },
  {
   "cell_type": "code",
   "execution_count": 13,
   "id": "c19ab74b",
   "metadata": {},
   "outputs": [],
   "source": [
    "clf = KNeighborsClassifier().fit(X_train, y_train)\n",
    "y_pred = clf.predict(X_test)"
   ]
  },
  {
   "cell_type": "markdown",
   "id": "0b561a3c",
   "metadata": {},
   "source": [
    "Рассмотрим основные метрики эффективности: accuracy, precision, recall и f1."
   ]
  },
  {
   "cell_type": "code",
   "execution_count": 14,
   "id": "63e3e9bc",
   "metadata": {},
   "outputs": [
    {
     "data": {
      "text/plain": [
       "1.0"
      ]
     },
     "execution_count": 14,
     "metadata": {},
     "output_type": "execute_result"
    }
   ],
   "source": [
    "accuracy_score(y_test, y_pred)"
   ]
  },
  {
   "cell_type": "code",
   "execution_count": 15,
   "id": "1a12ff92",
   "metadata": {},
   "outputs": [
    {
     "data": {
      "text/plain": [
       "1.0"
      ]
     },
     "execution_count": 15,
     "metadata": {},
     "output_type": "execute_result"
    }
   ],
   "source": [
    "precision_score(y_test, y_pred, pos_label='p')"
   ]
  },
  {
   "cell_type": "code",
   "execution_count": 16,
   "id": "f230334e",
   "metadata": {},
   "outputs": [
    {
     "data": {
      "text/plain": [
       "1.0"
      ]
     },
     "execution_count": 16,
     "metadata": {},
     "output_type": "execute_result"
    }
   ],
   "source": [
    "recall_score(y_test, y_pred, pos_label='p')"
   ]
  },
  {
   "cell_type": "code",
   "execution_count": 17,
   "id": "eac94605",
   "metadata": {},
   "outputs": [
    {
     "data": {
      "text/plain": [
       "1.0"
      ]
     },
     "execution_count": 17,
     "metadata": {},
     "output_type": "execute_result"
    }
   ],
   "source": [
    "f1_score(y_test, y_pred, pos_label='p')"
   ]
  },
  {
   "cell_type": "markdown",
   "id": "82142c28",
   "metadata": {},
   "source": [
    "Наблюдаются отличные метрики, следовательно модель обучена отлично. Обученная модель может быть применима в практических целях."
   ]
  },
  {
   "cell_type": "code",
   "execution_count": null,
   "id": "e5bef2d2",
   "metadata": {},
   "outputs": [],
   "source": []
  }
 ],
 "metadata": {
  "kernelspec": {
   "display_name": "Python 3 (ipykernel)",
   "language": "python",
   "name": "python3"
  },
  "language_info": {
   "codemirror_mode": {
    "name": "ipython",
    "version": 3
   },
   "file_extension": ".py",
   "mimetype": "text/x-python",
   "name": "python",
   "nbconvert_exporter": "python",
   "pygments_lexer": "ipython3",
   "version": "3.9.7"
  }
 },
 "nbformat": 4,
 "nbformat_minor": 5
}
