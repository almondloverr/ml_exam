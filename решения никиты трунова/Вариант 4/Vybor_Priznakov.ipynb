{
 "cells": [
  {
   "cell_type": "markdown",
   "id": "7d128a95",
   "metadata": {},
   "source": [
    "https://newtechaudit.ru/sozdanie-novyh-priznakov-dlya-povysheniya-kachestva-mashinnogo-obucheniya/"
   ]
  },
  {
   "cell_type": "markdown",
   "id": "5aaf5052",
   "metadata": {},
   "source": [
    "https://newtechaudit.ru/razrabotka-priznakov/#:~:text=%D0%9F%D0%BE%D0%BB%D0%B8%D0%BD%D0%BE%D0%BC%D0%B8%D0%B0%D0%BB%D1%8C%D0%BD%D1%8B%D0%B5%20%D0%BF%D1%80%D0%B8%D0%B7%D0%BD%D0%B0%D0%BA%D0%B8,-%D0%9E%D0%B4%D0%BD%D0%B8%D0%BC%20%D0%B8%D0%B7%20%D0%BF%D1%80%D0%BE%D1%81%D1%82%D1%8B%D1%85&text=%D0%AD%D1%82%D0%B8%20%D0%BF%D1%80%D0%B8%D0%B7%D0%BD%D0%B0%D0%BA%D0%B8%2C%20%D0%BF%D1%80%D0%B5%D0%B4%D1%81%D1%82%D0%B0%D0%B2%D0%BB%D1%8F%D1%8E%D1%89%D0%B8%D0%B5%20%D1%81%D0%BE%D0%B1%D0%BE%D0%B9%20%D0%BA%D0%BE%D0%BC%D0%B1%D0%B8%D0%BD%D0%B0%D1%86%D0%B8%D1%8E,%D0%BE%D0%BD%D0%B8%20%D1%84%D0%B8%D0%BA%D1%81%D0%B8%D1%80%D1%83%D1%8E%D1%82%20%D0%B2%D0%B7%D0%B0%D0%B8%D0%BC%D0%BE%D0%B4%D0%B5%D0%B9%D1%81%D1%82%D0%B2%D0%B8%D1%8F%20%D0%BC%D0%B5%D0%B6%D0%B4%D1%83%20%D0%BF%D0%B5%D1%80%D0%B5%D0%BC%D0%B5%D0%BD%D0%BD%D1%8B%D0%BC%D0%B8."
   ]
  },
  {
   "cell_type": "markdown",
   "id": "e1739662",
   "metadata": {},
   "source": [
    "# Трунов Никита,\n",
    "# Билет 0"
   ]
  },
  {
   "cell_type": "markdown",
   "id": "253b2887",
   "metadata": {},
   "source": [
    "## Описание датасета"
   ]
  },
  {
   "cell_type": "markdown",
   "id": "32264dd7",
   "metadata": {},
   "source": [
    "Датасет представляет собой набор данных об оттоке клиентов компании Orange Telecom. Датасет содержит очищенные данных об активности клиентов, а также информацию о том, отменил ли клиент подписку. Решаемая задача - задача классификации."
   ]
  },
  {
   "cell_type": "markdown",
   "id": "e2840115",
   "metadata": {},
   "source": [
    "## Импорты"
   ]
  },
  {
   "cell_type": "code",
   "execution_count": 1,
   "id": "d1f38703",
   "metadata": {},
   "outputs": [],
   "source": [
    "import warnings\n",
    "import pandas as pd\n",
    "from sklearn.preprocessing import PolynomialFeatures\n",
    "from sklearn.feature_selection import (\n",
    "    VarianceThreshold,\n",
    "    SelectFromModel,\n",
    "    RFE,\n",
    "    SequentialFeatureSelector,\n",
    "    SelectKBest,\n",
    "    chi2,\n",
    "    f_classif\n",
    ")\n",
    "from sklearn.model_selection import train_test_split, cross_validate\n",
    "from sklearn.metrics import (\n",
    "    make_scorer,\n",
    "    accuracy_score,\n",
    "    f1_score,\n",
    "    precision_score,\n",
    "    recall_score\n",
    ")\n",
    "from sklearn.neighbors import KNeighborsClassifier\n",
    "from sklearn.linear_model import LogisticRegression\n",
    "from sklearn.ensemble import RandomForestClassifier"
   ]
  },
  {
   "cell_type": "code",
   "execution_count": 2,
   "id": "842c49df",
   "metadata": {},
   "outputs": [],
   "source": [
    "warnings.filterwarnings(\"ignore\")"
   ]
  },
  {
   "cell_type": "markdown",
   "id": "88c4b786",
   "metadata": {},
   "source": [
    "## Загрузка датасета"
   ]
  },
  {
   "cell_type": "code",
   "execution_count": 3,
   "id": "574d2d0a",
   "metadata": {},
   "outputs": [
    {
     "data": {
      "text/html": [
       "<div>\n",
       "<style scoped>\n",
       "    .dataframe tbody tr th:only-of-type {\n",
       "        vertical-align: middle;\n",
       "    }\n",
       "\n",
       "    .dataframe tbody tr th {\n",
       "        vertical-align: top;\n",
       "    }\n",
       "\n",
       "    .dataframe thead th {\n",
       "        text-align: right;\n",
       "    }\n",
       "</style>\n",
       "<table border=\"1\" class=\"dataframe\">\n",
       "  <thead>\n",
       "    <tr style=\"text-align: right;\">\n",
       "      <th></th>\n",
       "      <th>State</th>\n",
       "      <th>Account length</th>\n",
       "      <th>Area code</th>\n",
       "      <th>International plan</th>\n",
       "      <th>Voice mail plan</th>\n",
       "      <th>Number vmail messages</th>\n",
       "      <th>Total day minutes</th>\n",
       "      <th>Total day calls</th>\n",
       "      <th>Total day charge</th>\n",
       "      <th>Total eve minutes</th>\n",
       "      <th>Total eve calls</th>\n",
       "      <th>Total eve charge</th>\n",
       "      <th>Total night minutes</th>\n",
       "      <th>Total night calls</th>\n",
       "      <th>Total night charge</th>\n",
       "      <th>Total intl minutes</th>\n",
       "      <th>Total intl calls</th>\n",
       "      <th>Total intl charge</th>\n",
       "      <th>Customer service calls</th>\n",
       "      <th>Churn</th>\n",
       "    </tr>\n",
       "  </thead>\n",
       "  <tbody>\n",
       "    <tr>\n",
       "      <th>0</th>\n",
       "      <td>KS</td>\n",
       "      <td>128</td>\n",
       "      <td>415</td>\n",
       "      <td>No</td>\n",
       "      <td>Yes</td>\n",
       "      <td>25</td>\n",
       "      <td>265.1</td>\n",
       "      <td>110</td>\n",
       "      <td>45.07</td>\n",
       "      <td>197.4</td>\n",
       "      <td>99</td>\n",
       "      <td>16.78</td>\n",
       "      <td>244.7</td>\n",
       "      <td>91</td>\n",
       "      <td>11.01</td>\n",
       "      <td>10.0</td>\n",
       "      <td>3</td>\n",
       "      <td>2.70</td>\n",
       "      <td>1</td>\n",
       "      <td>False</td>\n",
       "    </tr>\n",
       "    <tr>\n",
       "      <th>1</th>\n",
       "      <td>OH</td>\n",
       "      <td>107</td>\n",
       "      <td>415</td>\n",
       "      <td>No</td>\n",
       "      <td>Yes</td>\n",
       "      <td>26</td>\n",
       "      <td>161.6</td>\n",
       "      <td>123</td>\n",
       "      <td>27.47</td>\n",
       "      <td>195.5</td>\n",
       "      <td>103</td>\n",
       "      <td>16.62</td>\n",
       "      <td>254.4</td>\n",
       "      <td>103</td>\n",
       "      <td>11.45</td>\n",
       "      <td>13.7</td>\n",
       "      <td>3</td>\n",
       "      <td>3.70</td>\n",
       "      <td>1</td>\n",
       "      <td>False</td>\n",
       "    </tr>\n",
       "    <tr>\n",
       "      <th>2</th>\n",
       "      <td>NJ</td>\n",
       "      <td>137</td>\n",
       "      <td>415</td>\n",
       "      <td>No</td>\n",
       "      <td>No</td>\n",
       "      <td>0</td>\n",
       "      <td>243.4</td>\n",
       "      <td>114</td>\n",
       "      <td>41.38</td>\n",
       "      <td>121.2</td>\n",
       "      <td>110</td>\n",
       "      <td>10.30</td>\n",
       "      <td>162.6</td>\n",
       "      <td>104</td>\n",
       "      <td>7.32</td>\n",
       "      <td>12.2</td>\n",
       "      <td>5</td>\n",
       "      <td>3.29</td>\n",
       "      <td>0</td>\n",
       "      <td>False</td>\n",
       "    </tr>\n",
       "    <tr>\n",
       "      <th>3</th>\n",
       "      <td>OH</td>\n",
       "      <td>84</td>\n",
       "      <td>408</td>\n",
       "      <td>Yes</td>\n",
       "      <td>No</td>\n",
       "      <td>0</td>\n",
       "      <td>299.4</td>\n",
       "      <td>71</td>\n",
       "      <td>50.90</td>\n",
       "      <td>61.9</td>\n",
       "      <td>88</td>\n",
       "      <td>5.26</td>\n",
       "      <td>196.9</td>\n",
       "      <td>89</td>\n",
       "      <td>8.86</td>\n",
       "      <td>6.6</td>\n",
       "      <td>7</td>\n",
       "      <td>1.78</td>\n",
       "      <td>2</td>\n",
       "      <td>False</td>\n",
       "    </tr>\n",
       "    <tr>\n",
       "      <th>4</th>\n",
       "      <td>OK</td>\n",
       "      <td>75</td>\n",
       "      <td>415</td>\n",
       "      <td>Yes</td>\n",
       "      <td>No</td>\n",
       "      <td>0</td>\n",
       "      <td>166.7</td>\n",
       "      <td>113</td>\n",
       "      <td>28.34</td>\n",
       "      <td>148.3</td>\n",
       "      <td>122</td>\n",
       "      <td>12.61</td>\n",
       "      <td>186.9</td>\n",
       "      <td>121</td>\n",
       "      <td>8.41</td>\n",
       "      <td>10.1</td>\n",
       "      <td>3</td>\n",
       "      <td>2.73</td>\n",
       "      <td>3</td>\n",
       "      <td>False</td>\n",
       "    </tr>\n",
       "  </tbody>\n",
       "</table>\n",
       "</div>"
      ],
      "text/plain": [
       "  State  Account length  Area code International plan Voice mail plan  \\\n",
       "0    KS             128        415                 No             Yes   \n",
       "1    OH             107        415                 No             Yes   \n",
       "2    NJ             137        415                 No              No   \n",
       "3    OH              84        408                Yes              No   \n",
       "4    OK              75        415                Yes              No   \n",
       "\n",
       "   Number vmail messages  Total day minutes  Total day calls  \\\n",
       "0                     25              265.1              110   \n",
       "1                     26              161.6              123   \n",
       "2                      0              243.4              114   \n",
       "3                      0              299.4               71   \n",
       "4                      0              166.7              113   \n",
       "\n",
       "   Total day charge  Total eve minutes  Total eve calls  Total eve charge  \\\n",
       "0             45.07              197.4               99             16.78   \n",
       "1             27.47              195.5              103             16.62   \n",
       "2             41.38              121.2              110             10.30   \n",
       "3             50.90               61.9               88              5.26   \n",
       "4             28.34              148.3              122             12.61   \n",
       "\n",
       "   Total night minutes  Total night calls  Total night charge  \\\n",
       "0                244.7                 91               11.01   \n",
       "1                254.4                103               11.45   \n",
       "2                162.6                104                7.32   \n",
       "3                196.9                 89                8.86   \n",
       "4                186.9                121                8.41   \n",
       "\n",
       "   Total intl minutes  Total intl calls  Total intl charge  \\\n",
       "0                10.0                 3               2.70   \n",
       "1                13.7                 3               3.70   \n",
       "2                12.2                 5               3.29   \n",
       "3                 6.6                 7               1.78   \n",
       "4                10.1                 3               2.73   \n",
       "\n",
       "   Customer service calls  Churn  \n",
       "0                       1  False  \n",
       "1                       1  False  \n",
       "2                       0  False  \n",
       "3                       2  False  \n",
       "4                       3  False  "
      ]
     },
     "execution_count": 3,
     "metadata": {},
     "output_type": "execute_result"
    }
   ],
   "source": [
    "df = pd.read_csv('churn-bigml-80.csv').append(\n",
    "    pd.read_csv('churn-bigml-20.csv')\n",
    ")\n",
    "df.head()"
   ]
  },
  {
   "cell_type": "markdown",
   "id": "330e4424",
   "metadata": {},
   "source": [
    "## Анализ и обработка данных"
   ]
  },
  {
   "cell_type": "markdown",
   "id": "20887046",
   "metadata": {},
   "source": [
    "### Общие характеристики датасета"
   ]
  },
  {
   "cell_type": "code",
   "execution_count": 4,
   "id": "a64298f7",
   "metadata": {},
   "outputs": [
    {
     "name": "stdout",
     "output_type": "stream",
     "text": [
      "<class 'pandas.core.frame.DataFrame'>\n",
      "Int64Index: 3333 entries, 0 to 666\n",
      "Data columns (total 20 columns):\n",
      " #   Column                  Non-Null Count  Dtype  \n",
      "---  ------                  --------------  -----  \n",
      " 0   State                   3333 non-null   object \n",
      " 1   Account length          3333 non-null   int64  \n",
      " 2   Area code               3333 non-null   int64  \n",
      " 3   International plan      3333 non-null   object \n",
      " 4   Voice mail plan         3333 non-null   object \n",
      " 5   Number vmail messages   3333 non-null   int64  \n",
      " 6   Total day minutes       3333 non-null   float64\n",
      " 7   Total day calls         3333 non-null   int64  \n",
      " 8   Total day charge        3333 non-null   float64\n",
      " 9   Total eve minutes       3333 non-null   float64\n",
      " 10  Total eve calls         3333 non-null   int64  \n",
      " 11  Total eve charge        3333 non-null   float64\n",
      " 12  Total night minutes     3333 non-null   float64\n",
      " 13  Total night calls       3333 non-null   int64  \n",
      " 14  Total night charge      3333 non-null   float64\n",
      " 15  Total intl minutes      3333 non-null   float64\n",
      " 16  Total intl calls        3333 non-null   int64  \n",
      " 17  Total intl charge       3333 non-null   float64\n",
      " 18  Customer service calls  3333 non-null   int64  \n",
      " 19  Churn                   3333 non-null   bool   \n",
      "dtypes: bool(1), float64(8), int64(8), object(3)\n",
      "memory usage: 524.0+ KB\n"
     ]
    }
   ],
   "source": [
    "df.info()"
   ]
  },
  {
   "cell_type": "code",
   "execution_count": 5,
   "id": "fc7c5ca9",
   "metadata": {},
   "outputs": [
    {
     "data": {
      "text/plain": [
       "(3333, 20)"
      ]
     },
     "execution_count": 5,
     "metadata": {},
     "output_type": "execute_result"
    }
   ],
   "source": [
    "df.shape"
   ]
  },
  {
   "cell_type": "markdown",
   "id": "3d584fff",
   "metadata": {},
   "source": [
    "Исходный датасет содержит 3333 точек данных и 20 переменных."
   ]
  },
  {
   "cell_type": "markdown",
   "id": "44d59d5b",
   "metadata": {},
   "source": [
    "### Обработка пропусков"
   ]
  },
  {
   "cell_type": "code",
   "execution_count": 6,
   "id": "5632bc7b",
   "metadata": {},
   "outputs": [
    {
     "data": {
      "text/plain": [
       "State                     0\n",
       "Account length            0\n",
       "Area code                 0\n",
       "International plan        0\n",
       "Voice mail plan           0\n",
       "Number vmail messages     0\n",
       "Total day minutes         0\n",
       "Total day calls           0\n",
       "Total day charge          0\n",
       "Total eve minutes         0\n",
       "Total eve calls           0\n",
       "Total eve charge          0\n",
       "Total night minutes       0\n",
       "Total night calls         0\n",
       "Total night charge        0\n",
       "Total intl minutes        0\n",
       "Total intl calls          0\n",
       "Total intl charge         0\n",
       "Customer service calls    0\n",
       "Churn                     0\n",
       "dtype: int64"
      ]
     },
     "execution_count": 6,
     "metadata": {},
     "output_type": "execute_result"
    }
   ],
   "source": [
    "df.isna().sum()"
   ]
  },
  {
   "cell_type": "markdown",
   "id": "8c6d48ee",
   "metadata": {},
   "source": [
    "Отсутствующие значения в выборке не обнаружены."
   ]
  },
  {
   "cell_type": "markdown",
   "id": "96894586",
   "metadata": {},
   "source": [
    "### Выделение признаков и целевой переменной"
   ]
  },
  {
   "cell_type": "code",
   "execution_count": 7,
   "id": "b0152d61",
   "metadata": {},
   "outputs": [],
   "source": [
    "X = df.drop(columns=['Churn'])\n",
    "y = df['Churn']"
   ]
  },
  {
   "cell_type": "markdown",
   "id": "f93fc317",
   "metadata": {},
   "source": [
    "### Кодирование категориальных признаков"
   ]
  },
  {
   "cell_type": "code",
   "execution_count": 8,
   "id": "2c0342b8",
   "metadata": {},
   "outputs": [],
   "source": [
    "X = pd.get_dummies(X)"
   ]
  },
  {
   "cell_type": "markdown",
   "id": "1adf5f88",
   "metadata": {},
   "source": [
    "Используем способ \"One Hot Encoding\" для кодирования категориальных признаков."
   ]
  },
  {
   "cell_type": "code",
   "execution_count": 9,
   "id": "8afe84c4",
   "metadata": {},
   "outputs": [
    {
     "data": {
      "text/plain": [
       "(3333, 71)"
      ]
     },
     "execution_count": 9,
     "metadata": {},
     "output_type": "execute_result"
    }
   ],
   "source": [
    "X.shape"
   ]
  },
  {
   "cell_type": "markdown",
   "id": "7eb86fb2",
   "metadata": {},
   "source": [
    "В результате получаем 71 признак."
   ]
  },
  {
   "cell_type": "markdown",
   "id": "60ae1e88",
   "metadata": {},
   "source": [
    "### Разделение выборки на обучающую и тестовую"
   ]
  },
  {
   "cell_type": "code",
   "execution_count": 10,
   "id": "6bf6c79d",
   "metadata": {},
   "outputs": [],
   "source": [
    "X_train, X_test, y_train, y_test = train_test_split(\n",
    "    X, y, test_size=0.2)"
   ]
  },
  {
   "cell_type": "markdown",
   "id": "da5b6e1a",
   "metadata": {},
   "source": [
    "Разделяем выборку на обучающую и тестовую в соотношении 80% и 20%."
   ]
  },
  {
   "cell_type": "markdown",
   "id": "32546259",
   "metadata": {},
   "source": [
    "## Обучение модели"
   ]
  },
  {
   "cell_type": "code",
   "execution_count": 11,
   "id": "340fe127",
   "metadata": {},
   "outputs": [],
   "source": [
    "clf = KNeighborsClassifier()"
   ]
  },
  {
   "cell_type": "markdown",
   "id": "2d09f517",
   "metadata": {},
   "source": [
    "В качестве классификатора будем использовать метод k ближайших соседей."
   ]
  },
  {
   "cell_type": "code",
   "execution_count": 12,
   "id": "d3dd13e4",
   "metadata": {},
   "outputs": [],
   "source": [
    "scoring = {\n",
    "    'accuracy': make_scorer(accuracy_score),\n",
    "    'precision': make_scorer(precision_score, pos_label=True),\n",
    "    'recall': make_scorer(recall_score, pos_label=True),\n",
    "    'f1': make_scorer(f1_score, pos_label=True)\n",
    "}"
   ]
  },
  {
   "cell_type": "markdown",
   "id": "8454a3b0",
   "metadata": {},
   "source": [
    "В качестве метрик качества будем использовать accuracy, precision, recall и f1."
   ]
  },
  {
   "cell_type": "code",
   "execution_count": 13,
   "id": "a4459661",
   "metadata": {},
   "outputs": [],
   "source": [
    "def get_cv_metrics(estimator, X, y, scoring):\n",
    "    return pd.Series({\n",
    "        metric: values.mean()\n",
    "        for metric, values in cross_validate(\n",
    "            estimator, X, y, scoring=scoring).items()\n",
    "    }, name=f'{type(estimator).__name__}')"
   ]
  },
  {
   "cell_type": "markdown",
   "id": "11a0ee2a",
   "metadata": {},
   "source": [
    "Для определения эффективности модели будем считать усредненные метрики в процессе проведения кросс-валидации. Она необходима, чтобы понимать, насколько полученные метрики валидны и подобрать на их основании наиболее эффективную модель."
   ]
  },
  {
   "cell_type": "code",
   "execution_count": 14,
   "id": "ab21f85f",
   "metadata": {},
   "outputs": [
    {
     "data": {
      "text/plain": [
       "fit_time          0.005200\n",
       "score_time        0.093799\n",
       "test_accuracy     0.869846\n",
       "test_precision    0.672392\n",
       "test_recall       0.244430\n",
       "test_f1           0.356811\n",
       "Name: KNeighborsClassifier, dtype: float64"
      ]
     },
     "execution_count": 14,
     "metadata": {},
     "output_type": "execute_result"
    }
   ],
   "source": [
    "get_cv_metrics(clf, X_train, y_train, scoring)"
   ]
  },
  {
   "cell_type": "markdown",
   "id": "70629df5",
   "metadata": {},
   "source": [
    "## Выбор признаков"
   ]
  },
  {
   "cell_type": "markdown",
   "id": "e8c1da94",
   "metadata": {},
   "source": [
    "### Удаление константных признаков"
   ]
  },
  {
   "cell_type": "code",
   "execution_count": 15,
   "id": "ea3420d0",
   "metadata": {},
   "outputs": [],
   "source": [
    "vt = VarianceThreshold().fit(X_train)\n",
    "X_train = vt.transform(X_train)\n",
    "X_test = vt.transform(X_test)"
   ]
  },
  {
   "cell_type": "markdown",
   "id": "9a7c21a1",
   "metadata": {},
   "source": [
    "Удалим признаки, дисперсия которых равная 0."
   ]
  },
  {
   "cell_type": "code",
   "execution_count": 16,
   "id": "9e8b977e",
   "metadata": {},
   "outputs": [
    {
     "data": {
      "text/plain": [
       "(2666, 71)"
      ]
     },
     "execution_count": 16,
     "metadata": {},
     "output_type": "execute_result"
    }
   ],
   "source": [
    "X_train.shape"
   ]
  },
  {
   "cell_type": "markdown",
   "id": "3e3dd090",
   "metadata": {},
   "source": [
    "### Одномерный отбор"
   ]
  },
  {
   "cell_type": "markdown",
   "id": "c871fc6b",
   "metadata": {},
   "source": [
    "#### По тесту ХИ-квадрат"
   ]
  },
  {
   "cell_type": "code",
   "execution_count": 17,
   "id": "6ccd84ec",
   "metadata": {},
   "outputs": [],
   "source": [
    "chi2_skb = SelectKBest(chi2, k=6).fit(X_train, y_train)"
   ]
  },
  {
   "cell_type": "markdown",
   "id": "525dd84e",
   "metadata": {},
   "source": [
    "Отбор признаков с наилучшей статистикой ХИ-квадрат. "
   ]
  },
  {
   "cell_type": "code",
   "execution_count": 18,
   "id": "d3fb5317",
   "metadata": {},
   "outputs": [
    {
     "data": {
      "text/plain": [
       "fit_time          0.004000\n",
       "score_time        0.021200\n",
       "test_accuracy     0.884844\n",
       "test_precision    0.742840\n",
       "test_recall       0.345000\n",
       "test_f1           0.470761\n",
       "Name: KNeighborsClassifier, dtype: float64"
      ]
     },
     "execution_count": 18,
     "metadata": {},
     "output_type": "execute_result"
    }
   ],
   "source": [
    "get_cv_metrics(clf, chi2_skb.transform(X_train), y_train, scoring)"
   ]
  },
  {
   "cell_type": "code",
   "execution_count": 19,
   "id": "b4779206",
   "metadata": {},
   "outputs": [
    {
     "data": {
      "text/plain": [
       "(2666, 6)"
      ]
     },
     "execution_count": 19,
     "metadata": {},
     "output_type": "execute_result"
    }
   ],
   "source": [
    "chi2_skb.transform(X_train).shape"
   ]
  },
  {
   "cell_type": "markdown",
   "id": "738c8fc5",
   "metadata": {},
   "source": [
    "#### По F-тесту"
   ]
  },
  {
   "cell_type": "code",
   "execution_count": 20,
   "id": "934a800e",
   "metadata": {},
   "outputs": [],
   "source": [
    "f_skb = SelectKBest(f_classif, k=10).fit(X_train, y_train)"
   ]
  },
  {
   "cell_type": "markdown",
   "id": "6a492fac",
   "metadata": {},
   "source": [
    "Отбор признаков с наилучшей F-статистикой. "
   ]
  },
  {
   "cell_type": "code",
   "execution_count": 21,
   "id": "ad73399a",
   "metadata": {},
   "outputs": [
    {
     "data": {
      "text/plain": [
       "fit_time          0.005205\n",
       "score_time        0.020600\n",
       "test_accuracy     0.885595\n",
       "test_precision    0.748809\n",
       "test_recall       0.347532\n",
       "test_f1           0.474195\n",
       "Name: KNeighborsClassifier, dtype: float64"
      ]
     },
     "execution_count": 21,
     "metadata": {},
     "output_type": "execute_result"
    }
   ],
   "source": [
    "get_cv_metrics(clf, f_skb.transform(X_train), y_train, scoring)"
   ]
  },
  {
   "cell_type": "code",
   "execution_count": 22,
   "id": "43992cb5",
   "metadata": {},
   "outputs": [
    {
     "data": {
      "text/plain": [
       "(2666, 10)"
      ]
     },
     "execution_count": 22,
     "metadata": {},
     "output_type": "execute_result"
    }
   ],
   "source": [
    "f_skb.transform(X_train).shape"
   ]
  },
  {
   "cell_type": "markdown",
   "id": "3986d055",
   "metadata": {},
   "source": [
    "### Выбор на основе моделей"
   ]
  },
  {
   "cell_type": "markdown",
   "id": "10ce0819",
   "metadata": {},
   "source": [
    "#### Выбор на основе линейной модели"
   ]
  },
  {
   "cell_type": "code",
   "execution_count": 23,
   "id": "202b1b7a",
   "metadata": {},
   "outputs": [],
   "source": [
    "lg_sfm = SelectFromModel(LogisticRegression()).fit(X_train, y_train)"
   ]
  },
  {
   "cell_type": "markdown",
   "id": "89b41cae",
   "metadata": {},
   "source": [
    "При обучении на линейных моделях веса можно интерпретировать как важность признака."
   ]
  },
  {
   "cell_type": "code",
   "execution_count": 24,
   "id": "65f477d5",
   "metadata": {},
   "outputs": [
    {
     "data": {
      "text/plain": [
       "fit_time          0.003399\n",
       "score_time        0.022400\n",
       "test_accuracy     0.867591\n",
       "test_precision    0.645881\n",
       "test_recall       0.264715\n",
       "test_f1           0.370424\n",
       "Name: KNeighborsClassifier, dtype: float64"
      ]
     },
     "execution_count": 24,
     "metadata": {},
     "output_type": "execute_result"
    }
   ],
   "source": [
    "get_cv_metrics(clf, lg_sfm.transform(X_train), y_train, scoring)"
   ]
  },
  {
   "cell_type": "code",
   "execution_count": 25,
   "id": "8e24fb12",
   "metadata": {},
   "outputs": [
    {
     "data": {
      "text/plain": [
       "(2666, 5)"
      ]
     },
     "execution_count": 25,
     "metadata": {},
     "output_type": "execute_result"
    }
   ],
   "source": [
    "lg_sfm.transform(X_train).shape"
   ]
  },
  {
   "cell_type": "markdown",
   "id": "48f2547d",
   "metadata": {},
   "source": [
    "#### Выбор на основе модели случайного леса"
   ]
  },
  {
   "cell_type": "code",
   "execution_count": 26,
   "id": "4917c85b",
   "metadata": {},
   "outputs": [],
   "source": [
    "rfc_sfm = SelectFromModel(RandomForestClassifier()).fit(X_train, y_train)"
   ]
  },
  {
   "cell_type": "markdown",
   "id": "39d79b07",
   "metadata": {},
   "source": [
    "При обучении на моделях случайного леса то, насколько признак снижает энтропию, можно интерпретировать как важность признака."
   ]
  },
  {
   "cell_type": "code",
   "execution_count": 27,
   "id": "5e58a877",
   "metadata": {},
   "outputs": [
    {
     "data": {
      "text/plain": [
       "fit_time          0.000400\n",
       "score_time        0.076000\n",
       "test_accuracy     0.874345\n",
       "test_precision    0.697740\n",
       "test_recall       0.277120\n",
       "test_f1           0.394938\n",
       "Name: KNeighborsClassifier, dtype: float64"
      ]
     },
     "execution_count": 27,
     "metadata": {},
     "output_type": "execute_result"
    }
   ],
   "source": [
    "get_cv_metrics(clf, rfc_sfm.transform(X_train), y_train, scoring)"
   ]
  },
  {
   "cell_type": "code",
   "execution_count": 28,
   "id": "8b6e4613",
   "metadata": {},
   "outputs": [
    {
     "data": {
      "text/plain": [
       "(2666, 17)"
      ]
     },
     "execution_count": 28,
     "metadata": {},
     "output_type": "execute_result"
    }
   ],
   "source": [
    "rfc_sfm.transform(X_train).shape"
   ]
  },
  {
   "cell_type": "markdown",
   "id": "e72c978c",
   "metadata": {},
   "source": [
    "### Выбор на основе рекурсивной оценки"
   ]
  },
  {
   "cell_type": "markdown",
   "id": "1f8e18af",
   "metadata": {},
   "source": [
    "#### Рекурсивная оценка на основе линейной модели"
   ]
  },
  {
   "cell_type": "code",
   "execution_count": 29,
   "id": "08bce5da",
   "metadata": {},
   "outputs": [],
   "source": [
    "lf_rfe = RFE(LogisticRegression(), n_features_to_select=8).fit(X_train, y_train)"
   ]
  },
  {
   "cell_type": "markdown",
   "id": "d8dbd848",
   "metadata": {},
   "source": [
    "Попробуем рекурсивно перебрать все признаки и на основании весов, полученных при построении логистической регрессии, определим самые важные признаки."
   ]
  },
  {
   "cell_type": "code",
   "execution_count": 30,
   "id": "d4a7ce26",
   "metadata": {},
   "outputs": [
    {
     "data": {
      "text/plain": [
       "fit_time          0.005198\n",
       "score_time        0.038401\n",
       "test_accuracy     0.764192\n",
       "test_precision    0.418278\n",
       "test_recall       0.324082\n",
       "test_f1           0.282654\n",
       "Name: KNeighborsClassifier, dtype: float64"
      ]
     },
     "execution_count": 30,
     "metadata": {},
     "output_type": "execute_result"
    }
   ],
   "source": [
    "get_cv_metrics(clf, lf_rfe.transform(X_train), y_train, scoring)"
   ]
  },
  {
   "cell_type": "code",
   "execution_count": 31,
   "id": "2d031ba2",
   "metadata": {},
   "outputs": [
    {
     "data": {
      "text/plain": [
       "(2666, 8)"
      ]
     },
     "execution_count": 31,
     "metadata": {},
     "output_type": "execute_result"
    }
   ],
   "source": [
    "lf_rfe.transform(X_train).shape"
   ]
  },
  {
   "cell_type": "markdown",
   "id": "f250f8bf",
   "metadata": {},
   "source": [
    "#### Рекурсивная оценка на основе модели случайного леса"
   ]
  },
  {
   "cell_type": "code",
   "execution_count": 32,
   "id": "7f2b7ac5",
   "metadata": {},
   "outputs": [],
   "source": [
    "rf_rfe = RFE(RandomForestClassifier(), n_features_to_select=10).fit(X_train, y_train)"
   ]
  },
  {
   "cell_type": "markdown",
   "id": "601f3fc4",
   "metadata": {},
   "source": [
    "Попробуем рекурсивно перебрать все признаки и на основании того, насколько признаки снижают энтропию в модели случайного леса, определим самые важные признаки."
   ]
  },
  {
   "cell_type": "code",
   "execution_count": 33,
   "id": "dd4fa089",
   "metadata": {},
   "outputs": [
    {
     "data": {
      "text/plain": [
       "fit_time          0.006401\n",
       "score_time        0.025198\n",
       "test_accuracy     0.867595\n",
       "test_precision    0.629624\n",
       "test_recall       0.279652\n",
       "test_f1           0.385417\n",
       "Name: KNeighborsClassifier, dtype: float64"
      ]
     },
     "execution_count": 33,
     "metadata": {},
     "output_type": "execute_result"
    }
   ],
   "source": [
    "get_cv_metrics(clf, rf_rfe.transform(X_train), y_train, scoring)"
   ]
  },
  {
   "cell_type": "code",
   "execution_count": 34,
   "id": "58b5ffcc",
   "metadata": {},
   "outputs": [
    {
     "data": {
      "text/plain": [
       "(2666, 10)"
      ]
     },
     "execution_count": 34,
     "metadata": {},
     "output_type": "execute_result"
    }
   ],
   "source": [
    "rf_rfe.transform(X_train).shape"
   ]
  },
  {
   "cell_type": "markdown",
   "id": "4c836f6f",
   "metadata": {},
   "source": [
    "### Выбор перебором"
   ]
  },
  {
   "cell_type": "code",
   "execution_count": 35,
   "id": "db37d149",
   "metadata": {},
   "outputs": [],
   "source": [
    "#sfs = SequentialFeatureSelector(clf).fit(X_train, y_train)"
   ]
  },
  {
   "cell_type": "code",
   "execution_count": 36,
   "id": "70d4b791",
   "metadata": {},
   "outputs": [],
   "source": [
    "#get_cv_metrics(clf, sfs.transform(X_train), y_train, scoring)"
   ]
  },
  {
   "cell_type": "code",
   "execution_count": 37,
   "id": "27a68d66",
   "metadata": {},
   "outputs": [],
   "source": [
    "#sfs.transform(X_train).shape"
   ]
  },
  {
   "cell_type": "markdown",
   "id": "330a39d1",
   "metadata": {},
   "source": [
    "### Выводы по выбору признаков"
   ]
  },
  {
   "cell_type": "markdown",
   "id": "a1416c19",
   "metadata": {},
   "source": [
    "Минимальное количество признаков с наибольшей эффективностью удалось достичь при использовании одномерного отбора по статистике ХИ-квадрат."
   ]
  },
  {
   "cell_type": "code",
   "execution_count": 38,
   "id": "55b221ba",
   "metadata": {},
   "outputs": [
    {
     "data": {
      "text/plain": [
       "array(['Number vmail messages', 'Total day minutes', 'Total day charge',\n",
       "       'Total eve minutes', 'Customer service calls',\n",
       "       'International plan_Yes'], dtype=object)"
      ]
     },
     "execution_count": 38,
     "metadata": {},
     "output_type": "execute_result"
    }
   ],
   "source": [
    "X.columns[chi2_skb.get_support()].values"
   ]
  },
  {
   "cell_type": "markdown",
   "id": "07833604",
   "metadata": {},
   "source": [
    "В результате выбора признаков из 20 признаков датасета мы получили всего 6, причем качество модели улучшилось в 1.3 раза."
   ]
  },
  {
   "cell_type": "markdown",
   "id": "7e0a9677",
   "metadata": {},
   "source": [
    "## Итоговая модель"
   ]
  },
  {
   "cell_type": "code",
   "execution_count": 39,
   "id": "93c6dd39",
   "metadata": {},
   "outputs": [],
   "source": [
    "clf.fit(chi2_skb.transform(X_train), y_train)\n",
    "y_pred = clf.predict(chi2_skb.transform(X_test))"
   ]
  },
  {
   "cell_type": "code",
   "execution_count": 40,
   "id": "4de05ab0",
   "metadata": {},
   "outputs": [
    {
     "data": {
      "text/plain": [
       "0.9115442278860569"
      ]
     },
     "execution_count": 40,
     "metadata": {},
     "output_type": "execute_result"
    }
   ],
   "source": [
    "accuracy_score(y_test, y_pred)"
   ]
  },
  {
   "cell_type": "code",
   "execution_count": 41,
   "id": "7314ef55",
   "metadata": {},
   "outputs": [
    {
     "data": {
      "text/plain": [
       "0.7647058823529411"
      ]
     },
     "execution_count": 41,
     "metadata": {},
     "output_type": "execute_result"
    }
   ],
   "source": [
    "precision_score(y_test, y_pred, pos_label=True)"
   ]
  },
  {
   "cell_type": "code",
   "execution_count": 42,
   "id": "bfc8e7a1",
   "metadata": {},
   "outputs": [
    {
     "data": {
      "text/plain": [
       "0.45348837209302323"
      ]
     },
     "execution_count": 42,
     "metadata": {},
     "output_type": "execute_result"
    }
   ],
   "source": [
    "recall_score(y_test, y_pred, pos_label=True)"
   ]
  },
  {
   "cell_type": "code",
   "execution_count": 43,
   "id": "2a9cbb14",
   "metadata": {},
   "outputs": [
    {
     "data": {
      "text/plain": [
       "0.5693430656934306"
      ]
     },
     "execution_count": 43,
     "metadata": {},
     "output_type": "execute_result"
    }
   ],
   "source": [
    "f1_score(y_test, y_pred, pos_label=True)"
   ]
  }
 ],
 "metadata": {
  "kernelspec": {
   "display_name": "Python 3 (ipykernel)",
   "language": "python",
   "name": "python3"
  },
  "language_info": {
   "codemirror_mode": {
    "name": "ipython",
    "version": 3
   },
   "file_extension": ".py",
   "mimetype": "text/x-python",
   "name": "python",
   "nbconvert_exporter": "python",
   "pygments_lexer": "ipython3",
   "version": "3.9.7"
  }
 },
 "nbformat": 4,
 "nbformat_minor": 5
}
