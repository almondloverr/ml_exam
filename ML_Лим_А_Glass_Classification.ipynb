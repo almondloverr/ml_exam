{
  "nbformat": 4,
  "nbformat_minor": 0,
  "metadata": {
    "colab": {
      "provenance": []
    },
    "kernelspec": {
      "name": "python3",
      "display_name": "Python 3"
    },
    "language_info": {
      "name": "python"
    }
  },
  "cells": [
    {
      "cell_type": "markdown",
      "source": [
        "# Датасет №2 \"Glass Classification\""
      ],
      "metadata": {
        "id": "ZLjdYwD4ABsl"
      }
    },
    {
      "cell_type": "markdown",
      "source": [
        "### Описание датасета"
      ],
      "metadata": {
        "id": "NEHNVV9tNaw8"
      }
    },
    {
      "cell_type": "markdown",
      "source": [
        "Информация об атрибутах:\n",
        "\n",
        "- Id номер: от 1 до 214\n",
        "- RI: Коэффициент преломления\n",
        "- Na: Натрий (единица измерения: весовой процент в соответствующем оксиде, как и атрибуты 4-10)\n",
        "- Mg: Магний\n",
        "- Al: Алюминий\n",
        "- Si: Кремний\n",
        "- K: Калий\n",
        "- Ca: Кальций\n",
        "- Ba: Барий\n",
        "- Fe: Железо\n",
        "- Тип стекла: (атрибут класса)\n",
        "  1.  building_windows_float_processed (строительные_окна_плоские_обработанные)\n",
        "  2.  building_windows_non_float_processed (строительные_окна_не_плоские_обработанные)\n",
        "  3.  vehicle_windows_float_processed (автомобильные_окна_плоские_обработанные)\n",
        "  4.  vehicle_windows_non_float_processed (автомобильные_окна_не_плоские_обработанные (нет в этой базе данных))\n",
        "  5.  containers (контейнеры)\n",
        "  6.  tableware (посуда) \n",
        "  7.  headlamps (фары)"
      ],
      "metadata": {
        "id": "O0ctRgfUMpQ6"
      }
    },
    {
      "cell_type": "markdown",
      "source": [
        "### Импорт модулей"
      ],
      "metadata": {
        "id": "0JGar1MeNwhc"
      }
    },
    {
      "cell_type": "code",
      "source": [
        "# импорт стандартных модулей \n",
        "\n",
        "import numpy as np\n",
        "import pandas as pd\n",
        "import seaborn as sns\n",
        "import random\n",
        "import matplotlib.pyplot as plt\n",
        "\n",
        "from collections import Counter"
      ],
      "metadata": {
        "id": "59DPwzj_CWwu"
      },
      "execution_count": 278,
      "outputs": []
    },
    {
      "cell_type": "code",
      "source": [
        "# иморт модулей sklearn'а\n",
        "\n",
        "from sklearn.preprocessing import LabelEncoder, MinMaxScaler\n",
        "from sklearn.model_selection import train_test_split\n",
        "from sklearn import metrics"
      ],
      "metadata": {
        "id": "tLoHdzxRDCBT"
      },
      "execution_count": 279,
      "outputs": []
    },
    {
      "cell_type": "markdown",
      "source": [
        "### Загрузка датасета и подготовка данных"
      ],
      "metadata": {
        "id": "8Wh8kZEqBUmV"
      }
    },
    {
      "cell_type": "markdown",
      "source": [
        "Файл я брала с выгруженного на свой гитхаб репозитория"
      ],
      "metadata": {
        "id": "ZdopMBKrN0O9"
      }
    },
    {
      "cell_type": "code",
      "execution_count": 280,
      "metadata": {
        "colab": {
          "base_uri": "https://localhost:8080/",
          "height": 206
        },
        "id": "d3qVhvuR_5I5",
        "outputId": "38579142-c6c4-487d-8449-17b7bfa72b8e"
      },
      "outputs": [
        {
          "output_type": "execute_result",
          "data": {
            "text/plain": [
              "        RI     Na    Mg    Al     Si     K    Ca   Ba   Fe  Type\n",
              "0  1.52101  13.64  4.49  1.10  71.78  0.06  8.75  0.0  0.0     1\n",
              "1  1.51761  13.89  3.60  1.36  72.73  0.48  7.83  0.0  0.0     1\n",
              "2  1.51618  13.53  3.55  1.54  72.99  0.39  7.78  0.0  0.0     1\n",
              "3  1.51766  13.21  3.69  1.29  72.61  0.57  8.22  0.0  0.0     1\n",
              "4  1.51742  13.27  3.62  1.24  73.08  0.55  8.07  0.0  0.0     1"
            ],
            "text/html": [
              "\n",
              "  <div id=\"df-f82e1fcd-acdb-4a90-870b-93bfe6947f42\">\n",
              "    <div class=\"colab-df-container\">\n",
              "      <div>\n",
              "<style scoped>\n",
              "    .dataframe tbody tr th:only-of-type {\n",
              "        vertical-align: middle;\n",
              "    }\n",
              "\n",
              "    .dataframe tbody tr th {\n",
              "        vertical-align: top;\n",
              "    }\n",
              "\n",
              "    .dataframe thead th {\n",
              "        text-align: right;\n",
              "    }\n",
              "</style>\n",
              "<table border=\"1\" class=\"dataframe\">\n",
              "  <thead>\n",
              "    <tr style=\"text-align: right;\">\n",
              "      <th></th>\n",
              "      <th>RI</th>\n",
              "      <th>Na</th>\n",
              "      <th>Mg</th>\n",
              "      <th>Al</th>\n",
              "      <th>Si</th>\n",
              "      <th>K</th>\n",
              "      <th>Ca</th>\n",
              "      <th>Ba</th>\n",
              "      <th>Fe</th>\n",
              "      <th>Type</th>\n",
              "    </tr>\n",
              "  </thead>\n",
              "  <tbody>\n",
              "    <tr>\n",
              "      <th>0</th>\n",
              "      <td>1.52101</td>\n",
              "      <td>13.64</td>\n",
              "      <td>4.49</td>\n",
              "      <td>1.10</td>\n",
              "      <td>71.78</td>\n",
              "      <td>0.06</td>\n",
              "      <td>8.75</td>\n",
              "      <td>0.0</td>\n",
              "      <td>0.0</td>\n",
              "      <td>1</td>\n",
              "    </tr>\n",
              "    <tr>\n",
              "      <th>1</th>\n",
              "      <td>1.51761</td>\n",
              "      <td>13.89</td>\n",
              "      <td>3.60</td>\n",
              "      <td>1.36</td>\n",
              "      <td>72.73</td>\n",
              "      <td>0.48</td>\n",
              "      <td>7.83</td>\n",
              "      <td>0.0</td>\n",
              "      <td>0.0</td>\n",
              "      <td>1</td>\n",
              "    </tr>\n",
              "    <tr>\n",
              "      <th>2</th>\n",
              "      <td>1.51618</td>\n",
              "      <td>13.53</td>\n",
              "      <td>3.55</td>\n",
              "      <td>1.54</td>\n",
              "      <td>72.99</td>\n",
              "      <td>0.39</td>\n",
              "      <td>7.78</td>\n",
              "      <td>0.0</td>\n",
              "      <td>0.0</td>\n",
              "      <td>1</td>\n",
              "    </tr>\n",
              "    <tr>\n",
              "      <th>3</th>\n",
              "      <td>1.51766</td>\n",
              "      <td>13.21</td>\n",
              "      <td>3.69</td>\n",
              "      <td>1.29</td>\n",
              "      <td>72.61</td>\n",
              "      <td>0.57</td>\n",
              "      <td>8.22</td>\n",
              "      <td>0.0</td>\n",
              "      <td>0.0</td>\n",
              "      <td>1</td>\n",
              "    </tr>\n",
              "    <tr>\n",
              "      <th>4</th>\n",
              "      <td>1.51742</td>\n",
              "      <td>13.27</td>\n",
              "      <td>3.62</td>\n",
              "      <td>1.24</td>\n",
              "      <td>73.08</td>\n",
              "      <td>0.55</td>\n",
              "      <td>8.07</td>\n",
              "      <td>0.0</td>\n",
              "      <td>0.0</td>\n",
              "      <td>1</td>\n",
              "    </tr>\n",
              "  </tbody>\n",
              "</table>\n",
              "</div>\n",
              "      <button class=\"colab-df-convert\" onclick=\"convertToInteractive('df-f82e1fcd-acdb-4a90-870b-93bfe6947f42')\"\n",
              "              title=\"Convert this dataframe to an interactive table.\"\n",
              "              style=\"display:none;\">\n",
              "        \n",
              "  <svg xmlns=\"http://www.w3.org/2000/svg\" height=\"24px\"viewBox=\"0 0 24 24\"\n",
              "       width=\"24px\">\n",
              "    <path d=\"M0 0h24v24H0V0z\" fill=\"none\"/>\n",
              "    <path d=\"M18.56 5.44l.94 2.06.94-2.06 2.06-.94-2.06-.94-.94-2.06-.94 2.06-2.06.94zm-11 1L8.5 8.5l.94-2.06 2.06-.94-2.06-.94L8.5 2.5l-.94 2.06-2.06.94zm10 10l.94 2.06.94-2.06 2.06-.94-2.06-.94-.94-2.06-.94 2.06-2.06.94z\"/><path d=\"M17.41 7.96l-1.37-1.37c-.4-.4-.92-.59-1.43-.59-.52 0-1.04.2-1.43.59L10.3 9.45l-7.72 7.72c-.78.78-.78 2.05 0 2.83L4 21.41c.39.39.9.59 1.41.59.51 0 1.02-.2 1.41-.59l7.78-7.78 2.81-2.81c.8-.78.8-2.07 0-2.86zM5.41 20L4 18.59l7.72-7.72 1.47 1.35L5.41 20z\"/>\n",
              "  </svg>\n",
              "      </button>\n",
              "      \n",
              "  <style>\n",
              "    .colab-df-container {\n",
              "      display:flex;\n",
              "      flex-wrap:wrap;\n",
              "      gap: 12px;\n",
              "    }\n",
              "\n",
              "    .colab-df-convert {\n",
              "      background-color: #E8F0FE;\n",
              "      border: none;\n",
              "      border-radius: 50%;\n",
              "      cursor: pointer;\n",
              "      display: none;\n",
              "      fill: #1967D2;\n",
              "      height: 32px;\n",
              "      padding: 0 0 0 0;\n",
              "      width: 32px;\n",
              "    }\n",
              "\n",
              "    .colab-df-convert:hover {\n",
              "      background-color: #E2EBFA;\n",
              "      box-shadow: 0px 1px 2px rgba(60, 64, 67, 0.3), 0px 1px 3px 1px rgba(60, 64, 67, 0.15);\n",
              "      fill: #174EA6;\n",
              "    }\n",
              "\n",
              "    [theme=dark] .colab-df-convert {\n",
              "      background-color: #3B4455;\n",
              "      fill: #D2E3FC;\n",
              "    }\n",
              "\n",
              "    [theme=dark] .colab-df-convert:hover {\n",
              "      background-color: #434B5C;\n",
              "      box-shadow: 0px 1px 3px 1px rgba(0, 0, 0, 0.15);\n",
              "      filter: drop-shadow(0px 1px 2px rgba(0, 0, 0, 0.3));\n",
              "      fill: #FFFFFF;\n",
              "    }\n",
              "  </style>\n",
              "\n",
              "      <script>\n",
              "        const buttonEl =\n",
              "          document.querySelector('#df-f82e1fcd-acdb-4a90-870b-93bfe6947f42 button.colab-df-convert');\n",
              "        buttonEl.style.display =\n",
              "          google.colab.kernel.accessAllowed ? 'block' : 'none';\n",
              "\n",
              "        async function convertToInteractive(key) {\n",
              "          const element = document.querySelector('#df-f82e1fcd-acdb-4a90-870b-93bfe6947f42');\n",
              "          const dataTable =\n",
              "            await google.colab.kernel.invokeFunction('convertToInteractive',\n",
              "                                                     [key], {});\n",
              "          if (!dataTable) return;\n",
              "\n",
              "          const docLinkHtml = 'Like what you see? Visit the ' +\n",
              "            '<a target=\"_blank\" href=https://colab.research.google.com/notebooks/data_table.ipynb>data table notebook</a>'\n",
              "            + ' to learn more about interactive tables.';\n",
              "          element.innerHTML = '';\n",
              "          dataTable['output_type'] = 'display_data';\n",
              "          await google.colab.output.renderOutput(dataTable, element);\n",
              "          const docLink = document.createElement('div');\n",
              "          docLink.innerHTML = docLinkHtml;\n",
              "          element.appendChild(docLink);\n",
              "        }\n",
              "      </script>\n",
              "    </div>\n",
              "  </div>\n",
              "  "
            ]
          },
          "metadata": {},
          "execution_count": 280
        }
      ],
      "source": [
        "df = pd.read_csv('https://raw.githubusercontent.com/almondloverr/ml_exam/main/datasets/glass.csv')\n",
        "df.head()"
      ]
    },
    {
      "cell_type": "code",
      "source": [
        "print(\"В датасете\", df.shape[0], \"точек данных и\", df.shape[1], \"параметров\")"
      ],
      "metadata": {
        "colab": {
          "base_uri": "https://localhost:8080/"
        },
        "id": "_r0Lem6fUoJM",
        "outputId": "0f17a50e-25da-4077-e2d5-50d1847f59a6"
      },
      "execution_count": 281,
      "outputs": [
        {
          "output_type": "stream",
          "name": "stdout",
          "text": [
            "В датасете 214 точек данных и 10 параметров\n"
          ]
        }
      ]
    },
    {
      "cell_type": "code",
      "source": [
        "df.info() # все параметры датасета — числовые, дополнительных манипуляций с данными проводить не нужно"
      ],
      "metadata": {
        "colab": {
          "base_uri": "https://localhost:8080/"
        },
        "id": "j-2Hi0VtDi1Z",
        "outputId": "d4513fc2-0776-4583-98cf-609674710367"
      },
      "execution_count": 282,
      "outputs": [
        {
          "output_type": "stream",
          "name": "stdout",
          "text": [
            "<class 'pandas.core.frame.DataFrame'>\n",
            "RangeIndex: 214 entries, 0 to 213\n",
            "Data columns (total 10 columns):\n",
            " #   Column  Non-Null Count  Dtype  \n",
            "---  ------  --------------  -----  \n",
            " 0   RI      214 non-null    float64\n",
            " 1   Na      214 non-null    float64\n",
            " 2   Mg      214 non-null    float64\n",
            " 3   Al      214 non-null    float64\n",
            " 4   Si      214 non-null    float64\n",
            " 5   K       214 non-null    float64\n",
            " 6   Ca      214 non-null    float64\n",
            " 7   Ba      214 non-null    float64\n",
            " 8   Fe      214 non-null    float64\n",
            " 9   Type    214 non-null    int64  \n",
            "dtypes: float64(9), int64(1)\n",
            "memory usage: 16.8 KB\n"
          ]
        }
      ]
    },
    {
      "cell_type": "code",
      "source": [
        "df.columns # Type — наша целевая переменная"
      ],
      "metadata": {
        "colab": {
          "base_uri": "https://localhost:8080/"
        },
        "id": "NZDysGLbRcfB",
        "outputId": "b71baba2-54a9-4cfe-b71f-272c374bcc74"
      },
      "execution_count": 283,
      "outputs": [
        {
          "output_type": "execute_result",
          "data": {
            "text/plain": [
              "Index(['RI', 'Na', 'Mg', 'Al', 'Si', 'K', 'Ca', 'Ba', 'Fe', 'Type'], dtype='object')"
            ]
          },
          "metadata": {},
          "execution_count": 283
        }
      ]
    },
    {
      "cell_type": "code",
      "source": [
        "df['Type'].unique() "
      ],
      "metadata": {
        "colab": {
          "base_uri": "https://localhost:8080/"
        },
        "id": "91ka_p0AOOH7",
        "outputId": "c45e4115-3f7a-4c5d-d76c-902dd0377c28"
      },
      "execution_count": 284,
      "outputs": [
        {
          "output_type": "execute_result",
          "data": {
            "text/plain": [
              "array([1, 2, 3, 5, 6, 7])"
            ]
          },
          "metadata": {},
          "execution_count": 284
        }
      ]
    },
    {
      "cell_type": "code",
      "source": [
        "df.isnull().sum() # смотрим количество пустых значений в датасете (отустутстуют)"
      ],
      "metadata": {
        "colab": {
          "base_uri": "https://localhost:8080/"
        },
        "id": "lZmklpXFeG2X",
        "outputId": "519340b6-8e63-4147-e6fe-a06224c6a8a7"
      },
      "execution_count": 285,
      "outputs": [
        {
          "output_type": "execute_result",
          "data": {
            "text/plain": [
              "RI      0\n",
              "Na      0\n",
              "Mg      0\n",
              "Al      0\n",
              "Si      0\n",
              "K       0\n",
              "Ca      0\n",
              "Ba      0\n",
              "Fe      0\n",
              "Type    0\n",
              "dtype: int64"
            ]
          },
          "metadata": {},
          "execution_count": 285
        }
      ]
    },
    {
      "cell_type": "code",
      "source": [],
      "metadata": {
        "id": "eCl10BPPLBzU"
      },
      "execution_count": 285,
      "outputs": []
    },
    {
      "cell_type": "code",
      "source": [
        "df.describe().T # описательная статистика по всем параметрам"
      ],
      "metadata": {
        "colab": {
          "base_uri": "https://localhost:8080/",
          "height": 363
        },
        "id": "SsOyDBbET9QC",
        "outputId": "0a5916d9-1b50-4c1a-efe1-9db075576a51"
      },
      "execution_count": 286,
      "outputs": [
        {
          "output_type": "execute_result",
          "data": {
            "text/plain": [
              "      count       mean       std       min        25%       50%        75%  \\\n",
              "RI    214.0   1.518365  0.003037   1.51115   1.516522   1.51768   1.519157   \n",
              "Na    214.0  13.407850  0.816604  10.73000  12.907500  13.30000  13.825000   \n",
              "Mg    214.0   2.684533  1.442408   0.00000   2.115000   3.48000   3.600000   \n",
              "Al    214.0   1.444907  0.499270   0.29000   1.190000   1.36000   1.630000   \n",
              "Si    214.0  72.650935  0.774546  69.81000  72.280000  72.79000  73.087500   \n",
              "K     214.0   0.497056  0.652192   0.00000   0.122500   0.55500   0.610000   \n",
              "Ca    214.0   8.956963  1.423153   5.43000   8.240000   8.60000   9.172500   \n",
              "Ba    214.0   0.175047  0.497219   0.00000   0.000000   0.00000   0.000000   \n",
              "Fe    214.0   0.057009  0.097439   0.00000   0.000000   0.00000   0.100000   \n",
              "Type  214.0   2.780374  2.103739   1.00000   1.000000   2.00000   3.000000   \n",
              "\n",
              "           max  \n",
              "RI     1.53393  \n",
              "Na    17.38000  \n",
              "Mg     4.49000  \n",
              "Al     3.50000  \n",
              "Si    75.41000  \n",
              "K      6.21000  \n",
              "Ca    16.19000  \n",
              "Ba     3.15000  \n",
              "Fe     0.51000  \n",
              "Type   7.00000  "
            ],
            "text/html": [
              "\n",
              "  <div id=\"df-c9325df7-be83-4942-ac8b-b081d871c4f4\">\n",
              "    <div class=\"colab-df-container\">\n",
              "      <div>\n",
              "<style scoped>\n",
              "    .dataframe tbody tr th:only-of-type {\n",
              "        vertical-align: middle;\n",
              "    }\n",
              "\n",
              "    .dataframe tbody tr th {\n",
              "        vertical-align: top;\n",
              "    }\n",
              "\n",
              "    .dataframe thead th {\n",
              "        text-align: right;\n",
              "    }\n",
              "</style>\n",
              "<table border=\"1\" class=\"dataframe\">\n",
              "  <thead>\n",
              "    <tr style=\"text-align: right;\">\n",
              "      <th></th>\n",
              "      <th>count</th>\n",
              "      <th>mean</th>\n",
              "      <th>std</th>\n",
              "      <th>min</th>\n",
              "      <th>25%</th>\n",
              "      <th>50%</th>\n",
              "      <th>75%</th>\n",
              "      <th>max</th>\n",
              "    </tr>\n",
              "  </thead>\n",
              "  <tbody>\n",
              "    <tr>\n",
              "      <th>RI</th>\n",
              "      <td>214.0</td>\n",
              "      <td>1.518365</td>\n",
              "      <td>0.003037</td>\n",
              "      <td>1.51115</td>\n",
              "      <td>1.516522</td>\n",
              "      <td>1.51768</td>\n",
              "      <td>1.519157</td>\n",
              "      <td>1.53393</td>\n",
              "    </tr>\n",
              "    <tr>\n",
              "      <th>Na</th>\n",
              "      <td>214.0</td>\n",
              "      <td>13.407850</td>\n",
              "      <td>0.816604</td>\n",
              "      <td>10.73000</td>\n",
              "      <td>12.907500</td>\n",
              "      <td>13.30000</td>\n",
              "      <td>13.825000</td>\n",
              "      <td>17.38000</td>\n",
              "    </tr>\n",
              "    <tr>\n",
              "      <th>Mg</th>\n",
              "      <td>214.0</td>\n",
              "      <td>2.684533</td>\n",
              "      <td>1.442408</td>\n",
              "      <td>0.00000</td>\n",
              "      <td>2.115000</td>\n",
              "      <td>3.48000</td>\n",
              "      <td>3.600000</td>\n",
              "      <td>4.49000</td>\n",
              "    </tr>\n",
              "    <tr>\n",
              "      <th>Al</th>\n",
              "      <td>214.0</td>\n",
              "      <td>1.444907</td>\n",
              "      <td>0.499270</td>\n",
              "      <td>0.29000</td>\n",
              "      <td>1.190000</td>\n",
              "      <td>1.36000</td>\n",
              "      <td>1.630000</td>\n",
              "      <td>3.50000</td>\n",
              "    </tr>\n",
              "    <tr>\n",
              "      <th>Si</th>\n",
              "      <td>214.0</td>\n",
              "      <td>72.650935</td>\n",
              "      <td>0.774546</td>\n",
              "      <td>69.81000</td>\n",
              "      <td>72.280000</td>\n",
              "      <td>72.79000</td>\n",
              "      <td>73.087500</td>\n",
              "      <td>75.41000</td>\n",
              "    </tr>\n",
              "    <tr>\n",
              "      <th>K</th>\n",
              "      <td>214.0</td>\n",
              "      <td>0.497056</td>\n",
              "      <td>0.652192</td>\n",
              "      <td>0.00000</td>\n",
              "      <td>0.122500</td>\n",
              "      <td>0.55500</td>\n",
              "      <td>0.610000</td>\n",
              "      <td>6.21000</td>\n",
              "    </tr>\n",
              "    <tr>\n",
              "      <th>Ca</th>\n",
              "      <td>214.0</td>\n",
              "      <td>8.956963</td>\n",
              "      <td>1.423153</td>\n",
              "      <td>5.43000</td>\n",
              "      <td>8.240000</td>\n",
              "      <td>8.60000</td>\n",
              "      <td>9.172500</td>\n",
              "      <td>16.19000</td>\n",
              "    </tr>\n",
              "    <tr>\n",
              "      <th>Ba</th>\n",
              "      <td>214.0</td>\n",
              "      <td>0.175047</td>\n",
              "      <td>0.497219</td>\n",
              "      <td>0.00000</td>\n",
              "      <td>0.000000</td>\n",
              "      <td>0.00000</td>\n",
              "      <td>0.000000</td>\n",
              "      <td>3.15000</td>\n",
              "    </tr>\n",
              "    <tr>\n",
              "      <th>Fe</th>\n",
              "      <td>214.0</td>\n",
              "      <td>0.057009</td>\n",
              "      <td>0.097439</td>\n",
              "      <td>0.00000</td>\n",
              "      <td>0.000000</td>\n",
              "      <td>0.00000</td>\n",
              "      <td>0.100000</td>\n",
              "      <td>0.51000</td>\n",
              "    </tr>\n",
              "    <tr>\n",
              "      <th>Type</th>\n",
              "      <td>214.0</td>\n",
              "      <td>2.780374</td>\n",
              "      <td>2.103739</td>\n",
              "      <td>1.00000</td>\n",
              "      <td>1.000000</td>\n",
              "      <td>2.00000</td>\n",
              "      <td>3.000000</td>\n",
              "      <td>7.00000</td>\n",
              "    </tr>\n",
              "  </tbody>\n",
              "</table>\n",
              "</div>\n",
              "      <button class=\"colab-df-convert\" onclick=\"convertToInteractive('df-c9325df7-be83-4942-ac8b-b081d871c4f4')\"\n",
              "              title=\"Convert this dataframe to an interactive table.\"\n",
              "              style=\"display:none;\">\n",
              "        \n",
              "  <svg xmlns=\"http://www.w3.org/2000/svg\" height=\"24px\"viewBox=\"0 0 24 24\"\n",
              "       width=\"24px\">\n",
              "    <path d=\"M0 0h24v24H0V0z\" fill=\"none\"/>\n",
              "    <path d=\"M18.56 5.44l.94 2.06.94-2.06 2.06-.94-2.06-.94-.94-2.06-.94 2.06-2.06.94zm-11 1L8.5 8.5l.94-2.06 2.06-.94-2.06-.94L8.5 2.5l-.94 2.06-2.06.94zm10 10l.94 2.06.94-2.06 2.06-.94-2.06-.94-.94-2.06-.94 2.06-2.06.94z\"/><path d=\"M17.41 7.96l-1.37-1.37c-.4-.4-.92-.59-1.43-.59-.52 0-1.04.2-1.43.59L10.3 9.45l-7.72 7.72c-.78.78-.78 2.05 0 2.83L4 21.41c.39.39.9.59 1.41.59.51 0 1.02-.2 1.41-.59l7.78-7.78 2.81-2.81c.8-.78.8-2.07 0-2.86zM5.41 20L4 18.59l7.72-7.72 1.47 1.35L5.41 20z\"/>\n",
              "  </svg>\n",
              "      </button>\n",
              "      \n",
              "  <style>\n",
              "    .colab-df-container {\n",
              "      display:flex;\n",
              "      flex-wrap:wrap;\n",
              "      gap: 12px;\n",
              "    }\n",
              "\n",
              "    .colab-df-convert {\n",
              "      background-color: #E8F0FE;\n",
              "      border: none;\n",
              "      border-radius: 50%;\n",
              "      cursor: pointer;\n",
              "      display: none;\n",
              "      fill: #1967D2;\n",
              "      height: 32px;\n",
              "      padding: 0 0 0 0;\n",
              "      width: 32px;\n",
              "    }\n",
              "\n",
              "    .colab-df-convert:hover {\n",
              "      background-color: #E2EBFA;\n",
              "      box-shadow: 0px 1px 2px rgba(60, 64, 67, 0.3), 0px 1px 3px 1px rgba(60, 64, 67, 0.15);\n",
              "      fill: #174EA6;\n",
              "    }\n",
              "\n",
              "    [theme=dark] .colab-df-convert {\n",
              "      background-color: #3B4455;\n",
              "      fill: #D2E3FC;\n",
              "    }\n",
              "\n",
              "    [theme=dark] .colab-df-convert:hover {\n",
              "      background-color: #434B5C;\n",
              "      box-shadow: 0px 1px 3px 1px rgba(0, 0, 0, 0.15);\n",
              "      filter: drop-shadow(0px 1px 2px rgba(0, 0, 0, 0.3));\n",
              "      fill: #FFFFFF;\n",
              "    }\n",
              "  </style>\n",
              "\n",
              "      <script>\n",
              "        const buttonEl =\n",
              "          document.querySelector('#df-c9325df7-be83-4942-ac8b-b081d871c4f4 button.colab-df-convert');\n",
              "        buttonEl.style.display =\n",
              "          google.colab.kernel.accessAllowed ? 'block' : 'none';\n",
              "\n",
              "        async function convertToInteractive(key) {\n",
              "          const element = document.querySelector('#df-c9325df7-be83-4942-ac8b-b081d871c4f4');\n",
              "          const dataTable =\n",
              "            await google.colab.kernel.invokeFunction('convertToInteractive',\n",
              "                                                     [key], {});\n",
              "          if (!dataTable) return;\n",
              "\n",
              "          const docLinkHtml = 'Like what you see? Visit the ' +\n",
              "            '<a target=\"_blank\" href=https://colab.research.google.com/notebooks/data_table.ipynb>data table notebook</a>'\n",
              "            + ' to learn more about interactive tables.';\n",
              "          element.innerHTML = '';\n",
              "          dataTable['output_type'] = 'display_data';\n",
              "          await google.colab.output.renderOutput(dataTable, element);\n",
              "          const docLink = document.createElement('div');\n",
              "          docLink.innerHTML = docLinkHtml;\n",
              "          element.appendChild(docLink);\n",
              "        }\n",
              "      </script>\n",
              "    </div>\n",
              "  </div>\n",
              "  "
            ]
          },
          "metadata": {},
          "execution_count": 286
        }
      ]
    },
    {
      "cell_type": "markdown",
      "source": [
        "### Визуализация данных"
      ],
      "metadata": {
        "id": "v10IMcjCcpW2"
      }
    },
    {
      "cell_type": "markdown",
      "source": [
        "#### Построим гистограммы, чтобы проанализировать распределение каждого из признаков"
      ],
      "metadata": {
        "id": "B_MZRyF1LmwR"
      }
    },
    {
      "cell_type": "code",
      "source": [
        "for feat in df.columns[:-1].tolist():\n",
        "    plt.figure(figsize=(8, 5)) \n",
        "    plt.hist(df[feat], color=np.random.rand(3,), label=f'Гистограмма переменной {feat}, степень скошенности = %.3f'%(df[feat].skew()), bins=30) \n",
        "    plt.title(f'Гистограмма по переменной {feat} с \"нормализованными\" данными')\n",
        "    plt.legend(loc='best')\n",
        "    plt.show()"
      ],
      "metadata": {
        "colab": {
          "base_uri": "https://localhost:8080/",
          "height": 1000
        },
        "id": "4gv-m-gaBDDG",
        "outputId": "90be6af5-5184-4006-b394-e113b4475ee6"
      },
      "execution_count": 287,
      "outputs": [
        {
          "output_type": "display_data",
          "data": {
            "text/plain": [
              "<Figure size 576x360 with 1 Axes>"
            ],
            "image/png": "[encoded data removed]"
          },
          "metadata": {
            "needs_background": "light"
          }
        },
        {
          "output_type": "display_data",
          "data": {
            "text/plain": [
              "<Figure size 576x360 with 1 Axes>"
            ],
            "image/png": "[encoded data removed]"
          },
          "metadata": {
            "needs_background": "light"
          }
        },
        {
          "output_type": "display_data",
          "data": {
            "text/plain": [
              "<Figure size 576x360 with 1 Axes>"
            ],
            "image/png": "[encoded data removed]"
          },
          "metadata": {
            "needs_background": "light"
          }
        },
        {
          "output_type": "display_data",
          "data": {
            "text/plain": [
              "<Figure size 576x360 with 1 Axes>"
            ],
            "image/png": "[encoded data removed]"
          },
          "metadata": {
            "needs_background": "light"
          }
        },
        {
          "output_type": "display_data",
          "data": {
            "text/plain": [
              "<Figure size 576x360 with 1 Axes>"
            ],
            "image/png": "[encoded data removed]"
          },
          "metadata": {
            "needs_background": "light"
          }
        },
        {
          "output_type": "display_data",
          "data": {
            "text/plain": [
              "<Figure size 576x360 with 1 Axes>"
            ],
            "image/png": "[encoded data removed]"
          },
          "metadata": {
            "needs_background": "light"
          }
        },
        {
          "output_type": "display_data",
          "data": {
            "text/plain": [
              "<Figure size 576x360 with 1 Axes>"
            ],
            "image/png": "[encoded data removed]"
          },
          "metadata": {
            "needs_background": "light"
          }
        },
        {
          "output_type": "display_data",
          "data": {
            "text/plain": [
              "<Figure size 576x360 with 1 Axes>"
            ],
            "image/png": "[encoded data removed]"
          },
          "metadata": {
            "needs_background": "light"
          }
        },
        {
          "output_type": "display_data",
          "data": {
            "text/plain": [
              "<Figure size 576x360 with 1 Axes>"
            ],
            "image/png": "[encoded data removed]"
          },
          "metadata": {
            "needs_background": "light"
          }
        }
      ]
    },
    {
      "cell_type": "markdown",
      "source": [
        "Ни одна из характеристик не имеет нормального распределения. Характеристики Fe, Ba, Ca и K имеют самые высокие коэффициенты перекоса. Более того, распределение калия (K) и бария (Ba), похоже, содержит много выбросов."
      ],
      "metadata": {
        "id": "wmMJ4i7GLi1x"
      }
    },
    {
      "cell_type": "markdown",
      "source": [
        "#### Построим ящики с усами, чтобы проанализировать датасет на наличие выбросов"
      ],
      "metadata": {
        "id": "ikP7xiGnLlNl"
      }
    },
    {
      "cell_type": "code",
      "source": [
        "fig, ax = plt.subplots(2, df.shape[1]//2, figsize=(18,12))\n",
        "df.plot(kind='box', subplots=True, ax=ax)\n",
        "fig.subplots_adjust(wspace=0.3, hspace=0.1)"
      ],
      "metadata": {
        "colab": {
          "base_uri": "https://localhost:8080/",
          "height": 703
        },
        "id": "DmYPvQnkfzKE",
        "outputId": "5c86ba1e-cb91-481c-d820-9230595c0c43"
      },
      "execution_count": 288,
      "outputs": [
        {
          "output_type": "display_data",
          "data": {
            "text/plain": [
              "<Figure size 1296x864 with 10 Axes>"
            ],
            "image/png": "[encoded data removed]"
          },
          "metadata": {
            "needs_background": "light"
          }
        }
      ]
    },
    {
      "cell_type": "markdown",
      "source": [
        "#### Посмотрим, как признаки коррелируют между собой "
      ],
      "metadata": {
        "id": "0xR7NhmlMGWw"
      }
    },
    {
      "cell_type": "code",
      "source": [
        "plt.figure(figsize=(14,14))\n",
        "sns.heatmap(df.corr(), annot=True, annot_kws={'size': 12}, vmin=-1, vmax=1, center=0)"
      ],
      "metadata": {
        "colab": {
          "base_uri": "https://localhost:8080/",
          "height": 830
        },
        "id": "E5AEV7wnQ7au",
        "outputId": "0669271b-5668-4b01-e917-c0b89de43f5f"
      },
      "execution_count": 289,
      "outputs": [
        {
          "output_type": "execute_result",
          "data": {
            "text/plain": [
              "<matplotlib.axes._subplots.AxesSubplot at 0x7faa65d22760>"
            ]
          },
          "metadata": {},
          "execution_count": 289
        },
        {
          "output_type": "display_data",
          "data": {
            "text/plain": [
              "<Figure size 1008x1008 with 2 Axes>"
            ],
            "image/png": "[encoded data removed]"
          },
          "metadata": {
            "needs_background": "light"
          }
        }
      ]
    },
    {
      "cell_type": "markdown",
      "source": [
        "### Очищаем датасет от выбросов "
      ],
      "metadata": {
        "id": "7F4CR3TJLzBd"
      }
    },
    {
      "cell_type": "code",
      "source": [
        "def outliers(df):\n",
        "  \n",
        "  outlier_idx = []\n",
        "\n",
        "  for col in df.columns.tolist():\n",
        "    # считаем нижнюю и верхнюю границу через 1 и 3 квартили \n",
        "    q25 = df[col].quantile(q=.25)\n",
        "    q75 = df[col].quantile(q=.75)\n",
        "    iqr = q75-q25\n",
        "\n",
        "    max_border = q75 + (1.5*iqr)\n",
        "    min_border = q25 - (1.5*iqr)\n",
        "        \n",
        "    # определем индекс строки, содержащей выбросы\n",
        "    outlier_list_col = df[(df[col] < min_border) | (df[col] > max_border)].index\n",
        "    \n",
        "    # заполняем найденными индеками массив со всеми индексами\n",
        "    outlier_idx.extend(outlier_list_col)\n",
        "    \n",
        "  # выбираем индексы строк, содержащих больше чем два выброса\n",
        "  outlier_idx = Counter(outlier_idx)        \n",
        "  multiple_outliers = list( k for k, v in outlier_idx.items() if v > 2 )\n",
        "  \n",
        "  return multiple_outliers   \n",
        "\n",
        "print(f'Этот датасет содержит {len(outliers(df[df.columns[:-1].tolist()]))} точек данных с более чем 2 выбросами')   "
      ],
      "metadata": {
        "colab": {
          "base_uri": "https://localhost:8080/"
        },
        "id": "ObCU0mQq-0GK",
        "outputId": "d3c7c0cb-310e-4f17-d0b9-3b4e62ad69d2"
      },
      "execution_count": 290,
      "outputs": [
        {
          "output_type": "stream",
          "name": "stdout",
          "text": [
            "Этот датасет содержит 14 точек данных с более чем 2 выбросами\n"
          ]
        }
      ]
    },
    {
      "cell_type": "markdown",
      "source": [
        "Очищаем лишние строки, "
      ],
      "metadata": {
        "id": "FsJLsudiDtGz"
      }
    },
    {
      "cell_type": "code",
      "source": [
        "df = df.drop(outliers(df[df.columns[:-1].tolist()])).reset_index(drop=True)\n",
        "df.shape"
      ],
      "metadata": {
        "colab": {
          "base_uri": "https://localhost:8080/"
        },
        "id": "svR1Nzr-C3MU",
        "outputId": "45992f4a-0a10-41b9-8e5c-812e0670ec9c"
      },
      "execution_count": 291,
      "outputs": [
        {
          "output_type": "execute_result",
          "data": {
            "text/plain": [
              "(200, 10)"
            ]
          },
          "metadata": {},
          "execution_count": 291
        }
      ]
    },
    {
      "cell_type": "markdown",
      "source": [
        "### Выделяем целевую переменную и остальные признаки"
      ],
      "metadata": {
        "id": "TzZemTR6XXCU"
      }
    },
    {
      "cell_type": "code",
      "source": [
        "y = df['Type']\n",
        "x = df.drop(['Type'], axis=1)"
      ],
      "metadata": {
        "id": "iSPZ2QFLXoRe"
      },
      "execution_count": 292,
      "outputs": []
    },
    {
      "cell_type": "markdown",
      "source": [
        "### Разделяем выбору в соотношении 80/20 процентов, `shuffle=False` для исключения перемешивания данных"
      ],
      "metadata": {
        "id": "_R_pPNB2Xsb1"
      }
    },
    {
      "cell_type": "code",
      "source": [
        "x_train, x_test, y_train, y_test = train_test_split(x, y, test_size=0.3, random_state=True)"
      ],
      "metadata": {
        "id": "l4oJ2Oe6Xr8E"
      },
      "execution_count": 293,
      "outputs": []
    },
    {
      "cell_type": "code",
      "source": [
        "print(f'Количество точек исходных данных: {y.shape[0]}')\n",
        "print(f'Количество точек тренировочных данных: {y_train.shape[0]}')\n",
        "print(f'Количество точек тестовых данных: {y_test.shape[0]}')"
      ],
      "metadata": {
        "colab": {
          "base_uri": "https://localhost:8080/"
        },
        "id": "jD5XQwmiX-0_",
        "outputId": "dab8b1ca-5609-42a5-c85d-b18858084620"
      },
      "execution_count": 294,
      "outputs": [
        {
          "output_type": "stream",
          "name": "stdout",
          "text": [
            "Количество точек исходных данных: 200\n",
            "Количество точек тренировочных данных: 140\n",
            "Количество точек тестовых данных: 60\n"
          ]
        }
      ]
    },
    {
      "cell_type": "markdown",
      "source": [
        "### Нормализуем наши данные "
      ],
      "metadata": {
        "id": "J-LIr8cFRIN4"
      }
    },
    {
      "cell_type": "markdown",
      "source": [
        "Я использую для этого МинМаксСкалер, можно еще использовать СтандартСкалер"
      ],
      "metadata": {
        "id": "perpTmyxT5Vt"
      }
    },
    {
      "cell_type": "code",
      "source": [
        "x_train = MinMaxScaler().fit_transform(x_train)\n",
        "x_test = MinMaxScaler().fit_transform(x_test)"
      ],
      "metadata": {
        "id": "sKxoQZ3cRLNn"
      },
      "execution_count": 295,
      "outputs": []
    },
    {
      "cell_type": "markdown",
      "source": [
        "### Задача классификации"
      ],
      "metadata": {
        "id": "r5befQ1fYReO"
      }
    },
    {
      "cell_type": "markdown",
      "source": [
        "Так как этих методов дохуя, сделаем классификацию с использованием основных пяти: \n",
        "- логистическая регрессия \n",
        "- метод опорных векторов (линейное ядрос)\n",
        "- метод опорных векторов (гауссовое ядро)\n",
        "- метод k ближайших соседей \n",
        "- метод деревая решений "
      ],
      "metadata": {
        "id": "hCHUwr4hTTr3"
      }
    },
    {
      "cell_type": "markdown",
      "source": [
        "#### Логистическая регрессия"
      ],
      "metadata": {
        "id": "n0uUcoSFTkNI"
      }
    },
    {
      "cell_type": "code",
      "source": [
        "from sklearn.linear_model import LogisticRegression"
      ],
      "metadata": {
        "id": "MOWIPzSSUAqt"
      },
      "execution_count": 296,
      "outputs": []
    },
    {
      "cell_type": "code",
      "source": [
        "cls = LogisticRegression(solver='lbfgs', max_iter=1000).fit(x_train, y_train)\n",
        "y_pred_cls = cls.predict(x_test)\n",
        "\n",
        "matrix_cls = metrics.confusion_matrix(y_test, y_pred_cls)\n",
        "print(matrix_cls)"
      ],
      "metadata": {
        "colab": {
          "base_uri": "https://localhost:8080/"
        },
        "id": "66pwfwuxYU_F",
        "outputId": "dfb76b75-7171-4b18-bc5b-8f2c978a2f2e"
      },
      "execution_count": 297,
      "outputs": [
        {
          "output_type": "stream",
          "name": "stdout",
          "text": [
            "[[ 8 16  0  0  0]\n",
            " [ 3 14  1  0  0]\n",
            " [ 1  1  0  0  1]\n",
            " [ 2  2  0  0  0]\n",
            " [ 0  1  0  0 10]]\n"
          ]
        }
      ]
    },
    {
      "cell_type": "code",
      "source": [
        "print(f'Метрика достоверности (logistic): {metrics.accuracy_score(y_test, y_pred_cls)}')\n",
        "print(f'Метрика точности (logistic): {metrics.precision_score(y_test, y_pred_cls, average = \"micro\")}')\n",
        "print(f'Метрика полноты (logistic): {metrics.recall_score(y_test, y_pred_cls, average = \"micro\")}')"
      ],
      "metadata": {
        "colab": {
          "base_uri": "https://localhost:8080/"
        },
        "id": "RP4IW6Z3TsrD",
        "outputId": "12013c35-ba17-43d0-f3a5-8cc7b4f0cd46"
      },
      "execution_count": 298,
      "outputs": [
        {
          "output_type": "stream",
          "name": "stdout",
          "text": [
            "Метрика достоверности (logistic): 0.5333333333333333\n",
            "Метрика точности (logistic): 0.5333333333333333\n",
            "Метрика полноты (logistic): 0.5333333333333333\n"
          ]
        }
      ]
    },
    {
      "cell_type": "markdown",
      "source": [
        "#### Метод опорных векторов с линейным ядром "
      ],
      "metadata": {
        "id": "0G3OLlpZUG-p"
      }
    },
    {
      "cell_type": "code",
      "source": [
        "from sklearn import svm"
      ],
      "metadata": {
        "id": "xgtOW5cFUWnZ"
      },
      "execution_count": 299,
      "outputs": []
    },
    {
      "cell_type": "code",
      "source": [
        "svc = svm.SVC(kernel='linear', probability=True).fit(x_train, y_train)\n",
        "y_pred_svc = svc.predict(x_test)\n",
        "\n",
        "matrix_svc = metrics.confusion_matrix(y_test, y_pred_svc)\n",
        "print(matrix_svc)"
      ],
      "metadata": {
        "colab": {
          "base_uri": "https://localhost:8080/"
        },
        "id": "xrhASWTGUXXk",
        "outputId": "f3aad099-1de7-462d-ef41-89ebf1872081"
      },
      "execution_count": 300,
      "outputs": [
        {
          "output_type": "stream",
          "name": "stdout",
          "text": [
            "[[ 5 19  0  0  0]\n",
            " [ 1 16  1  0  0]\n",
            " [ 0  1  2  0  0]\n",
            " [ 1  3  0  0  0]\n",
            " [ 0  1  0  0 10]]\n"
          ]
        }
      ]
    },
    {
      "cell_type": "code",
      "source": [
        "print(f'Метрика достоверности (svc linear): {metrics.accuracy_score(y_test, y_pred_svc)}')\n",
        "print(f'Метрика точности (svc linear): {metrics.precision_score(y_test, y_pred_svc, average = \"micro\")}')\n",
        "print(f'Метрика полноты (svc linear): {metrics.recall_score(y_test, y_pred_svc, average = \"micro\")}')"
      ],
      "metadata": {
        "colab": {
          "base_uri": "https://localhost:8080/"
        },
        "id": "wR77sIEcUZDT",
        "outputId": "645c3009-dc29-40a0-df11-2765d7921656"
      },
      "execution_count": 301,
      "outputs": [
        {
          "output_type": "stream",
          "name": "stdout",
          "text": [
            "Метрика достоверности (svc linear): 0.55\n",
            "Метрика точности (svc linear): 0.55\n",
            "Метрика полноты (svc linear): 0.55\n"
          ]
        }
      ]
    },
    {
      "cell_type": "markdown",
      "source": [
        "#### Метод опорных векторов с гауссовым ядром "
      ],
      "metadata": {
        "id": "wtA4zWjJUlSx"
      }
    },
    {
      "cell_type": "code",
      "source": [
        "svc_g = svm.SVC(kernel='rbf', probability=True).fit(x_train, y_train)\n",
        "y_pred_svc_g = svc_g.predict(x_test)\n",
        "\n",
        "matrix_svc_g = metrics.confusion_matrix(y_test, y_pred_svc_g)\n",
        "print(matrix_svc_g)"
      ],
      "metadata": {
        "colab": {
          "base_uri": "https://localhost:8080/"
        },
        "id": "EDKnKKAHUa9V",
        "outputId": "312f512b-c1cb-46d0-812c-2e63b8229823"
      },
      "execution_count": 302,
      "outputs": [
        {
          "output_type": "stream",
          "name": "stdout",
          "text": [
            "[[ 6 18  0  0  0]\n",
            " [ 2 16  0  0  0]\n",
            " [ 0  1  2  0  0]\n",
            " [ 1  2  0  1  0]\n",
            " [ 0  1  0  0 10]]\n"
          ]
        }
      ]
    },
    {
      "cell_type": "code",
      "source": [
        "print(f'Метрика достоверности (svc rbf): {metrics.accuracy_score(y_test, y_pred_svc_g)}')\n",
        "print(f'Метрика точности (svc rbf): {metrics.precision_score(y_test, y_pred_svc_g, average = \"micro\")}')\n",
        "print(f'Метрика полноты (svc rbf): {metrics.recall_score(y_test, y_pred_svc_g, average = \"micro\")}')"
      ],
      "metadata": {
        "colab": {
          "base_uri": "https://localhost:8080/"
        },
        "id": "YHKR9IpoUpTW",
        "outputId": "7b22b4ee-ec73-4dda-a7ce-27df42339802"
      },
      "execution_count": 303,
      "outputs": [
        {
          "output_type": "stream",
          "name": "stdout",
          "text": [
            "Метрика достоверности (svc rbf): 0.5833333333333334\n",
            "Метрика точности (svc rbf): 0.5833333333333334\n",
            "Метрика полноты (svc rbf): 0.5833333333333334\n"
          ]
        }
      ]
    },
    {
      "cell_type": "markdown",
      "source": [
        "#### Метод k ближайших соседей"
      ],
      "metadata": {
        "id": "qgCfmg6zUwhd"
      }
    },
    {
      "cell_type": "code",
      "source": [
        "from sklearn.neighbors import KNeighborsClassifier"
      ],
      "metadata": {
        "id": "j6W4KhKAUrqD"
      },
      "execution_count": 304,
      "outputs": []
    },
    {
      "cell_type": "code",
      "source": [
        "# количество соседей n_neighbors = 10 подбирала вручную, проверку делала на метрике точности\n",
        "kn = KNeighborsClassifier(n_neighbors=10).fit(x_train, y_train)\n",
        "y_pred_kn = kn.predict(x_test)\n",
        "\n",
        "matrix_kn = metrics.confusion_matrix(y_test, y_pred_kn)\n",
        "print(matrix_kn)"
      ],
      "metadata": {
        "colab": {
          "base_uri": "https://localhost:8080/"
        },
        "id": "zRN03rJhU0rd",
        "outputId": "61ec602a-2ed9-4081-c033-219320e1e75d"
      },
      "execution_count": 305,
      "outputs": [
        {
          "output_type": "stream",
          "name": "stdout",
          "text": [
            "[[18  6  0  0  0]\n",
            " [ 9  7  1  1  0]\n",
            " [ 1  0  2  0  0]\n",
            " [ 1  1  1  0  1]\n",
            " [ 1  0  0  0 10]]\n"
          ]
        }
      ]
    },
    {
      "cell_type": "code",
      "source": [
        "print(f'Метрика достоверности (KN): {metrics.accuracy_score(y_test, y_pred_kn)}')\n",
        "print(f'Метрика точности (KN): {metrics.precision_score(y_test, y_pred_kn, average = \"micro\")}')\n",
        "print(f'Метрика полноты (KN): {metrics.recall_score(y_test, y_pred_kn, average = \"micro\")}')"
      ],
      "metadata": {
        "colab": {
          "base_uri": "https://localhost:8080/"
        },
        "id": "LdkOomHZU4Ip",
        "outputId": "987b5e75-9dd7-4d66-b8e9-342eb50d8006"
      },
      "execution_count": 306,
      "outputs": [
        {
          "output_type": "stream",
          "name": "stdout",
          "text": [
            "Метрика достоверности (KN): 0.6166666666666667\n",
            "Метрика точности (KN): 0.6166666666666667\n",
            "Метрика полноты (KN): 0.6166666666666667\n"
          ]
        }
      ]
    },
    {
      "cell_type": "markdown",
      "source": [
        "### Метод дерева решений "
      ],
      "metadata": {
        "id": "-2dcWyNjVUpo"
      }
    },
    {
      "cell_type": "code",
      "source": [
        "from sklearn.tree import DecisionTreeClassifier"
      ],
      "metadata": {
        "id": "p0KUdj1aWO5F"
      },
      "execution_count": 307,
      "outputs": []
    },
    {
      "cell_type": "code",
      "source": [
        "dt = DecisionTreeClassifier().fit(x_train, y_train)\n",
        "y_pred_dt = dt.predict(x_test)\n",
        "\n",
        "matrix_dt = metrics.confusion_matrix(y_test, y_pred_dt)\n",
        "print(matrix_dt)"
      ],
      "metadata": {
        "colab": {
          "base_uri": "https://localhost:8080/"
        },
        "id": "LxBWnQtvVXFY",
        "outputId": "17176f63-5a67-4112-9bef-03db8d3043ee"
      },
      "execution_count": 308,
      "outputs": [
        {
          "output_type": "stream",
          "name": "stdout",
          "text": [
            "[[13  8  1  0  0  2]\n",
            " [ 9  6  0  1  1  1]\n",
            " [ 0  0  0  0  0  0]\n",
            " [ 0  0  0  1  1  1]\n",
            " [ 0  3  0  0  1  0]\n",
            " [ 1  5  0  0  0  5]]\n"
          ]
        }
      ]
    },
    {
      "cell_type": "code",
      "source": [
        "print(f'Метрика достоверности (dec tree): {metrics.accuracy_score(y_test, y_pred_dt)}') \n",
        "print(f'Метрика точности (dec tree): {metrics.precision_score(y_test, y_pred_dt, average = \"micro\")}')\n",
        "print(f'Метрика полноты (dec tree): {metrics.recall_score(y_test, y_pred_dt, average = \"micro\")}')"
      ],
      "metadata": {
        "colab": {
          "base_uri": "https://localhost:8080/"
        },
        "id": "d-oiWvcYWYHZ",
        "outputId": "e8bc7898-6fb7-42fe-ef20-b4503164d41c"
      },
      "execution_count": 309,
      "outputs": [
        {
          "output_type": "stream",
          "name": "stdout",
          "text": [
            "Метрика достоверности (dec tree): 0.43333333333333335\n",
            "Метрика точности (dec tree): 0.43333333333333335\n",
            "Метрика полноты (dec tree): 0.43333333333333335\n"
          ]
        }
      ]
    },
    {
      "cell_type": "markdown",
      "source": [
        "### Оценка эффективности обучения моделей (метрики)"
      ],
      "metadata": {
        "id": "2LpsbS9zVGLV"
      }
    },
    {
      "cell_type": "code",
      "source": [
        "clas = {'LogisticRegression': y_pred_cls, 'SVC linear': y_pred_svc, \n",
        "        'SVC rbf': y_pred_svc_g, 'KNeighbors': y_pred_kn, 'DecisionTree': y_pred_dt}\n",
        "\n",
        "for n, y_pred in clas.items():\n",
        "  print(f'Достоверность ({n}): {metrics.accuracy_score(y_test, y_pred)}')\n",
        "  print(f'Точность ({n}): {metrics.precision_score(y_test, y_pred, average = \"micro\")}')\n",
        "  print(f'Полнота ({n}): {metrics.recall_score(y_test, y_pred, average = \"micro\")}\\n')"
      ],
      "metadata": {
        "colab": {
          "base_uri": "https://localhost:8080/"
        },
        "id": "9FNV-z9IU6Xa",
        "outputId": "2b6a3752-e66d-494d-9dae-808568334225"
      },
      "execution_count": 310,
      "outputs": [
        {
          "output_type": "stream",
          "name": "stdout",
          "text": [
            "Достоверность (LogisticRegression): 0.5333333333333333\n",
            "Точность (LogisticRegression): 0.5333333333333333\n",
            "Полнота (LogisticRegression): 0.5333333333333333\n",
            "\n",
            "Достоверность (SVC linear): 0.55\n",
            "Точность (SVC linear): 0.55\n",
            "Полнота (SVC linear): 0.55\n",
            "\n",
            "Достоверность (SVC rbf): 0.5833333333333334\n",
            "Точность (SVC rbf): 0.5833333333333334\n",
            "Полнота (SVC rbf): 0.5833333333333334\n",
            "\n",
            "Достоверность (KNeighbors): 0.6166666666666667\n",
            "Точность (KNeighbors): 0.6166666666666667\n",
            "Полнота (KNeighbors): 0.6166666666666667\n",
            "\n",
            "Достоверность (DecisionTree): 0.43333333333333335\n",
            "Точность (DecisionTree): 0.43333333333333335\n",
            "Полнота (DecisionTree): 0.43333333333333335\n",
            "\n"
          ]
        }
      ]
    },
    {
      "cell_type": "markdown",
      "source": [
        "**На основе метрик мы видим, что все модели работают как хуйня ебаная, но самый норм — метод k ближайших соседей** "
      ],
      "metadata": {
        "id": "PeFIAdFAWsC7"
      }
    },
    {
      "cell_type": "markdown",
      "source": [
        "### Вывод о недообученности/переобученности модели"
      ],
      "metadata": {
        "id": "B056CDz5NE6e"
      }
    },
    {
      "cell_type": "code",
      "source": [
        "acc_cls = metrics.accuracy_score(y_test, y_pred_cls)\n",
        "acc_svc = metrics.accuracy_score(y_test, y_pred_svc)\n",
        "acc_svc_g = metrics.accuracy_score(y_test, y_pred_svc_g)\n",
        "acc_kn = metrics.accuracy_score(y_test, y_pred_kn)\n",
        "acc_dt = metrics.accuracy_score(y_test, y_pred_dt)\n",
        "\n",
        "acc_train_cls = metrics.accuracy_score(y_train, cls.predict(x_train))\n",
        "acc_train_svc = metrics.accuracy_score(y_train, svc.predict(x_train))\n",
        "acc_train_svc_g = metrics.accuracy_score(y_train, svc_g.predict(x_train))\n",
        "acc_train_kn = metrics.accuracy_score(y_train, kn.predict(x_train))\n",
        "acc_train_dt = metrics.accuracy_score(y_train, dt.predict(x_train))"
      ],
      "metadata": {
        "id": "ifdnMSWvN31G"
      },
      "execution_count": 311,
      "outputs": []
    },
    {
      "cell_type": "code",
      "source": [
        "trained = pd.DataFrame(columns = ['test data', 'train data'])\n",
        "\n",
        "logistic = [acc_cls, acc_train_cls]\n",
        "svm = [acc_svc, acc_train_svc]\n",
        "svm_g = [acc_svc, acc_train_svc]\n",
        "kneighbors = [acc_kn, acc_train_kn]\n",
        "dtree = [acc_dt, acc_train_dt]\n",
        "\n",
        "trained.loc[0] = logistic\n",
        "trained.loc[1] = svm\n",
        "trained.loc[2] = svm_g\n",
        "trained.loc[3] = kneighbors\n",
        "trained.loc[4] = dtree\n",
        "\n",
        "trained['result'] = trained.apply(lambda x: 'недообучена' if x['test data'] > x['train data'] else 'переобучена', axis=1)\n",
        "trained.set_axis(['LogisticRegression', 'SVC linear', 'SVC rbf', 'KNeighbors', 'DecisionTree'], axis='index', inplace=True)\n",
        "\n",
        "trained"
      ],
      "metadata": {
        "colab": {
          "base_uri": "https://localhost:8080/",
          "height": 206
        },
        "id": "16uGf9EOEG5g",
        "outputId": "e5191537-36ab-4688-abe9-f41b207d27f7"
      },
      "execution_count": 312,
      "outputs": [
        {
          "output_type": "execute_result",
          "data": {
            "text/plain": [
              "                    test data  train data       result\n",
              "LogisticRegression   0.533333    0.600000  переобучена\n",
              "SVC linear           0.550000    0.592857  переобучена\n",
              "SVC rbf              0.550000    0.592857  переобучена\n",
              "KNeighbors           0.616667    0.671429  переобучена\n",
              "DecisionTree         0.433333    1.000000  переобучена"
            ],
            "text/html": [
              "\n",
              "  <div id=\"df-1d2db599-9cb7-4706-ae3b-ba9a7220656a\">\n",
              "    <div class=\"colab-df-container\">\n",
              "      <div>\n",
              "<style scoped>\n",
              "    .dataframe tbody tr th:only-of-type {\n",
              "        vertical-align: middle;\n",
              "    }\n",
              "\n",
              "    .dataframe tbody tr th {\n",
              "        vertical-align: top;\n",
              "    }\n",
              "\n",
              "    .dataframe thead th {\n",
              "        text-align: right;\n",
              "    }\n",
              "</style>\n",
              "<table border=\"1\" class=\"dataframe\">\n",
              "  <thead>\n",
              "    <tr style=\"text-align: right;\">\n",
              "      <th></th>\n",
              "      <th>test data</th>\n",
              "      <th>train data</th>\n",
              "      <th>result</th>\n",
              "    </tr>\n",
              "  </thead>\n",
              "  <tbody>\n",
              "    <tr>\n",
              "      <th>LogisticRegression</th>\n",
              "      <td>0.533333</td>\n",
              "      <td>0.600000</td>\n",
              "      <td>переобучена</td>\n",
              "    </tr>\n",
              "    <tr>\n",
              "      <th>SVC linear</th>\n",
              "      <td>0.550000</td>\n",
              "      <td>0.592857</td>\n",
              "      <td>переобучена</td>\n",
              "    </tr>\n",
              "    <tr>\n",
              "      <th>SVC rbf</th>\n",
              "      <td>0.550000</td>\n",
              "      <td>0.592857</td>\n",
              "      <td>переобучена</td>\n",
              "    </tr>\n",
              "    <tr>\n",
              "      <th>KNeighbors</th>\n",
              "      <td>0.616667</td>\n",
              "      <td>0.671429</td>\n",
              "      <td>переобучена</td>\n",
              "    </tr>\n",
              "    <tr>\n",
              "      <th>DecisionTree</th>\n",
              "      <td>0.433333</td>\n",
              "      <td>1.000000</td>\n",
              "      <td>переобучена</td>\n",
              "    </tr>\n",
              "  </tbody>\n",
              "</table>\n",
              "</div>\n",
              "      <button class=\"colab-df-convert\" onclick=\"convertToInteractive('df-1d2db599-9cb7-4706-ae3b-ba9a7220656a')\"\n",
              "              title=\"Convert this dataframe to an interactive table.\"\n",
              "              style=\"display:none;\">\n",
              "        \n",
              "  <svg xmlns=\"http://www.w3.org/2000/svg\" height=\"24px\"viewBox=\"0 0 24 24\"\n",
              "       width=\"24px\">\n",
              "    <path d=\"M0 0h24v24H0V0z\" fill=\"none\"/>\n",
              "    <path d=\"M18.56 5.44l.94 2.06.94-2.06 2.06-.94-2.06-.94-.94-2.06-.94 2.06-2.06.94zm-11 1L8.5 8.5l.94-2.06 2.06-.94-2.06-.94L8.5 2.5l-.94 2.06-2.06.94zm10 10l.94 2.06.94-2.06 2.06-.94-2.06-.94-.94-2.06-.94 2.06-2.06.94z\"/><path d=\"M17.41 7.96l-1.37-1.37c-.4-.4-.92-.59-1.43-.59-.52 0-1.04.2-1.43.59L10.3 9.45l-7.72 7.72c-.78.78-.78 2.05 0 2.83L4 21.41c.39.39.9.59 1.41.59.51 0 1.02-.2 1.41-.59l7.78-7.78 2.81-2.81c.8-.78.8-2.07 0-2.86zM5.41 20L4 18.59l7.72-7.72 1.47 1.35L5.41 20z\"/>\n",
              "  </svg>\n",
              "      </button>\n",
              "      \n",
              "  <style>\n",
              "    .colab-df-container {\n",
              "      display:flex;\n",
              "      flex-wrap:wrap;\n",
              "      gap: 12px;\n",
              "    }\n",
              "\n",
              "    .colab-df-convert {\n",
              "      background-color: #E8F0FE;\n",
              "      border: none;\n",
              "      border-radius: 50%;\n",
              "      cursor: pointer;\n",
              "      display: none;\n",
              "      fill: #1967D2;\n",
              "      height: 32px;\n",
              "      padding: 0 0 0 0;\n",
              "      width: 32px;\n",
              "    }\n",
              "\n",
              "    .colab-df-convert:hover {\n",
              "      background-color: #E2EBFA;\n",
              "      box-shadow: 0px 1px 2px rgba(60, 64, 67, 0.3), 0px 1px 3px 1px rgba(60, 64, 67, 0.15);\n",
              "      fill: #174EA6;\n",
              "    }\n",
              "\n",
              "    [theme=dark] .colab-df-convert {\n",
              "      background-color: #3B4455;\n",
              "      fill: #D2E3FC;\n",
              "    }\n",
              "\n",
              "    [theme=dark] .colab-df-convert:hover {\n",
              "      background-color: #434B5C;\n",
              "      box-shadow: 0px 1px 3px 1px rgba(0, 0, 0, 0.15);\n",
              "      filter: drop-shadow(0px 1px 2px rgba(0, 0, 0, 0.3));\n",
              "      fill: #FFFFFF;\n",
              "    }\n",
              "  </style>\n",
              "\n",
              "      <script>\n",
              "        const buttonEl =\n",
              "          document.querySelector('#df-1d2db599-9cb7-4706-ae3b-ba9a7220656a button.colab-df-convert');\n",
              "        buttonEl.style.display =\n",
              "          google.colab.kernel.accessAllowed ? 'block' : 'none';\n",
              "\n",
              "        async function convertToInteractive(key) {\n",
              "          const element = document.querySelector('#df-1d2db599-9cb7-4706-ae3b-ba9a7220656a');\n",
              "          const dataTable =\n",
              "            await google.colab.kernel.invokeFunction('convertToInteractive',\n",
              "                                                     [key], {});\n",
              "          if (!dataTable) return;\n",
              "\n",
              "          const docLinkHtml = 'Like what you see? Visit the ' +\n",
              "            '<a target=\"_blank\" href=https://colab.research.google.com/notebooks/data_table.ipynb>data table notebook</a>'\n",
              "            + ' to learn more about interactive tables.';\n",
              "          element.innerHTML = '';\n",
              "          dataTable['output_type'] = 'display_data';\n",
              "          await google.colab.output.renderOutput(dataTable, element);\n",
              "          const docLink = document.createElement('div');\n",
              "          docLink.innerHTML = docLinkHtml;\n",
              "          element.appendChild(docLink);\n",
              "        }\n",
              "      </script>\n",
              "    </div>\n",
              "  </div>\n",
              "  "
            ]
          },
          "metadata": {},
          "execution_count": 312
        }
      ]
    },
    {
      "cell_type": "code",
      "source": [],
      "metadata": {
        "id": "yIUGq7UEP_I8"
      },
      "execution_count": 312,
      "outputs": []
    }
  ]
}