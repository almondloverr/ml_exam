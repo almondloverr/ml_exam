{
  "nbformat": 4,
  "nbformat_minor": 0,
  "metadata": {
    "colab": {
      "provenance": []
    },
    "kernelspec": {
      "name": "python3",
      "display_name": "Python 3"
    },
    "language_info": {
      "name": "python"
    }
  },
  "cells": [
    {
      "cell_type": "markdown",
      "source": [
        "# Датасет №3 \"Income Classification\""
      ],
      "metadata": {
        "id": "ZLjdYwD4ABsl"
      }
    },
    {
      "cell_type": "markdown",
      "source": [
        "### Описание датасета"
      ],
      "metadata": {
        "id": "NEHNVV9tNaw8"
      }
    },
    {
      "cell_type": "markdown",
      "source": [
        "Информация об атрибутах:\n",
        "\n",
        "- возраст: постоянный.\n",
        "- класс работы: Частный, Самозанятый-не-инк, Самозанятый-инк, Федеральное правительство, Местное правительство, Государственное правительство, Без оплаты, Никогда не работал.\n",
        "- fnlwgt: непрерывный.\n",
        "- образование: Bachelors, Some-college, 11th, HS-grad, Prof-school, Assoc-acdm, Assoc-voc, 9th, 7th-8th, 12th, Masters, 1st-4th, 10th, Doctorate, 5th-6th, Preschool.\n",
        "- education-num: непрерывный.\n",
        "- семейное положение: Женат - гражданский супруг, Разведен, Никогда не был женат, Разлучен, Вдовец, Женат-супруг-отсутствует, Женат-АФ-супруг.\n",
        "- род занятий: Техподдержка, Ремесло-ремонт, Прочие услуги, Продажи, Исполнительный-менеджер, Проф-специальность, Обработчики-уборщики, Машинист-оп-инспектор, Адм-клирикал, Фермерство-рыбалка, Транспорт-перевозки, Частный дом-служба, Защитник-служба, Вооруженные силы.\n",
        "- отношения: Жена, Собственный ребенок, Муж, Не в семье, Другой родственник, Не замужем.\n",
        "- раса: Белый, Азиатско-Тихоокеанский, Исландец, Американский индеец-эскимос, Другой, Черный.\n",
        "- пол: Женский, Мужской.\n",
        "- прирост капитала: непрерывный.\n",
        "- потеря капитала: непрерывный.\n",
        "- часы в неделю: непрерывный.\n",
        "- страна происхождения: Соединенные Штаты, Камбоджа, Англия, Пуэрто-Рико, Канада, Германия, Аутлинг-США (Гуам-УСВИ-etc), Индия, Япония, Греция, Юг, Китай, Куба, Иран, Гондурас, Филиппины, Италия, Польша, Ямайка, Вьетнам, Мексика, Португалия, Ирландия, Франция, Доминиканская Республика, Лаос, Эквадор, Тайвань, Гаити, Колумбия, Венгрия, Гватемала, Никарагуа, Шотландия, Таиланд, Югославия, Эль-Сальвадор, Тринад и Тобаго, Перу, Гонг, Голандия-Нидерланды."
      ],
      "metadata": {
        "id": "O0ctRgfUMpQ6"
      }
    },
    {
      "cell_type": "markdown",
      "source": [
        "### Импорт модулей"
      ],
      "metadata": {
        "id": "0JGar1MeNwhc"
      }
    },
    {
      "cell_type": "code",
      "source": [
        "# импорт стандартных модулей \n",
        "\n",
        "import numpy as np\n",
        "import pandas as pd\n",
        "import seaborn as sns\n",
        "import random\n",
        "import matplotlib.pyplot as plt\n",
        "\n",
        "from collections import Counter"
      ],
      "metadata": {
        "id": "59DPwzj_CWwu"
      },
      "execution_count": 78,
      "outputs": []
    },
    {
      "cell_type": "code",
      "source": [
        "# иморт модулей sklearn'а\n",
        "\n",
        "from sklearn.preprocessing import LabelEncoder, MinMaxScaler\n",
        "from sklearn.model_selection import train_test_split\n",
        "from sklearn import metrics"
      ],
      "metadata": {
        "id": "tLoHdzxRDCBT"
      },
      "execution_count": 79,
      "outputs": []
    },
    {
      "cell_type": "markdown",
      "source": [
        "### Загрузка датасета и подготовка данных"
      ],
      "metadata": {
        "id": "8Wh8kZEqBUmV"
      }
    },
    {
      "cell_type": "markdown",
      "source": [
        "Файл я брала с выгруженного на свой гитхаб репозитория"
      ],
      "metadata": {
        "id": "ZdopMBKrN0O9"
      }
    },
    {
      "cell_type": "code",
      "execution_count": 80,
      "metadata": {
        "colab": {
          "base_uri": "https://localhost:8080/",
          "height": 392
        },
        "id": "d3qVhvuR_5I5",
        "outputId": "626adabb-8aa3-4a6e-f84c-93dd3e28b7c7"
      },
      "outputs": [
        {
          "output_type": "execute_result",
          "data": {
            "text/plain": [
              "   age          workclass   fnlwgt   education   education-num  \\\n",
              "0   39          State-gov    77516   Bachelors              13   \n",
              "1   50   Self-emp-not-inc    83311   Bachelors              13   \n",
              "2   38            Private   215646     HS-grad               9   \n",
              "3   53            Private   234721        11th               7   \n",
              "4   28            Private   338409   Bachelors              13   \n",
              "\n",
              "        marital-status          occupation    relationship    race      sex  \\\n",
              "0        Never-married        Adm-clerical   Not-in-family   White     Male   \n",
              "1   Married-civ-spouse     Exec-managerial         Husband   White     Male   \n",
              "2             Divorced   Handlers-cleaners   Not-in-family   White     Male   \n",
              "3   Married-civ-spouse   Handlers-cleaners         Husband   Black     Male   \n",
              "4   Married-civ-spouse      Prof-specialty            Wife   Black   Female   \n",
              "\n",
              "    capital-gain   capital-loss   hours-per-week  native-country  income  \n",
              "0           2174              0               40   United-States   <=50K  \n",
              "1              0              0               13   United-States   <=50K  \n",
              "2              0              0               40   United-States   <=50K  \n",
              "3              0              0               40   United-States   <=50K  \n",
              "4              0              0               40            Cuba   <=50K  "
            ],
            "text/html": [
              "\n",
              "  <div id=\"df-9d11d907-e39a-4e0b-b845-be7e4a37f75a\">\n",
              "    <div class=\"colab-df-container\">\n",
              "      <div>\n",
              "<style scoped>\n",
              "    .dataframe tbody tr th:only-of-type {\n",
              "        vertical-align: middle;\n",
              "    }\n",
              "\n",
              "    .dataframe tbody tr th {\n",
              "        vertical-align: top;\n",
              "    }\n",
              "\n",
              "    .dataframe thead th {\n",
              "        text-align: right;\n",
              "    }\n",
              "</style>\n",
              "<table border=\"1\" class=\"dataframe\">\n",
              "  <thead>\n",
              "    <tr style=\"text-align: right;\">\n",
              "      <th></th>\n",
              "      <th>age</th>\n",
              "      <th>workclass</th>\n",
              "      <th>fnlwgt</th>\n",
              "      <th>education</th>\n",
              "      <th>education-num</th>\n",
              "      <th>marital-status</th>\n",
              "      <th>occupation</th>\n",
              "      <th>relationship</th>\n",
              "      <th>race</th>\n",
              "      <th>sex</th>\n",
              "      <th>capital-gain</th>\n",
              "      <th>capital-loss</th>\n",
              "      <th>hours-per-week</th>\n",
              "      <th>native-country</th>\n",
              "      <th>income</th>\n",
              "    </tr>\n",
              "  </thead>\n",
              "  <tbody>\n",
              "    <tr>\n",
              "      <th>0</th>\n",
              "      <td>39</td>\n",
              "      <td>State-gov</td>\n",
              "      <td>77516</td>\n",
              "      <td>Bachelors</td>\n",
              "      <td>13</td>\n",
              "      <td>Never-married</td>\n",
              "      <td>Adm-clerical</td>\n",
              "      <td>Not-in-family</td>\n",
              "      <td>White</td>\n",
              "      <td>Male</td>\n",
              "      <td>2174</td>\n",
              "      <td>0</td>\n",
              "      <td>40</td>\n",
              "      <td>United-States</td>\n",
              "      <td>&lt;=50K</td>\n",
              "    </tr>\n",
              "    <tr>\n",
              "      <th>1</th>\n",
              "      <td>50</td>\n",
              "      <td>Self-emp-not-inc</td>\n",
              "      <td>83311</td>\n",
              "      <td>Bachelors</td>\n",
              "      <td>13</td>\n",
              "      <td>Married-civ-spouse</td>\n",
              "      <td>Exec-managerial</td>\n",
              "      <td>Husband</td>\n",
              "      <td>White</td>\n",
              "      <td>Male</td>\n",
              "      <td>0</td>\n",
              "      <td>0</td>\n",
              "      <td>13</td>\n",
              "      <td>United-States</td>\n",
              "      <td>&lt;=50K</td>\n",
              "    </tr>\n",
              "    <tr>\n",
              "      <th>2</th>\n",
              "      <td>38</td>\n",
              "      <td>Private</td>\n",
              "      <td>215646</td>\n",
              "      <td>HS-grad</td>\n",
              "      <td>9</td>\n",
              "      <td>Divorced</td>\n",
              "      <td>Handlers-cleaners</td>\n",
              "      <td>Not-in-family</td>\n",
              "      <td>White</td>\n",
              "      <td>Male</td>\n",
              "      <td>0</td>\n",
              "      <td>0</td>\n",
              "      <td>40</td>\n",
              "      <td>United-States</td>\n",
              "      <td>&lt;=50K</td>\n",
              "    </tr>\n",
              "    <tr>\n",
              "      <th>3</th>\n",
              "      <td>53</td>\n",
              "      <td>Private</td>\n",
              "      <td>234721</td>\n",
              "      <td>11th</td>\n",
              "      <td>7</td>\n",
              "      <td>Married-civ-spouse</td>\n",
              "      <td>Handlers-cleaners</td>\n",
              "      <td>Husband</td>\n",
              "      <td>Black</td>\n",
              "      <td>Male</td>\n",
              "      <td>0</td>\n",
              "      <td>0</td>\n",
              "      <td>40</td>\n",
              "      <td>United-States</td>\n",
              "      <td>&lt;=50K</td>\n",
              "    </tr>\n",
              "    <tr>\n",
              "      <th>4</th>\n",
              "      <td>28</td>\n",
              "      <td>Private</td>\n",
              "      <td>338409</td>\n",
              "      <td>Bachelors</td>\n",
              "      <td>13</td>\n",
              "      <td>Married-civ-spouse</td>\n",
              "      <td>Prof-specialty</td>\n",
              "      <td>Wife</td>\n",
              "      <td>Black</td>\n",
              "      <td>Female</td>\n",
              "      <td>0</td>\n",
              "      <td>0</td>\n",
              "      <td>40</td>\n",
              "      <td>Cuba</td>\n",
              "      <td>&lt;=50K</td>\n",
              "    </tr>\n",
              "  </tbody>\n",
              "</table>\n",
              "</div>\n",
              "      <button class=\"colab-df-convert\" onclick=\"convertToInteractive('df-9d11d907-e39a-4e0b-b845-be7e4a37f75a')\"\n",
              "              title=\"Convert this dataframe to an interactive table.\"\n",
              "              style=\"display:none;\">\n",
              "        \n",
              "  <svg xmlns=\"http://www.w3.org/2000/svg\" height=\"24px\"viewBox=\"0 0 24 24\"\n",
              "       width=\"24px\">\n",
              "    <path d=\"M0 0h24v24H0V0z\" fill=\"none\"/>\n",
              "    <path d=\"M18.56 5.44l.94 2.06.94-2.06 2.06-.94-2.06-.94-.94-2.06-.94 2.06-2.06.94zm-11 1L8.5 8.5l.94-2.06 2.06-.94-2.06-.94L8.5 2.5l-.94 2.06-2.06.94zm10 10l.94 2.06.94-2.06 2.06-.94-2.06-.94-.94-2.06-.94 2.06-2.06.94z\"/><path d=\"M17.41 7.96l-1.37-1.37c-.4-.4-.92-.59-1.43-.59-.52 0-1.04.2-1.43.59L10.3 9.45l-7.72 7.72c-.78.78-.78 2.05 0 2.83L4 21.41c.39.39.9.59 1.41.59.51 0 1.02-.2 1.41-.59l7.78-7.78 2.81-2.81c.8-.78.8-2.07 0-2.86zM5.41 20L4 18.59l7.72-7.72 1.47 1.35L5.41 20z\"/>\n",
              "  </svg>\n",
              "      </button>\n",
              "      \n",
              "  <style>\n",
              "    .colab-df-container {\n",
              "      display:flex;\n",
              "      flex-wrap:wrap;\n",
              "      gap: 12px;\n",
              "    }\n",
              "\n",
              "    .colab-df-convert {\n",
              "      background-color: #E8F0FE;\n",
              "      border: none;\n",
              "      border-radius: 50%;\n",
              "      cursor: pointer;\n",
              "      display: none;\n",
              "      fill: #1967D2;\n",
              "      height: 32px;\n",
              "      padding: 0 0 0 0;\n",
              "      width: 32px;\n",
              "    }\n",
              "\n",
              "    .colab-df-convert:hover {\n",
              "      background-color: #E2EBFA;\n",
              "      box-shadow: 0px 1px 2px rgba(60, 64, 67, 0.3), 0px 1px 3px 1px rgba(60, 64, 67, 0.15);\n",
              "      fill: #174EA6;\n",
              "    }\n",
              "\n",
              "    [theme=dark] .colab-df-convert {\n",
              "      background-color: #3B4455;\n",
              "      fill: #D2E3FC;\n",
              "    }\n",
              "\n",
              "    [theme=dark] .colab-df-convert:hover {\n",
              "      background-color: #434B5C;\n",
              "      box-shadow: 0px 1px 3px 1px rgba(0, 0, 0, 0.15);\n",
              "      filter: drop-shadow(0px 1px 2px rgba(0, 0, 0, 0.3));\n",
              "      fill: #FFFFFF;\n",
              "    }\n",
              "  </style>\n",
              "\n",
              "      <script>\n",
              "        const buttonEl =\n",
              "          document.querySelector('#df-9d11d907-e39a-4e0b-b845-be7e4a37f75a button.colab-df-convert');\n",
              "        buttonEl.style.display =\n",
              "          google.colab.kernel.accessAllowed ? 'block' : 'none';\n",
              "\n",
              "        async function convertToInteractive(key) {\n",
              "          const element = document.querySelector('#df-9d11d907-e39a-4e0b-b845-be7e4a37f75a');\n",
              "          const dataTable =\n",
              "            await google.colab.kernel.invokeFunction('convertToInteractive',\n",
              "                                                     [key], {});\n",
              "          if (!dataTable) return;\n",
              "\n",
              "          const docLinkHtml = 'Like what you see? Visit the ' +\n",
              "            '<a target=\"_blank\" href=https://colab.research.google.com/notebooks/data_table.ipynb>data table notebook</a>'\n",
              "            + ' to learn more about interactive tables.';\n",
              "          element.innerHTML = '';\n",
              "          dataTable['output_type'] = 'display_data';\n",
              "          await google.colab.output.renderOutput(dataTable, element);\n",
              "          const docLink = document.createElement('div');\n",
              "          docLink.innerHTML = docLinkHtml;\n",
              "          element.appendChild(docLink);\n",
              "        }\n",
              "      </script>\n",
              "    </div>\n",
              "  </div>\n",
              "  "
            ]
          },
          "metadata": {},
          "execution_count": 80
        }
      ],
      "source": [
        "df = pd.read_csv('https://raw.githubusercontent.com/almondloverr/ml_exam/main/datasets/income_evaluation.csv')\n",
        "df.head()"
      ]
    },
    {
      "cell_type": "code",
      "source": [
        "print(\"В датасете\", df.shape[0], \"точек данных и\", df.shape[1], \"параметров\")"
      ],
      "metadata": {
        "colab": {
          "base_uri": "https://localhost:8080/"
        },
        "id": "_r0Lem6fUoJM",
        "outputId": "373d9588-8ac6-466a-8d20-056451310a88"
      },
      "execution_count": 81,
      "outputs": [
        {
          "output_type": "stream",
          "name": "stdout",
          "text": [
            "В датасете 32561 точек данных и 15 параметров\n"
          ]
        }
      ]
    },
    {
      "cell_type": "code",
      "source": [
        "df.info()"
      ],
      "metadata": {
        "colab": {
          "base_uri": "https://localhost:8080/"
        },
        "id": "j-2Hi0VtDi1Z",
        "outputId": "8fc8a08a-a43c-43f5-fa86-13a918b699da"
      },
      "execution_count": 82,
      "outputs": [
        {
          "output_type": "stream",
          "name": "stdout",
          "text": [
            "<class 'pandas.core.frame.DataFrame'>\n",
            "RangeIndex: 32561 entries, 0 to 32560\n",
            "Data columns (total 15 columns):\n",
            " #   Column           Non-Null Count  Dtype \n",
            "---  ------           --------------  ----- \n",
            " 0   age              32561 non-null  int64 \n",
            " 1    workclass       32561 non-null  object\n",
            " 2    fnlwgt          32561 non-null  int64 \n",
            " 3    education       32561 non-null  object\n",
            " 4    education-num   32561 non-null  int64 \n",
            " 5    marital-status  32561 non-null  object\n",
            " 6    occupation      32561 non-null  object\n",
            " 7    relationship    32561 non-null  object\n",
            " 8    race            32561 non-null  object\n",
            " 9    sex             32561 non-null  object\n",
            " 10   capital-gain    32561 non-null  int64 \n",
            " 11   capital-loss    32561 non-null  int64 \n",
            " 12   hours-per-week  32561 non-null  int64 \n",
            " 13   native-country  32561 non-null  object\n",
            " 14   income          32561 non-null  object\n",
            "dtypes: int64(6), object(9)\n",
            "memory usage: 3.7+ MB\n"
          ]
        }
      ]
    },
    {
      "cell_type": "code",
      "source": [
        "df.columns # income — наша целевая переменная"
      ],
      "metadata": {
        "colab": {
          "base_uri": "https://localhost:8080/"
        },
        "id": "NZDysGLbRcfB",
        "outputId": "ec0730d2-589c-4d79-a9c7-493969589ae3"
      },
      "execution_count": 83,
      "outputs": [
        {
          "output_type": "execute_result",
          "data": {
            "text/plain": [
              "Index(['age', ' workclass', ' fnlwgt', ' education', ' education-num',\n",
              "       ' marital-status', ' occupation', ' relationship', ' race', ' sex',\n",
              "       ' capital-gain', ' capital-loss', ' hours-per-week', ' native-country',\n",
              "       ' income'],\n",
              "      dtype='object')"
            ]
          },
          "metadata": {},
          "execution_count": 83
        }
      ]
    },
    {
      "cell_type": "markdown",
      "source": [
        "Так как у нас очень криво названы колонки (начинаются с пробелов), нам нужно это откорректировать "
      ],
      "metadata": {
        "id": "T-Le8G8_TxZT"
      }
    },
    {
      "cell_type": "code",
      "source": [
        "df.columns = df.columns.str.lstrip()"
      ],
      "metadata": {
        "id": "SKT1sEPfTwhb"
      },
      "execution_count": 84,
      "outputs": []
    },
    {
      "cell_type": "code",
      "source": [
        "df.columns"
      ],
      "metadata": {
        "colab": {
          "base_uri": "https://localhost:8080/"
        },
        "id": "7NVDRIppT6aa",
        "outputId": "8c6d4e43-c018-44f1-9537-3dc7330f4c15"
      },
      "execution_count": 85,
      "outputs": [
        {
          "output_type": "execute_result",
          "data": {
            "text/plain": [
              "Index(['age', 'workclass', 'fnlwgt', 'education', 'education-num',\n",
              "       'marital-status', 'occupation', 'relationship', 'race', 'sex',\n",
              "       'capital-gain', 'capital-loss', 'hours-per-week', 'native-country',\n",
              "       'income'],\n",
              "      dtype='object')"
            ]
          },
          "metadata": {},
          "execution_count": 85
        }
      ]
    },
    {
      "cell_type": "markdown",
      "source": [
        "То же самое сделаем со всеми строками, так как пробелы у нас примерно везде в начале строки"
      ],
      "metadata": {
        "id": "uYzz5YbJVLEA"
      }
    },
    {
      "cell_type": "code",
      "source": [
        "df = df[df.select_dtypes(include='object').columns.tolist()].apply(lambda x: x.str.lstrip())"
      ],
      "metadata": {
        "id": "mVAHcJq4VR9Y"
      },
      "execution_count": 86,
      "outputs": []
    },
    {
      "cell_type": "code",
      "source": [
        "df['income'].unique() "
      ],
      "metadata": {
        "colab": {
          "base_uri": "https://localhost:8080/"
        },
        "id": "91ka_p0AOOH7",
        "outputId": "360089a6-9186-4880-f02c-d78af7a94a92"
      },
      "execution_count": 87,
      "outputs": [
        {
          "output_type": "execute_result",
          "data": {
            "text/plain": [
              "array(['<=50K', '>50K'], dtype=object)"
            ]
          },
          "metadata": {},
          "execution_count": 87
        }
      ]
    },
    {
      "cell_type": "code",
      "source": [
        "df.isnull().sum() # смотрим количество пустых значений в датасете (отустутстуют)"
      ],
      "metadata": {
        "colab": {
          "base_uri": "https://localhost:8080/"
        },
        "id": "lZmklpXFeG2X",
        "outputId": "a9e4df32-89ac-4664-cade-20dbbcab95c4"
      },
      "execution_count": 88,
      "outputs": [
        {
          "output_type": "execute_result",
          "data": {
            "text/plain": [
              "workclass         0\n",
              "education         0\n",
              "marital-status    0\n",
              "occupation        0\n",
              "relationship      0\n",
              "race              0\n",
              "sex               0\n",
              "native-country    0\n",
              "income            0\n",
              "dtype: int64"
            ]
          },
          "metadata": {},
          "execution_count": 88
        }
      ]
    },
    {
      "cell_type": "code",
      "source": [
        "df.describe().T # описательная статистика по числовым параметрам"
      ],
      "metadata": {
        "colab": {
          "base_uri": "https://localhost:8080/",
          "height": 332
        },
        "id": "SsOyDBbET9QC",
        "outputId": "35ca7130-5c27-4c90-d02c-5e4f09b567e0"
      },
      "execution_count": 89,
      "outputs": [
        {
          "output_type": "execute_result",
          "data": {
            "text/plain": [
              "                count unique                 top   freq\n",
              "workclass       32561      9             Private  22696\n",
              "education       32561     16             HS-grad  10501\n",
              "marital-status  32561      7  Married-civ-spouse  14976\n",
              "occupation      32561     15      Prof-specialty   4140\n",
              "relationship    32561      6             Husband  13193\n",
              "race            32561      5               White  27816\n",
              "sex             32561      2                Male  21790\n",
              "native-country  32561     42       United-States  29170\n",
              "income          32561      2               <=50K  24720"
            ],
            "text/html": [
              "\n",
              "  <div id=\"df-39290f28-0fda-4601-8e84-b7633faade04\">\n",
              "    <div class=\"colab-df-container\">\n",
              "      <div>\n",
              "<style scoped>\n",
              "    .dataframe tbody tr th:only-of-type {\n",
              "        vertical-align: middle;\n",
              "    }\n",
              "\n",
              "    .dataframe tbody tr th {\n",
              "        vertical-align: top;\n",
              "    }\n",
              "\n",
              "    .dataframe thead th {\n",
              "        text-align: right;\n",
              "    }\n",
              "</style>\n",
              "<table border=\"1\" class=\"dataframe\">\n",
              "  <thead>\n",
              "    <tr style=\"text-align: right;\">\n",
              "      <th></th>\n",
              "      <th>count</th>\n",
              "      <th>unique</th>\n",
              "      <th>top</th>\n",
              "      <th>freq</th>\n",
              "    </tr>\n",
              "  </thead>\n",
              "  <tbody>\n",
              "    <tr>\n",
              "      <th>workclass</th>\n",
              "      <td>32561</td>\n",
              "      <td>9</td>\n",
              "      <td>Private</td>\n",
              "      <td>22696</td>\n",
              "    </tr>\n",
              "    <tr>\n",
              "      <th>education</th>\n",
              "      <td>32561</td>\n",
              "      <td>16</td>\n",
              "      <td>HS-grad</td>\n",
              "      <td>10501</td>\n",
              "    </tr>\n",
              "    <tr>\n",
              "      <th>marital-status</th>\n",
              "      <td>32561</td>\n",
              "      <td>7</td>\n",
              "      <td>Married-civ-spouse</td>\n",
              "      <td>14976</td>\n",
              "    </tr>\n",
              "    <tr>\n",
              "      <th>occupation</th>\n",
              "      <td>32561</td>\n",
              "      <td>15</td>\n",
              "      <td>Prof-specialty</td>\n",
              "      <td>4140</td>\n",
              "    </tr>\n",
              "    <tr>\n",
              "      <th>relationship</th>\n",
              "      <td>32561</td>\n",
              "      <td>6</td>\n",
              "      <td>Husband</td>\n",
              "      <td>13193</td>\n",
              "    </tr>\n",
              "    <tr>\n",
              "      <th>race</th>\n",
              "      <td>32561</td>\n",
              "      <td>5</td>\n",
              "      <td>White</td>\n",
              "      <td>27816</td>\n",
              "    </tr>\n",
              "    <tr>\n",
              "      <th>sex</th>\n",
              "      <td>32561</td>\n",
              "      <td>2</td>\n",
              "      <td>Male</td>\n",
              "      <td>21790</td>\n",
              "    </tr>\n",
              "    <tr>\n",
              "      <th>native-country</th>\n",
              "      <td>32561</td>\n",
              "      <td>42</td>\n",
              "      <td>United-States</td>\n",
              "      <td>29170</td>\n",
              "    </tr>\n",
              "    <tr>\n",
              "      <th>income</th>\n",
              "      <td>32561</td>\n",
              "      <td>2</td>\n",
              "      <td>&lt;=50K</td>\n",
              "      <td>24720</td>\n",
              "    </tr>\n",
              "  </tbody>\n",
              "</table>\n",
              "</div>\n",
              "      <button class=\"colab-df-convert\" onclick=\"convertToInteractive('df-39290f28-0fda-4601-8e84-b7633faade04')\"\n",
              "              title=\"Convert this dataframe to an interactive table.\"\n",
              "              style=\"display:none;\">\n",
              "        \n",
              "  <svg xmlns=\"http://www.w3.org/2000/svg\" height=\"24px\"viewBox=\"0 0 24 24\"\n",
              "       width=\"24px\">\n",
              "    <path d=\"M0 0h24v24H0V0z\" fill=\"none\"/>\n",
              "    <path d=\"M18.56 5.44l.94 2.06.94-2.06 2.06-.94-2.06-.94-.94-2.06-.94 2.06-2.06.94zm-11 1L8.5 8.5l.94-2.06 2.06-.94-2.06-.94L8.5 2.5l-.94 2.06-2.06.94zm10 10l.94 2.06.94-2.06 2.06-.94-2.06-.94-.94-2.06-.94 2.06-2.06.94z\"/><path d=\"M17.41 7.96l-1.37-1.37c-.4-.4-.92-.59-1.43-.59-.52 0-1.04.2-1.43.59L10.3 9.45l-7.72 7.72c-.78.78-.78 2.05 0 2.83L4 21.41c.39.39.9.59 1.41.59.51 0 1.02-.2 1.41-.59l7.78-7.78 2.81-2.81c.8-.78.8-2.07 0-2.86zM5.41 20L4 18.59l7.72-7.72 1.47 1.35L5.41 20z\"/>\n",
              "  </svg>\n",
              "      </button>\n",
              "      \n",
              "  <style>\n",
              "    .colab-df-container {\n",
              "      display:flex;\n",
              "      flex-wrap:wrap;\n",
              "      gap: 12px;\n",
              "    }\n",
              "\n",
              "    .colab-df-convert {\n",
              "      background-color: #E8F0FE;\n",
              "      border: none;\n",
              "      border-radius: 50%;\n",
              "      cursor: pointer;\n",
              "      display: none;\n",
              "      fill: #1967D2;\n",
              "      height: 32px;\n",
              "      padding: 0 0 0 0;\n",
              "      width: 32px;\n",
              "    }\n",
              "\n",
              "    .colab-df-convert:hover {\n",
              "      background-color: #E2EBFA;\n",
              "      box-shadow: 0px 1px 2px rgba(60, 64, 67, 0.3), 0px 1px 3px 1px rgba(60, 64, 67, 0.15);\n",
              "      fill: #174EA6;\n",
              "    }\n",
              "\n",
              "    [theme=dark] .colab-df-convert {\n",
              "      background-color: #3B4455;\n",
              "      fill: #D2E3FC;\n",
              "    }\n",
              "\n",
              "    [theme=dark] .colab-df-convert:hover {\n",
              "      background-color: #434B5C;\n",
              "      box-shadow: 0px 1px 3px 1px rgba(0, 0, 0, 0.15);\n",
              "      filter: drop-shadow(0px 1px 2px rgba(0, 0, 0, 0.3));\n",
              "      fill: #FFFFFF;\n",
              "    }\n",
              "  </style>\n",
              "\n",
              "      <script>\n",
              "        const buttonEl =\n",
              "          document.querySelector('#df-39290f28-0fda-4601-8e84-b7633faade04 button.colab-df-convert');\n",
              "        buttonEl.style.display =\n",
              "          google.colab.kernel.accessAllowed ? 'block' : 'none';\n",
              "\n",
              "        async function convertToInteractive(key) {\n",
              "          const element = document.querySelector('#df-39290f28-0fda-4601-8e84-b7633faade04');\n",
              "          const dataTable =\n",
              "            await google.colab.kernel.invokeFunction('convertToInteractive',\n",
              "                                                     [key], {});\n",
              "          if (!dataTable) return;\n",
              "\n",
              "          const docLinkHtml = 'Like what you see? Visit the ' +\n",
              "            '<a target=\"_blank\" href=https://colab.research.google.com/notebooks/data_table.ipynb>data table notebook</a>'\n",
              "            + ' to learn more about interactive tables.';\n",
              "          element.innerHTML = '';\n",
              "          dataTable['output_type'] = 'display_data';\n",
              "          await google.colab.output.renderOutput(dataTable, element);\n",
              "          const docLink = document.createElement('div');\n",
              "          docLink.innerHTML = docLinkHtml;\n",
              "          element.appendChild(docLink);\n",
              "        }\n",
              "      </script>\n",
              "    </div>\n",
              "  </div>\n",
              "  "
            ]
          },
          "metadata": {},
          "execution_count": 89
        }
      ]
    },
    {
      "cell_type": "code",
      "source": [
        "df.describe(include=object).T # описательная статистика по числовым параметрам"
      ],
      "metadata": {
        "colab": {
          "base_uri": "https://localhost:8080/",
          "height": 332
        },
        "id": "ag7S1cOTSmi5",
        "outputId": "73e6fa74-8b1a-4cdf-969d-96f6b3ba398d"
      },
      "execution_count": 90,
      "outputs": [
        {
          "output_type": "execute_result",
          "data": {
            "text/plain": [
              "                count unique                 top   freq\n",
              "workclass       32561      9             Private  22696\n",
              "education       32561     16             HS-grad  10501\n",
              "marital-status  32561      7  Married-civ-spouse  14976\n",
              "occupation      32561     15      Prof-specialty   4140\n",
              "relationship    32561      6             Husband  13193\n",
              "race            32561      5               White  27816\n",
              "sex             32561      2                Male  21790\n",
              "native-country  32561     42       United-States  29170\n",
              "income          32561      2               <=50K  24720"
            ],
            "text/html": [
              "\n",
              "  <div id=\"df-7573fca6-d7a3-43b2-9801-c98aa66c3f17\">\n",
              "    <div class=\"colab-df-container\">\n",
              "      <div>\n",
              "<style scoped>\n",
              "    .dataframe tbody tr th:only-of-type {\n",
              "        vertical-align: middle;\n",
              "    }\n",
              "\n",
              "    .dataframe tbody tr th {\n",
              "        vertical-align: top;\n",
              "    }\n",
              "\n",
              "    .dataframe thead th {\n",
              "        text-align: right;\n",
              "    }\n",
              "</style>\n",
              "<table border=\"1\" class=\"dataframe\">\n",
              "  <thead>\n",
              "    <tr style=\"text-align: right;\">\n",
              "      <th></th>\n",
              "      <th>count</th>\n",
              "      <th>unique</th>\n",
              "      <th>top</th>\n",
              "      <th>freq</th>\n",
              "    </tr>\n",
              "  </thead>\n",
              "  <tbody>\n",
              "    <tr>\n",
              "      <th>workclass</th>\n",
              "      <td>32561</td>\n",
              "      <td>9</td>\n",
              "      <td>Private</td>\n",
              "      <td>22696</td>\n",
              "    </tr>\n",
              "    <tr>\n",
              "      <th>education</th>\n",
              "      <td>32561</td>\n",
              "      <td>16</td>\n",
              "      <td>HS-grad</td>\n",
              "      <td>10501</td>\n",
              "    </tr>\n",
              "    <tr>\n",
              "      <th>marital-status</th>\n",
              "      <td>32561</td>\n",
              "      <td>7</td>\n",
              "      <td>Married-civ-spouse</td>\n",
              "      <td>14976</td>\n",
              "    </tr>\n",
              "    <tr>\n",
              "      <th>occupation</th>\n",
              "      <td>32561</td>\n",
              "      <td>15</td>\n",
              "      <td>Prof-specialty</td>\n",
              "      <td>4140</td>\n",
              "    </tr>\n",
              "    <tr>\n",
              "      <th>relationship</th>\n",
              "      <td>32561</td>\n",
              "      <td>6</td>\n",
              "      <td>Husband</td>\n",
              "      <td>13193</td>\n",
              "    </tr>\n",
              "    <tr>\n",
              "      <th>race</th>\n",
              "      <td>32561</td>\n",
              "      <td>5</td>\n",
              "      <td>White</td>\n",
              "      <td>27816</td>\n",
              "    </tr>\n",
              "    <tr>\n",
              "      <th>sex</th>\n",
              "      <td>32561</td>\n",
              "      <td>2</td>\n",
              "      <td>Male</td>\n",
              "      <td>21790</td>\n",
              "    </tr>\n",
              "    <tr>\n",
              "      <th>native-country</th>\n",
              "      <td>32561</td>\n",
              "      <td>42</td>\n",
              "      <td>United-States</td>\n",
              "      <td>29170</td>\n",
              "    </tr>\n",
              "    <tr>\n",
              "      <th>income</th>\n",
              "      <td>32561</td>\n",
              "      <td>2</td>\n",
              "      <td>&lt;=50K</td>\n",
              "      <td>24720</td>\n",
              "    </tr>\n",
              "  </tbody>\n",
              "</table>\n",
              "</div>\n",
              "      <button class=\"colab-df-convert\" onclick=\"convertToInteractive('df-7573fca6-d7a3-43b2-9801-c98aa66c3f17')\"\n",
              "              title=\"Convert this dataframe to an interactive table.\"\n",
              "              style=\"display:none;\">\n",
              "        \n",
              "  <svg xmlns=\"http://www.w3.org/2000/svg\" height=\"24px\"viewBox=\"0 0 24 24\"\n",
              "       width=\"24px\">\n",
              "    <path d=\"M0 0h24v24H0V0z\" fill=\"none\"/>\n",
              "    <path d=\"M18.56 5.44l.94 2.06.94-2.06 2.06-.94-2.06-.94-.94-2.06-.94 2.06-2.06.94zm-11 1L8.5 8.5l.94-2.06 2.06-.94-2.06-.94L8.5 2.5l-.94 2.06-2.06.94zm10 10l.94 2.06.94-2.06 2.06-.94-2.06-.94-.94-2.06-.94 2.06-2.06.94z\"/><path d=\"M17.41 7.96l-1.37-1.37c-.4-.4-.92-.59-1.43-.59-.52 0-1.04.2-1.43.59L10.3 9.45l-7.72 7.72c-.78.78-.78 2.05 0 2.83L4 21.41c.39.39.9.59 1.41.59.51 0 1.02-.2 1.41-.59l7.78-7.78 2.81-2.81c.8-.78.8-2.07 0-2.86zM5.41 20L4 18.59l7.72-7.72 1.47 1.35L5.41 20z\"/>\n",
              "  </svg>\n",
              "      </button>\n",
              "      \n",
              "  <style>\n",
              "    .colab-df-container {\n",
              "      display:flex;\n",
              "      flex-wrap:wrap;\n",
              "      gap: 12px;\n",
              "    }\n",
              "\n",
              "    .colab-df-convert {\n",
              "      background-color: #E8F0FE;\n",
              "      border: none;\n",
              "      border-radius: 50%;\n",
              "      cursor: pointer;\n",
              "      display: none;\n",
              "      fill: #1967D2;\n",
              "      height: 32px;\n",
              "      padding: 0 0 0 0;\n",
              "      width: 32px;\n",
              "    }\n",
              "\n",
              "    .colab-df-convert:hover {\n",
              "      background-color: #E2EBFA;\n",
              "      box-shadow: 0px 1px 2px rgba(60, 64, 67, 0.3), 0px 1px 3px 1px rgba(60, 64, 67, 0.15);\n",
              "      fill: #174EA6;\n",
              "    }\n",
              "\n",
              "    [theme=dark] .colab-df-convert {\n",
              "      background-color: #3B4455;\n",
              "      fill: #D2E3FC;\n",
              "    }\n",
              "\n",
              "    [theme=dark] .colab-df-convert:hover {\n",
              "      background-color: #434B5C;\n",
              "      box-shadow: 0px 1px 3px 1px rgba(0, 0, 0, 0.15);\n",
              "      filter: drop-shadow(0px 1px 2px rgba(0, 0, 0, 0.3));\n",
              "      fill: #FFFFFF;\n",
              "    }\n",
              "  </style>\n",
              "\n",
              "      <script>\n",
              "        const buttonEl =\n",
              "          document.querySelector('#df-7573fca6-d7a3-43b2-9801-c98aa66c3f17 button.colab-df-convert');\n",
              "        buttonEl.style.display =\n",
              "          google.colab.kernel.accessAllowed ? 'block' : 'none';\n",
              "\n",
              "        async function convertToInteractive(key) {\n",
              "          const element = document.querySelector('#df-7573fca6-d7a3-43b2-9801-c98aa66c3f17');\n",
              "          const dataTable =\n",
              "            await google.colab.kernel.invokeFunction('convertToInteractive',\n",
              "                                                     [key], {});\n",
              "          if (!dataTable) return;\n",
              "\n",
              "          const docLinkHtml = 'Like what you see? Visit the ' +\n",
              "            '<a target=\"_blank\" href=https://colab.research.google.com/notebooks/data_table.ipynb>data table notebook</a>'\n",
              "            + ' to learn more about interactive tables.';\n",
              "          element.innerHTML = '';\n",
              "          dataTable['output_type'] = 'display_data';\n",
              "          await google.colab.output.renderOutput(dataTable, element);\n",
              "          const docLink = document.createElement('div');\n",
              "          docLink.innerHTML = docLinkHtml;\n",
              "          element.appendChild(docLink);\n",
              "        }\n",
              "      </script>\n",
              "    </div>\n",
              "  </div>\n",
              "  "
            ]
          },
          "metadata": {},
          "execution_count": 90
        }
      ]
    },
    {
      "cell_type": "markdown",
      "source": [
        "### Выводим текстовые атрибуты и их уникальные значения для дальнейшего анализа"
      ],
      "metadata": {
        "id": "_ApJXWl-UN4g"
      }
    },
    {
      "cell_type": "code",
      "source": [
        "for column in df.select_dtypes(include='object').columns.tolist():\n",
        "  print(f'{column}\\n{df[column].value_counts()}\\n')"
      ],
      "metadata": {
        "colab": {
          "base_uri": "https://localhost:8080/"
        },
        "id": "Lm2j6b3rUWpN",
        "outputId": "db376008-7f54-44c4-f964-062f60f9cfa1"
      },
      "execution_count": 91,
      "outputs": [
        {
          "output_type": "stream",
          "name": "stdout",
          "text": [
            "workclass\n",
            "Private             22696\n",
            "Self-emp-not-inc     2541\n",
            "Local-gov            2093\n",
            "?                    1836\n",
            "State-gov            1298\n",
            "Self-emp-inc         1116\n",
            "Federal-gov           960\n",
            "Without-pay            14\n",
            "Never-worked            7\n",
            "Name: workclass, dtype: int64\n",
            "\n",
            "education\n",
            "HS-grad         10501\n",
            "Some-college     7291\n",
            "Bachelors        5355\n",
            "Masters          1723\n",
            "Assoc-voc        1382\n",
            "11th             1175\n",
            "Assoc-acdm       1067\n",
            "10th              933\n",
            "7th-8th           646\n",
            "Prof-school       576\n",
            "9th               514\n",
            "12th              433\n",
            "Doctorate         413\n",
            "5th-6th           333\n",
            "1st-4th           168\n",
            "Preschool          51\n",
            "Name: education, dtype: int64\n",
            "\n",
            "marital-status\n",
            "Married-civ-spouse       14976\n",
            "Never-married            10683\n",
            "Divorced                  4443\n",
            "Separated                 1025\n",
            "Widowed                    993\n",
            "Married-spouse-absent      418\n",
            "Married-AF-spouse           23\n",
            "Name: marital-status, dtype: int64\n",
            "\n",
            "occupation\n",
            "Prof-specialty       4140\n",
            "Craft-repair         4099\n",
            "Exec-managerial      4066\n",
            "Adm-clerical         3770\n",
            "Sales                3650\n",
            "Other-service        3295\n",
            "Machine-op-inspct    2002\n",
            "?                    1843\n",
            "Transport-moving     1597\n",
            "Handlers-cleaners    1370\n",
            "Farming-fishing       994\n",
            "Tech-support          928\n",
            "Protective-serv       649\n",
            "Priv-house-serv       149\n",
            "Armed-Forces            9\n",
            "Name: occupation, dtype: int64\n",
            "\n",
            "relationship\n",
            "Husband           13193\n",
            "Not-in-family      8305\n",
            "Own-child          5068\n",
            "Unmarried          3446\n",
            "Wife               1568\n",
            "Other-relative      981\n",
            "Name: relationship, dtype: int64\n",
            "\n",
            "race\n",
            "White                 27816\n",
            "Black                  3124\n",
            "Asian-Pac-Islander     1039\n",
            "Amer-Indian-Eskimo      311\n",
            "Other                   271\n",
            "Name: race, dtype: int64\n",
            "\n",
            "sex\n",
            "Male      21790\n",
            "Female    10771\n",
            "Name: sex, dtype: int64\n",
            "\n",
            "native-country\n",
            "United-States                 29170\n",
            "Mexico                          643\n",
            "?                               583\n",
            "Philippines                     198\n",
            "Germany                         137\n",
            "Canada                          121\n",
            "Puerto-Rico                     114\n",
            "El-Salvador                     106\n",
            "India                           100\n",
            "Cuba                             95\n",
            "England                          90\n",
            "Jamaica                          81\n",
            "South                            80\n",
            "China                            75\n",
            "Italy                            73\n",
            "Dominican-Republic               70\n",
            "Vietnam                          67\n",
            "Guatemala                        64\n",
            "Japan                            62\n",
            "Poland                           60\n",
            "Columbia                         59\n",
            "Taiwan                           51\n",
            "Haiti                            44\n",
            "Iran                             43\n",
            "Portugal                         37\n",
            "Nicaragua                        34\n",
            "Peru                             31\n",
            "France                           29\n",
            "Greece                           29\n",
            "Ecuador                          28\n",
            "Ireland                          24\n",
            "Hong                             20\n",
            "Cambodia                         19\n",
            "Trinadad&Tobago                  19\n",
            "Laos                             18\n",
            "Thailand                         18\n",
            "Yugoslavia                       16\n",
            "Outlying-US(Guam-USVI-etc)       14\n",
            "Honduras                         13\n",
            "Hungary                          13\n",
            "Scotland                         12\n",
            "Holand-Netherlands                1\n",
            "Name: native-country, dtype: int64\n",
            "\n",
            "income\n",
            "<=50K    24720\n",
            ">50K      7841\n",
            "Name: income, dtype: int64\n",
            "\n"
          ]
        }
      ]
    },
    {
      "cell_type": "markdown",
      "source": [
        "Нашу целевую переменную заменяем через map-функцию"
      ],
      "metadata": {
        "id": "iruaBFcmUqXc"
      }
    },
    {
      "cell_type": "code",
      "source": [
        "df['income'] = df['income'].map({'<=50K': 0, '>50K': 1})"
      ],
      "metadata": {
        "id": "IkBq0gtVU0ik"
      },
      "execution_count": 92,
      "outputs": []
    },
    {
      "cell_type": "markdown",
      "source": [
        "Остальные категориальные переменные заменим через LabelEncoder, так как параметров слишком много и использовать дамми-переменные нецелесообразно"
      ],
      "metadata": {
        "id": "L5xolhKVWMjQ"
      }
    },
    {
      "cell_type": "code",
      "source": [
        "labelencoder=LabelEncoder()\n",
        "for col in df.columns:\n",
        "    df[col] = labelencoder.fit_transform(df[col])\n",
        " \n",
        "df.head()"
      ],
      "metadata": {
        "colab": {
          "base_uri": "https://localhost:8080/",
          "height": 206
        },
        "id": "Daclf9ZtWrhR",
        "outputId": "ae767ba9-b81c-4375-c78c-fb97557268bd"
      },
      "execution_count": 93,
      "outputs": [
        {
          "output_type": "execute_result",
          "data": {
            "text/plain": [
              "   workclass  education  marital-status  occupation  relationship  race  sex  \\\n",
              "0          7          9               4           1             1     4    1   \n",
              "1          6          9               2           4             0     4    1   \n",
              "2          4         11               0           6             1     4    1   \n",
              "3          4          1               2           6             0     2    1   \n",
              "4          4          9               2          10             5     2    0   \n",
              "\n",
              "   native-country  income  \n",
              "0              39       0  \n",
              "1              39       0  \n",
              "2              39       0  \n",
              "3              39       0  \n",
              "4               5       0  "
            ],
            "text/html": [
              "\n",
              "  <div id=\"df-6168bfe6-d937-4079-8190-af2f3c61fab9\">\n",
              "    <div class=\"colab-df-container\">\n",
              "      <div>\n",
              "<style scoped>\n",
              "    .dataframe tbody tr th:only-of-type {\n",
              "        vertical-align: middle;\n",
              "    }\n",
              "\n",
              "    .dataframe tbody tr th {\n",
              "        vertical-align: top;\n",
              "    }\n",
              "\n",
              "    .dataframe thead th {\n",
              "        text-align: right;\n",
              "    }\n",
              "</style>\n",
              "<table border=\"1\" class=\"dataframe\">\n",
              "  <thead>\n",
              "    <tr style=\"text-align: right;\">\n",
              "      <th></th>\n",
              "      <th>workclass</th>\n",
              "      <th>education</th>\n",
              "      <th>marital-status</th>\n",
              "      <th>occupation</th>\n",
              "      <th>relationship</th>\n",
              "      <th>race</th>\n",
              "      <th>sex</th>\n",
              "      <th>native-country</th>\n",
              "      <th>income</th>\n",
              "    </tr>\n",
              "  </thead>\n",
              "  <tbody>\n",
              "    <tr>\n",
              "      <th>0</th>\n",
              "      <td>7</td>\n",
              "      <td>9</td>\n",
              "      <td>4</td>\n",
              "      <td>1</td>\n",
              "      <td>1</td>\n",
              "      <td>4</td>\n",
              "      <td>1</td>\n",
              "      <td>39</td>\n",
              "      <td>0</td>\n",
              "    </tr>\n",
              "    <tr>\n",
              "      <th>1</th>\n",
              "      <td>6</td>\n",
              "      <td>9</td>\n",
              "      <td>2</td>\n",
              "      <td>4</td>\n",
              "      <td>0</td>\n",
              "      <td>4</td>\n",
              "      <td>1</td>\n",
              "      <td>39</td>\n",
              "      <td>0</td>\n",
              "    </tr>\n",
              "    <tr>\n",
              "      <th>2</th>\n",
              "      <td>4</td>\n",
              "      <td>11</td>\n",
              "      <td>0</td>\n",
              "      <td>6</td>\n",
              "      <td>1</td>\n",
              "      <td>4</td>\n",
              "      <td>1</td>\n",
              "      <td>39</td>\n",
              "      <td>0</td>\n",
              "    </tr>\n",
              "    <tr>\n",
              "      <th>3</th>\n",
              "      <td>4</td>\n",
              "      <td>1</td>\n",
              "      <td>2</td>\n",
              "      <td>6</td>\n",
              "      <td>0</td>\n",
              "      <td>2</td>\n",
              "      <td>1</td>\n",
              "      <td>39</td>\n",
              "      <td>0</td>\n",
              "    </tr>\n",
              "    <tr>\n",
              "      <th>4</th>\n",
              "      <td>4</td>\n",
              "      <td>9</td>\n",
              "      <td>2</td>\n",
              "      <td>10</td>\n",
              "      <td>5</td>\n",
              "      <td>2</td>\n",
              "      <td>0</td>\n",
              "      <td>5</td>\n",
              "      <td>0</td>\n",
              "    </tr>\n",
              "  </tbody>\n",
              "</table>\n",
              "</div>\n",
              "      <button class=\"colab-df-convert\" onclick=\"convertToInteractive('df-6168bfe6-d937-4079-8190-af2f3c61fab9')\"\n",
              "              title=\"Convert this dataframe to an interactive table.\"\n",
              "              style=\"display:none;\">\n",
              "        \n",
              "  <svg xmlns=\"http://www.w3.org/2000/svg\" height=\"24px\"viewBox=\"0 0 24 24\"\n",
              "       width=\"24px\">\n",
              "    <path d=\"M0 0h24v24H0V0z\" fill=\"none\"/>\n",
              "    <path d=\"M18.56 5.44l.94 2.06.94-2.06 2.06-.94-2.06-.94-.94-2.06-.94 2.06-2.06.94zm-11 1L8.5 8.5l.94-2.06 2.06-.94-2.06-.94L8.5 2.5l-.94 2.06-2.06.94zm10 10l.94 2.06.94-2.06 2.06-.94-2.06-.94-.94-2.06-.94 2.06-2.06.94z\"/><path d=\"M17.41 7.96l-1.37-1.37c-.4-.4-.92-.59-1.43-.59-.52 0-1.04.2-1.43.59L10.3 9.45l-7.72 7.72c-.78.78-.78 2.05 0 2.83L4 21.41c.39.39.9.59 1.41.59.51 0 1.02-.2 1.41-.59l7.78-7.78 2.81-2.81c.8-.78.8-2.07 0-2.86zM5.41 20L4 18.59l7.72-7.72 1.47 1.35L5.41 20z\"/>\n",
              "  </svg>\n",
              "      </button>\n",
              "      \n",
              "  <style>\n",
              "    .colab-df-container {\n",
              "      display:flex;\n",
              "      flex-wrap:wrap;\n",
              "      gap: 12px;\n",
              "    }\n",
              "\n",
              "    .colab-df-convert {\n",
              "      background-color: #E8F0FE;\n",
              "      border: none;\n",
              "      border-radius: 50%;\n",
              "      cursor: pointer;\n",
              "      display: none;\n",
              "      fill: #1967D2;\n",
              "      height: 32px;\n",
              "      padding: 0 0 0 0;\n",
              "      width: 32px;\n",
              "    }\n",
              "\n",
              "    .colab-df-convert:hover {\n",
              "      background-color: #E2EBFA;\n",
              "      box-shadow: 0px 1px 2px rgba(60, 64, 67, 0.3), 0px 1px 3px 1px rgba(60, 64, 67, 0.15);\n",
              "      fill: #174EA6;\n",
              "    }\n",
              "\n",
              "    [theme=dark] .colab-df-convert {\n",
              "      background-color: #3B4455;\n",
              "      fill: #D2E3FC;\n",
              "    }\n",
              "\n",
              "    [theme=dark] .colab-df-convert:hover {\n",
              "      background-color: #434B5C;\n",
              "      box-shadow: 0px 1px 3px 1px rgba(0, 0, 0, 0.15);\n",
              "      filter: drop-shadow(0px 1px 2px rgba(0, 0, 0, 0.3));\n",
              "      fill: #FFFFFF;\n",
              "    }\n",
              "  </style>\n",
              "\n",
              "      <script>\n",
              "        const buttonEl =\n",
              "          document.querySelector('#df-6168bfe6-d937-4079-8190-af2f3c61fab9 button.colab-df-convert');\n",
              "        buttonEl.style.display =\n",
              "          google.colab.kernel.accessAllowed ? 'block' : 'none';\n",
              "\n",
              "        async function convertToInteractive(key) {\n",
              "          const element = document.querySelector('#df-6168bfe6-d937-4079-8190-af2f3c61fab9');\n",
              "          const dataTable =\n",
              "            await google.colab.kernel.invokeFunction('convertToInteractive',\n",
              "                                                     [key], {});\n",
              "          if (!dataTable) return;\n",
              "\n",
              "          const docLinkHtml = 'Like what you see? Visit the ' +\n",
              "            '<a target=\"_blank\" href=https://colab.research.google.com/notebooks/data_table.ipynb>data table notebook</a>'\n",
              "            + ' to learn more about interactive tables.';\n",
              "          element.innerHTML = '';\n",
              "          dataTable['output_type'] = 'display_data';\n",
              "          await google.colab.output.renderOutput(dataTable, element);\n",
              "          const docLink = document.createElement('div');\n",
              "          docLink.innerHTML = docLinkHtml;\n",
              "          element.appendChild(docLink);\n",
              "        }\n",
              "      </script>\n",
              "    </div>\n",
              "  </div>\n",
              "  "
            ]
          },
          "metadata": {},
          "execution_count": 93
        }
      ]
    },
    {
      "cell_type": "code",
      "source": [
        "df.dtypes"
      ],
      "metadata": {
        "colab": {
          "base_uri": "https://localhost:8080/"
        },
        "id": "HrOBWJzQW0Mg",
        "outputId": "6958c71b-b157-4fab-a5ee-66a5af9c8f05"
      },
      "execution_count": 94,
      "outputs": [
        {
          "output_type": "execute_result",
          "data": {
            "text/plain": [
              "workclass         int64\n",
              "education         int64\n",
              "marital-status    int64\n",
              "occupation        int64\n",
              "relationship      int64\n",
              "race              int64\n",
              "sex               int64\n",
              "native-country    int64\n",
              "income            int64\n",
              "dtype: object"
            ]
          },
          "metadata": {},
          "execution_count": 94
        }
      ]
    },
    {
      "cell_type": "markdown",
      "source": [
        "### Визуализация данных"
      ],
      "metadata": {
        "id": "v10IMcjCcpW2"
      }
    },
    {
      "cell_type": "markdown",
      "source": [
        "#### Построим гистограммы, чтобы проанализировать распределение каждого из признаков"
      ],
      "metadata": {
        "id": "B_MZRyF1LmwR"
      }
    },
    {
      "cell_type": "code",
      "source": [
        "for feat in df.columns[:-1].tolist():\n",
        "    plt.figure(figsize=(8, 5)) \n",
        "    plt.hist(df[feat], color=np.random.rand(3,), label=f'Гистограмма переменной {feat}, степень скошенности = %.3f'%(df[feat].skew()), bins=30) \n",
        "    plt.title(f'Гистограмма по переменной {feat} с \"нормализованными\" данными')\n",
        "    plt.legend(loc='best')\n",
        "    plt.show()"
      ],
      "metadata": {
        "colab": {
          "base_uri": "https://localhost:8080/",
          "height": 1000
        },
        "id": "4gv-m-gaBDDG",
        "outputId": "1e0143d1-9623-4686-a246-a3cc86ca5a98"
      },
      "execution_count": 95,
      "outputs": [
        {
          "output_type": "display_data",
          "data": {
            "text/plain": [
              "<Figure size 576x360 with 1 Axes>"
            ],
            "image/png": "[encoded data removed]"
          },
          "metadata": {
            "needs_background": "light"
          }
        },
        {
          "output_type": "display_data",
          "data": {
            "text/plain": [
              "<Figure size 576x360 with 1 Axes>"
            ],
            "image/png": "[encoded data removed]"
          },
          "metadata": {
            "needs_background": "light"
          }
        },
        {
          "output_type": "display_data",
          "data": {
            "text/plain": [
              "<Figure size 576x360 with 1 Axes>"
            ],
            "image/png": "[encoded data removed]"
          },
          "metadata": {
            "needs_background": "light"
          }
        },
        {
          "output_type": "display_data",
          "data": {
            "text/plain": [
              "<Figure size 576x360 with 1 Axes>"
            ],
            "image/png": "[encoded data removed]"
          },
          "metadata": {
            "needs_background": "light"
          }
        },
        {
          "output_type": "display_data",
          "data": {
            "text/plain": [
              "<Figure size 576x360 with 1 Axes>"
            ],
            "image/png": "[encoded data removed]"
          },
          "metadata": {
            "needs_background": "light"
          }
        },
        {
          "output_type": "display_data",
          "data": {
            "text/plain": [
              "<Figure size 576x360 with 1 Axes>"
            ],
            "image/png": "[encoded data removed]"
          },
          "metadata": {
            "needs_background": "light"
          }
        },
        {
          "output_type": "display_data",
          "data": {
            "text/plain": [
              "<Figure size 576x360 with 1 Axes>"
            ],
            "image/png": "[encoded data removed]"
          },
          "metadata": {
            "needs_background": "light"
          }
        },
        {
          "output_type": "display_data",
          "data": {
            "text/plain": [
              "<Figure size 576x360 with 1 Axes>"
            ],
            "image/png": "[encoded data removed]"
          },
          "metadata": {
            "needs_background": "light"
          }
        }
      ]
    },
    {
      "cell_type": "markdown",
      "source": [
        "Ни одна из характеристик не имеет нормального распределения. Характеристики Fe, Ba, Ca и K имеют самые высокие коэффициенты перекоса. Более того, распределение калия (K) и бария (Ba), похоже, содержит много выбросов."
      ],
      "metadata": {
        "id": "wmMJ4i7GLi1x"
      }
    },
    {
      "cell_type": "markdown",
      "source": [
        "#### Построим ящики с усами, чтобы проанализировать датасет на наличие выбросов"
      ],
      "metadata": {
        "id": "ikP7xiGnLlNl"
      }
    },
    {
      "cell_type": "code",
      "source": [
        "fig, ax = plt.subplots(1, 1, figsize=(16,10))\n",
        "df.plot(kind='box', ax=ax)"
      ],
      "metadata": {
        "colab": {
          "base_uri": "https://localhost:8080/",
          "height": 609
        },
        "id": "DmYPvQnkfzKE",
        "outputId": "4f15aeff-9ae7-4f9a-b418-2059eb4b0b7d"
      },
      "execution_count": 96,
      "outputs": [
        {
          "output_type": "execute_result",
          "data": {
            "text/plain": [
              "<matplotlib.axes._subplots.AxesSubplot at 0x7f47c16b58b0>"
            ]
          },
          "metadata": {},
          "execution_count": 96
        },
        {
          "output_type": "display_data",
          "data": {
            "text/plain": [
              "<Figure size 1152x720 with 1 Axes>"
            ],
            "image/png": "[encoded data removed]"
          },
          "metadata": {
            "needs_background": "light"
          }
        }
      ]
    },
    {
      "cell_type": "markdown",
      "source": [
        "#### Посмотрим, как признаки коррелируют между собой "
      ],
      "metadata": {
        "id": "0xR7NhmlMGWw"
      }
    },
    {
      "cell_type": "code",
      "source": [
        "plt.figure(figsize=(12, 10))\n",
        "sns.heatmap(df.corr(), annot=True, annot_kws={'size': 12}, vmin=-1, vmax=1, center=0)"
      ],
      "metadata": {
        "colab": {
          "base_uri": "https://localhost:8080/",
          "height": 676
        },
        "id": "E5AEV7wnQ7au",
        "outputId": "3fcd0912-aaa9-4987-9528-e374a838c19f"
      },
      "execution_count": 97,
      "outputs": [
        {
          "output_type": "execute_result",
          "data": {
            "text/plain": [
              "<matplotlib.axes._subplots.AxesSubplot at 0x7f47c0c745b0>"
            ]
          },
          "metadata": {},
          "execution_count": 97
        },
        {
          "output_type": "display_data",
          "data": {
            "text/plain": [
              "<Figure size 864x720 with 2 Axes>"
            ],
            "image/png": "[encoded data removed]"
          },
          "metadata": {
            "needs_background": "light"
          }
        }
      ]
    },
    {
      "cell_type": "markdown",
      "source": [
        "### Очищаем датасет от выбросов "
      ],
      "metadata": {
        "id": "7F4CR3TJLzBd"
      }
    },
    {
      "cell_type": "code",
      "source": [
        "def outliers(df):\n",
        "  \n",
        "  outlier_idx = []\n",
        "\n",
        "  for col in df.columns.tolist():\n",
        "    # считаем нижнюю и верхнюю границу через 1 и 3 квартили \n",
        "    q25 = df[col].quantile(q=.25)\n",
        "    q75 = df[col].quantile(q=.75)\n",
        "    iqr = q75-q25\n",
        "\n",
        "    max_border = q75 + (1.5*iqr)\n",
        "    min_border = q25 - (1.5*iqr)\n",
        "        \n",
        "    # определем индекс строки, содержащей выбросы\n",
        "    outlier_list_col = df[(df[col] < min_border) | (df[col] > max_border)].index\n",
        "    \n",
        "    # заполняем найденными индеками массив со всеми индексами\n",
        "    outlier_idx.extend(outlier_list_col)\n",
        "    \n",
        "  # выбираем индексы строк, содержащих больше чем два выброса\n",
        "  outlier_idx = Counter(outlier_idx)        \n",
        "  multiple_outliers = list( k for k, v in outlier_idx.items() if v > 2 )\n",
        "  \n",
        "  return multiple_outliers   \n",
        "\n",
        "print(f'Этот датасет содержит {len(outliers(df[df.columns[:-1].tolist()]))} точек данных с более чем 2 выбросами')   "
      ],
      "metadata": {
        "colab": {
          "base_uri": "https://localhost:8080/"
        },
        "id": "ObCU0mQq-0GK",
        "outputId": "906d94f2-e661-46af-bcae-ff34680e09a2"
      },
      "execution_count": 98,
      "outputs": [
        {
          "output_type": "stream",
          "name": "stdout",
          "text": [
            "Этот датасет содержит 610 точек данных с более чем 2 выбросами\n"
          ]
        }
      ]
    },
    {
      "cell_type": "markdown",
      "source": [
        "Очищаем лишние строки, "
      ],
      "metadata": {
        "id": "FsJLsudiDtGz"
      }
    },
    {
      "cell_type": "code",
      "source": [
        "df = df.drop(outliers(df[df.columns[:-1].tolist()])).reset_index(drop=True)\n",
        "df.shape"
      ],
      "metadata": {
        "colab": {
          "base_uri": "https://localhost:8080/"
        },
        "id": "svR1Nzr-C3MU",
        "outputId": "ce3c3125-8c22-4331-fb6c-a829a66eca39"
      },
      "execution_count": 99,
      "outputs": [
        {
          "output_type": "execute_result",
          "data": {
            "text/plain": [
              "(31951, 9)"
            ]
          },
          "metadata": {},
          "execution_count": 99
        }
      ]
    },
    {
      "cell_type": "markdown",
      "source": [
        "### Выделяем целевую переменную и остальные признаки"
      ],
      "metadata": {
        "id": "TzZemTR6XXCU"
      }
    },
    {
      "cell_type": "code",
      "source": [
        "y = df['income']\n",
        "x = df.drop(['income'], axis=1)"
      ],
      "metadata": {
        "id": "iSPZ2QFLXoRe"
      },
      "execution_count": 100,
      "outputs": []
    },
    {
      "cell_type": "markdown",
      "source": [
        "### Разделяем выбору в соотношении 80/20 процентов, `shuffle=False` для исключения перемешивания данных"
      ],
      "metadata": {
        "id": "_R_pPNB2Xsb1"
      }
    },
    {
      "cell_type": "code",
      "source": [
        "x_train, x_test, y_train, y_test = train_test_split(x, y, test_size=0.2, random_state=True)"
      ],
      "metadata": {
        "id": "l4oJ2Oe6Xr8E"
      },
      "execution_count": 101,
      "outputs": []
    },
    {
      "cell_type": "code",
      "source": [
        "print(f'Количество точек исходных данных: {y.shape[0]}')\n",
        "print(f'Количество точек тренировочных данных: {y_train.shape[0]}')\n",
        "print(f'Количество точек тестовых данных: {y_test.shape[0]}')"
      ],
      "metadata": {
        "colab": {
          "base_uri": "https://localhost:8080/"
        },
        "id": "jD5XQwmiX-0_",
        "outputId": "35c89d2b-4af1-4483-a3c7-55e0ea20b5a5"
      },
      "execution_count": 102,
      "outputs": [
        {
          "output_type": "stream",
          "name": "stdout",
          "text": [
            "Количество точек исходных данных: 31951\n",
            "Количество точек тренировочных данных: 25560\n",
            "Количество точек тестовых данных: 6391\n"
          ]
        }
      ]
    },
    {
      "cell_type": "markdown",
      "source": [
        "### Нормализуем наши данные "
      ],
      "metadata": {
        "id": "J-LIr8cFRIN4"
      }
    },
    {
      "cell_type": "markdown",
      "source": [
        "Я использую для этого МинМаксСкалер, можно еще использовать СтандартСкалер"
      ],
      "metadata": {
        "id": "perpTmyxT5Vt"
      }
    },
    {
      "cell_type": "code",
      "source": [
        "x_train = MinMaxScaler().fit_transform(x_train)\n",
        "x_test = MinMaxScaler().fit_transform(x_test)"
      ],
      "metadata": {
        "id": "sKxoQZ3cRLNn"
      },
      "execution_count": 103,
      "outputs": []
    },
    {
      "cell_type": "markdown",
      "source": [
        "### Задача классификации"
      ],
      "metadata": {
        "id": "r5befQ1fYReO"
      }
    },
    {
      "cell_type": "markdown",
      "source": [
        "Так как этих методов дохуя, сделаем классификацию с использованием основных пяти: \n",
        "- логистическая регрессия \n",
        "- метод опорных векторов (линейное ядрос)\n",
        "- метод опорных векторов (гауссовое ядро)\n",
        "- метод k ближайших соседей \n",
        "- метод деревая решений "
      ],
      "metadata": {
        "id": "hCHUwr4hTTr3"
      }
    },
    {
      "cell_type": "markdown",
      "source": [
        "#### Логистическая регрессия"
      ],
      "metadata": {
        "id": "n0uUcoSFTkNI"
      }
    },
    {
      "cell_type": "code",
      "source": [
        "from sklearn.linear_model import LogisticRegression"
      ],
      "metadata": {
        "id": "MOWIPzSSUAqt"
      },
      "execution_count": 104,
      "outputs": []
    },
    {
      "cell_type": "code",
      "source": [
        "cls = LogisticRegression(solver='lbfgs', max_iter=1000).fit(x_train, y_train)\n",
        "y_pred_cls = cls.predict(x_test)\n",
        "\n",
        "matrix_cls = metrics.confusion_matrix(y_test, y_pred_cls)\n",
        "print(matrix_cls)"
      ],
      "metadata": {
        "colab": {
          "base_uri": "https://localhost:8080/"
        },
        "id": "66pwfwuxYU_F",
        "outputId": "36ed5eee-1927-459c-ebd4-9ea3d657f4ab"
      },
      "execution_count": 105,
      "outputs": [
        {
          "output_type": "stream",
          "name": "stdout",
          "text": [
            "[[4839   81]\n",
            " [1455   16]]\n"
          ]
        }
      ]
    },
    {
      "cell_type": "code",
      "source": [
        "print(f'Метрика достоверности (logistic): {metrics.accuracy_score(y_test, y_pred_cls)}')\n",
        "print(f'Метрика точности (logistic): {metrics.precision_score(y_test, y_pred_cls, average = \"micro\")}')\n",
        "print(f'Метрика полноты (logistic): {metrics.recall_score(y_test, y_pred_cls, average = \"micro\")}')"
      ],
      "metadata": {
        "colab": {
          "base_uri": "https://localhost:8080/"
        },
        "id": "RP4IW6Z3TsrD",
        "outputId": "4e73348d-d10a-48bb-dd1a-d742a896a481"
      },
      "execution_count": 106,
      "outputs": [
        {
          "output_type": "stream",
          "name": "stdout",
          "text": [
            "Метрика достоверности (logistic): 0.7596620247222657\n",
            "Метрика точности (logistic): 0.7596620247222657\n",
            "Метрика полноты (logistic): 0.7596620247222657\n"
          ]
        }
      ]
    },
    {
      "cell_type": "markdown",
      "source": [
        "#### Метод опорных векторов с линейным ядром "
      ],
      "metadata": {
        "id": "0G3OLlpZUG-p"
      }
    },
    {
      "cell_type": "code",
      "source": [
        "from sklearn import svm"
      ],
      "metadata": {
        "id": "xgtOW5cFUWnZ"
      },
      "execution_count": 107,
      "outputs": []
    },
    {
      "cell_type": "code",
      "source": [
        "svc = svm.SVC(kernel='linear', probability=True).fit(x_train, y_train)\n",
        "y_pred_svc = svc.predict(x_test)\n",
        "\n",
        "matrix_svc = metrics.confusion_matrix(y_test, y_pred_svc)\n",
        "print(matrix_svc)"
      ],
      "metadata": {
        "colab": {
          "base_uri": "https://localhost:8080/"
        },
        "id": "xrhASWTGUXXk",
        "outputId": "2ddc7e01-c742-440c-ae30-368e68d1ec06"
      },
      "execution_count": 108,
      "outputs": [
        {
          "output_type": "stream",
          "name": "stdout",
          "text": [
            "[[4920    0]\n",
            " [1471    0]]\n"
          ]
        }
      ]
    },
    {
      "cell_type": "code",
      "source": [
        "print(f'Метрика достоверности (svc linear): {metrics.accuracy_score(y_test, y_pred_svc)}')\n",
        "print(f'Метрика точности (svc linear): {metrics.precision_score(y_test, y_pred_svc, average = \"micro\")}')\n",
        "print(f'Метрика полноты (svc linear): {metrics.recall_score(y_test, y_pred_svc, average = \"micro\")}')"
      ],
      "metadata": {
        "colab": {
          "base_uri": "https://localhost:8080/"
        },
        "id": "wR77sIEcUZDT",
        "outputId": "38dae6d4-a6e3-4c1b-b93e-c403be1d94d7"
      },
      "execution_count": 109,
      "outputs": [
        {
          "output_type": "stream",
          "name": "stdout",
          "text": [
            "Метрика достоверности (svc linear): 0.7698325770614928\n",
            "Метрика точности (svc linear): 0.7698325770614928\n",
            "Метрика полноты (svc linear): 0.7698325770614928\n"
          ]
        }
      ]
    },
    {
      "cell_type": "markdown",
      "source": [
        "#### Метод опорных векторов с гауссовым ядром "
      ],
      "metadata": {
        "id": "wtA4zWjJUlSx"
      }
    },
    {
      "cell_type": "code",
      "source": [
        "svc_g = svm.SVC(kernel='rbf', probability=True).fit(x_train, y_train)\n",
        "y_pred_svc_g = svc_g.predict(x_test)\n",
        "\n",
        "matrix_svc_g = metrics.confusion_matrix(y_test, y_pred_svc_g)\n",
        "print(matrix_svc_g)"
      ],
      "metadata": {
        "colab": {
          "base_uri": "https://localhost:8080/"
        },
        "id": "EDKnKKAHUa9V",
        "outputId": "d82a60f2-b7e0-49d6-cd96-50b88fbb364f"
      },
      "execution_count": 110,
      "outputs": [
        {
          "output_type": "stream",
          "name": "stdout",
          "text": [
            "[[4429  491]\n",
            " [ 961  510]]\n"
          ]
        }
      ]
    },
    {
      "cell_type": "code",
      "source": [
        "print(f'Метрика достоверности (svc rbf): {metrics.accuracy_score(y_test, y_pred_svc_g)}')\n",
        "print(f'Метрика точности (svc rbf): {metrics.precision_score(y_test, y_pred_svc_g, average = \"micro\")}')\n",
        "print(f'Метрика полноты (svc rbf): {metrics.recall_score(y_test, y_pred_svc_g, average = \"micro\")}')"
      ],
      "metadata": {
        "colab": {
          "base_uri": "https://localhost:8080/"
        },
        "id": "YHKR9IpoUpTW",
        "outputId": "3e38de9a-4dd0-40e3-d9f3-c05bce5294a0"
      },
      "execution_count": 111,
      "outputs": [
        {
          "output_type": "stream",
          "name": "stdout",
          "text": [
            "Метрика достоверности (svc rbf): 0.7728055077452668\n",
            "Метрика точности (svc rbf): 0.7728055077452668\n",
            "Метрика полноты (svc rbf): 0.7728055077452668\n"
          ]
        }
      ]
    },
    {
      "cell_type": "markdown",
      "source": [
        "#### Метод k ближайших соседей"
      ],
      "metadata": {
        "id": "qgCfmg6zUwhd"
      }
    },
    {
      "cell_type": "code",
      "source": [
        "from sklearn.neighbors import KNeighborsClassifier"
      ],
      "metadata": {
        "id": "j6W4KhKAUrqD"
      },
      "execution_count": 112,
      "outputs": []
    },
    {
      "cell_type": "code",
      "source": [
        "# количество соседей n_neighbors = 10 подбирала вручную, проверку делала на метрике точности\n",
        "kn = KNeighborsClassifier(n_neighbors=10).fit(x_train, y_train)\n",
        "y_pred_kn = kn.predict(x_test)\n",
        "\n",
        "matrix_kn = metrics.confusion_matrix(y_test, y_pred_kn)\n",
        "print(matrix_kn)"
      ],
      "metadata": {
        "colab": {
          "base_uri": "https://localhost:8080/"
        },
        "id": "zRN03rJhU0rd",
        "outputId": "341140a4-e403-47d6-d074-b2e30421a138"
      },
      "execution_count": 113,
      "outputs": [
        {
          "output_type": "stream",
          "name": "stdout",
          "text": [
            "[[4562  358]\n",
            " [ 763  708]]\n"
          ]
        }
      ]
    },
    {
      "cell_type": "code",
      "source": [
        "print(f'Метрика достоверности (KN): {metrics.accuracy_score(y_test, y_pred_kn)}')\n",
        "print(f'Метрика точности (KN): {metrics.precision_score(y_test, y_pred_kn, average = \"micro\")}')\n",
        "print(f'Метрика полноты (KN): {metrics.recall_score(y_test, y_pred_kn, average = \"micro\")}')"
      ],
      "metadata": {
        "colab": {
          "base_uri": "https://localhost:8080/"
        },
        "id": "LdkOomHZU4Ip",
        "outputId": "e88dfe57-f63b-4eff-e6c6-11f4b254eaac"
      },
      "execution_count": 114,
      "outputs": [
        {
          "output_type": "stream",
          "name": "stdout",
          "text": [
            "Метрика достоверности (KN): 0.8245970896573306\n",
            "Метрика точности (KN): 0.8245970896573306\n",
            "Метрика полноты (KN): 0.8245970896573306\n"
          ]
        }
      ]
    },
    {
      "cell_type": "markdown",
      "source": [
        "### Метод дерева решений "
      ],
      "metadata": {
        "id": "-2dcWyNjVUpo"
      }
    },
    {
      "cell_type": "code",
      "source": [
        "from sklearn.tree import DecisionTreeClassifier"
      ],
      "metadata": {
        "id": "p0KUdj1aWO5F"
      },
      "execution_count": 115,
      "outputs": []
    },
    {
      "cell_type": "code",
      "source": [
        "dt = DecisionTreeClassifier().fit(x_train, y_train)\n",
        "y_pred_dt = dt.predict(x_test)\n",
        "\n",
        "matrix_dt = metrics.confusion_matrix(y_test, y_pred_dt)\n",
        "print(matrix_dt)"
      ],
      "metadata": {
        "colab": {
          "base_uri": "https://localhost:8080/"
        },
        "id": "LxBWnQtvVXFY",
        "outputId": "e64a3f0d-a8a0-4c74-e75c-ea63125f26c6"
      },
      "execution_count": 116,
      "outputs": [
        {
          "output_type": "stream",
          "name": "stdout",
          "text": [
            "[[4428  492]\n",
            " [ 648  823]]\n"
          ]
        }
      ]
    },
    {
      "cell_type": "code",
      "source": [
        "print(f'Метрика достоверности (dec tree): {metrics.accuracy_score(y_test, y_pred_dt)}') \n",
        "print(f'Метрика точности (dec tree): {metrics.precision_score(y_test, y_pred_dt, average = \"micro\")}')\n",
        "print(f'Метрика полноты (dec tree): {metrics.recall_score(y_test, y_pred_dt, average = \"micro\")}')"
      ],
      "metadata": {
        "colab": {
          "base_uri": "https://localhost:8080/"
        },
        "id": "d-oiWvcYWYHZ",
        "outputId": "734fc6ba-a3d5-4ebe-f89b-526fede4d0f1"
      },
      "execution_count": 117,
      "outputs": [
        {
          "output_type": "stream",
          "name": "stdout",
          "text": [
            "Метрика достоверности (dec tree): 0.8216241589735566\n",
            "Метрика точности (dec tree): 0.8216241589735566\n",
            "Метрика полноты (dec tree): 0.8216241589735566\n"
          ]
        }
      ]
    },
    {
      "cell_type": "markdown",
      "source": [
        "### Оценка эффективности обучения моделей (метрики)"
      ],
      "metadata": {
        "id": "2LpsbS9zVGLV"
      }
    },
    {
      "cell_type": "code",
      "source": [
        "clas = {'LogisticRegression': y_pred_cls, 'SVC linear': y_pred_svc, \n",
        "        'SVC rbf': y_pred_svc_g, 'KNeighbors': y_pred_kn, 'DecisionTree': y_pred_dt}\n",
        "\n",
        "for n, y_pred in clas.items():\n",
        "  print(f'Достоверность ({n}): {metrics.accuracy_score(y_test, y_pred)}')\n",
        "  print(f'Точность ({n}): {metrics.precision_score(y_test, y_pred, average = \"micro\")}')\n",
        "  print(f'Полнота ({n}): {metrics.recall_score(y_test, y_pred, average = \"micro\")}\\n')"
      ],
      "metadata": {
        "colab": {
          "base_uri": "https://localhost:8080/"
        },
        "id": "9FNV-z9IU6Xa",
        "outputId": "13ba5078-5a8b-477c-e2eb-b1d699e2b885"
      },
      "execution_count": 118,
      "outputs": [
        {
          "output_type": "stream",
          "name": "stdout",
          "text": [
            "Достоверность (LogisticRegression): 0.7596620247222657\n",
            "Точность (LogisticRegression): 0.7596620247222657\n",
            "Полнота (LogisticRegression): 0.7596620247222657\n",
            "\n",
            "Достоверность (SVC linear): 0.7698325770614928\n",
            "Точность (SVC linear): 0.7698325770614928\n",
            "Полнота (SVC linear): 0.7698325770614928\n",
            "\n",
            "Достоверность (SVC rbf): 0.7728055077452668\n",
            "Точность (SVC rbf): 0.7728055077452668\n",
            "Полнота (SVC rbf): 0.7728055077452668\n",
            "\n",
            "Достоверность (KNeighbors): 0.8245970896573306\n",
            "Точность (KNeighbors): 0.8245970896573306\n",
            "Полнота (KNeighbors): 0.8245970896573306\n",
            "\n",
            "Достоверность (DecisionTree): 0.8216241589735566\n",
            "Точность (DecisionTree): 0.8216241589735566\n",
            "Полнота (DecisionTree): 0.8216241589735566\n",
            "\n"
          ]
        }
      ]
    },
    {
      "cell_type": "markdown",
      "source": [
        "**На основе метрик мы видим, что наиболее хорошо показала себя модель метода дерева решений** "
      ],
      "metadata": {
        "id": "PeFIAdFAWsC7"
      }
    },
    {
      "cell_type": "markdown",
      "source": [
        "### Выводы об обученности моделей "
      ],
      "metadata": {
        "id": "OWJ_0_36Z8Zg"
      }
    },
    {
      "cell_type": "markdown",
      "source": [
        "Находим вероятность принадлежности классу с помощью метода `.predict_proba`:"
      ],
      "metadata": {
        "id": "8lNAcvAKZ_23"
      }
    },
    {
      "cell_type": "code",
      "source": [
        "y_pred_cls_proba = cls.predict_proba(x_test)\n",
        "cls_probs = y_pred_cls_proba[:, 1]\n",
        "cls_fpr, cls_tpr, cls_treshold = metrics.roc_curve(y_test, cls_probs)"
      ],
      "metadata": {
        "id": "DVFcWGXaZ9c9"
      },
      "execution_count": 119,
      "outputs": []
    },
    {
      "cell_type": "code",
      "source": [
        "y_pred_svc_proba = svc.predict_proba(x_test)\n",
        "svc_probs = y_pred_svc_proba[:, 1]\n",
        "svc_fpr, svc_tpr, svc_treshold = metrics.roc_curve(y_test, svc_probs)"
      ],
      "metadata": {
        "id": "aqTqUbOKaDWE"
      },
      "execution_count": 120,
      "outputs": []
    },
    {
      "cell_type": "code",
      "source": [
        "y_pred_svc_g_proba = svc_g.predict_proba(x_test)\n",
        "svc_g_probs = y_pred_svc_g_proba[:, 1]\n",
        "svc_g_fpr, svc_g_tpr, svc_g_treshold = metrics.roc_curve(y_test, svc_g_probs)"
      ],
      "metadata": {
        "id": "-VlLdghuaF8t"
      },
      "execution_count": 121,
      "outputs": []
    },
    {
      "cell_type": "code",
      "source": [
        "y_pred_kn_proba = kn.predict_proba(x_test)\n",
        "kn_probs = y_pred_kn_proba[:, 1]\n",
        "kn_fpr, kn_tpr, kn_treshold = metrics.roc_curve(y_test, kn_probs)"
      ],
      "metadata": {
        "id": "z5B2pBRIaMIU"
      },
      "execution_count": 122,
      "outputs": []
    },
    {
      "cell_type": "code",
      "source": [
        "y_pred_dt_proba = dt.predict_proba(x_test)\n",
        "dt_probs = y_pred_dt_proba[:, 1]\n",
        "dt_fpr, dt_tpr, dt_treshold = metrics.roc_curve(y_test, dt_probs)"
      ],
      "metadata": {
        "id": "J1d5ORBzaOid"
      },
      "execution_count": 123,
      "outputs": []
    },
    {
      "cell_type": "markdown",
      "source": [
        "#### Строим ROC-кривые для каждой модели\n",
        "ROC-кривая описывает взаимосвязь между чувствительностью модели (TPR, или true positives rate — доля истинно положительных примеров) и её специфичностью (описываемой в отношении долей ложноположительных результатов: 1-FPR).\n",
        "\n",
        "TPR, или чувствительность модели, является соотношением корректных классификаций положительного класса, разделённых на все положительные классы, доступные из набора данных.\n",
        "\n",
        "FPR — доля ложноположительных примеров, false positives rate. Это соотношение между ложными срабатываниями (количество прогнозов, ошибочно отнесённых в положительные), и всеми доступными отрицательными классами."
      ],
      "metadata": {
        "id": "SPNJw1U5aU5K"
      }
    },
    {
      "cell_type": "code",
      "source": [
        "plt.figure(figsize=(10,8))\n",
        "\n",
        "plt.plot(cls_fpr, cls_tpr, color=np.random.rand(3,),\n",
        "         label='ROC кривая (LogisticRegression)')\n",
        "plt.plot(svc_fpr, svc_tpr, color=np.random.rand(3,),\n",
        "         label='ROC кривая (SVC (linear))')\n",
        "plt.plot(svc_g_fpr, svc_g_tpr, color=np.random.rand(3,),\n",
        "         label='ROC кривая (SVC (rbf))')\n",
        "plt.plot(kn_fpr, kn_tpr, color=np.random.rand(3,),\n",
        "         label='ROC кривая (KNeighborsClassifier)')\n",
        "plt.plot(dt_fpr, dt_tpr, color=np.random.rand(3,),\n",
        "         label='ROC кривая (DecisionTreeClassifier)')\n",
        "plt.plot([0, 1], [0, 1], color=np.random.rand(3,), linestyle='--')\n",
        "\n",
        "plt.xlabel('False Positive Rate')\n",
        "plt.ylabel('True Positive Rate')\n",
        "plt.title('ROC-кривые')\n",
        "plt.legend()\n",
        "plt.show()"
      ],
      "metadata": {
        "colab": {
          "base_uri": "https://localhost:8080/",
          "height": 513
        },
        "id": "QSB00RTsaWY1",
        "outputId": "8816d1a8-d5e1-417c-bb41-687de01d91a8"
      },
      "execution_count": 124,
      "outputs": [
        {
          "output_type": "display_data",
          "data": {
            "text/plain": [
              "<Figure size 720x576 with 1 Axes>"
            ],
            "image/png": "[encoded data removed]"
          },
          "metadata": {
            "needs_background": "light"
          }
        }
      ]
    },
    {
      "cell_type": "code",
      "source": [
        "cls_roc_auc = metrics.auc(cls_fpr, cls_tpr)\n",
        "svc_roc_auc = metrics.auc(svc_fpr, svc_tpr)\n",
        "svc_g_roc_auc = metrics.auc(svc_g_fpr, svc_g_tpr)\n",
        "kn_roc_auc = metrics.auc(kn_fpr, kn_tpr)\n",
        "dt_roc_auc = metrics.auc(dt_fpr, dt_tpr)\n",
        "\n",
        "auc_df = pd.DataFrame({\n",
        "    'Модель классификации': ['Логистическая регрессия', 'Опорные вектора (линейное ядро)', \n",
        "                          'Опорные вектора (гауссовое ядро)', 'k ближайших соседей', 'Дерево решений'],\n",
        "    'AUC': [cls_roc_auc, svc_roc_auc, svc_g_roc_auc, kn_roc_auc, dt_roc_auc]})\n",
        "auc_df.sort_values(by = 'AUC', ascending = False, inplace=True)\n",
        "auc_df.set_index([pd.Index([1, 2, 3, 4, 5])], inplace=True)\n",
        "auc_df"
      ],
      "metadata": {
        "colab": {
          "base_uri": "https://localhost:8080/",
          "height": 206
        },
        "id": "eU7E2zlmacBN",
        "outputId": "165b12ef-b373-43f6-ec1a-a4db511e9bd8"
      },
      "execution_count": 125,
      "outputs": [
        {
          "output_type": "execute_result",
          "data": {
            "text/plain": [
              "               Модель классификации       AUC\n",
              "1               k ближайших соседей  0.841949\n",
              "2                    Дерево решений  0.812599\n",
              "3  Опорные вектора (гауссовое ядро)  0.791541\n",
              "4           Логистическая регрессия  0.718408\n",
              "5   Опорные вектора (линейное ядро)  0.408884"
            ],
            "text/html": [
              "\n",
              "  <div id=\"df-053e9ed6-c14b-4968-a9aa-03047ae1533b\">\n",
              "    <div class=\"colab-df-container\">\n",
              "      <div>\n",
              "<style scoped>\n",
              "    .dataframe tbody tr th:only-of-type {\n",
              "        vertical-align: middle;\n",
              "    }\n",
              "\n",
              "    .dataframe tbody tr th {\n",
              "        vertical-align: top;\n",
              "    }\n",
              "\n",
              "    .dataframe thead th {\n",
              "        text-align: right;\n",
              "    }\n",
              "</style>\n",
              "<table border=\"1\" class=\"dataframe\">\n",
              "  <thead>\n",
              "    <tr style=\"text-align: right;\">\n",
              "      <th></th>\n",
              "      <th>Модель классификации</th>\n",
              "      <th>AUC</th>\n",
              "    </tr>\n",
              "  </thead>\n",
              "  <tbody>\n",
              "    <tr>\n",
              "      <th>1</th>\n",
              "      <td>k ближайших соседей</td>\n",
              "      <td>0.841949</td>\n",
              "    </tr>\n",
              "    <tr>\n",
              "      <th>2</th>\n",
              "      <td>Дерево решений</td>\n",
              "      <td>0.812599</td>\n",
              "    </tr>\n",
              "    <tr>\n",
              "      <th>3</th>\n",
              "      <td>Опорные вектора (гауссовое ядро)</td>\n",
              "      <td>0.791541</td>\n",
              "    </tr>\n",
              "    <tr>\n",
              "      <th>4</th>\n",
              "      <td>Логистическая регрессия</td>\n",
              "      <td>0.718408</td>\n",
              "    </tr>\n",
              "    <tr>\n",
              "      <th>5</th>\n",
              "      <td>Опорные вектора (линейное ядро)</td>\n",
              "      <td>0.408884</td>\n",
              "    </tr>\n",
              "  </tbody>\n",
              "</table>\n",
              "</div>\n",
              "      <button class=\"colab-df-convert\" onclick=\"convertToInteractive('df-053e9ed6-c14b-4968-a9aa-03047ae1533b')\"\n",
              "              title=\"Convert this dataframe to an interactive table.\"\n",
              "              style=\"display:none;\">\n",
              "        \n",
              "  <svg xmlns=\"http://www.w3.org/2000/svg\" height=\"24px\"viewBox=\"0 0 24 24\"\n",
              "       width=\"24px\">\n",
              "    <path d=\"M0 0h24v24H0V0z\" fill=\"none\"/>\n",
              "    <path d=\"M18.56 5.44l.94 2.06.94-2.06 2.06-.94-2.06-.94-.94-2.06-.94 2.06-2.06.94zm-11 1L8.5 8.5l.94-2.06 2.06-.94-2.06-.94L8.5 2.5l-.94 2.06-2.06.94zm10 10l.94 2.06.94-2.06 2.06-.94-2.06-.94-.94-2.06-.94 2.06-2.06.94z\"/><path d=\"M17.41 7.96l-1.37-1.37c-.4-.4-.92-.59-1.43-.59-.52 0-1.04.2-1.43.59L10.3 9.45l-7.72 7.72c-.78.78-.78 2.05 0 2.83L4 21.41c.39.39.9.59 1.41.59.51 0 1.02-.2 1.41-.59l7.78-7.78 2.81-2.81c.8-.78.8-2.07 0-2.86zM5.41 20L4 18.59l7.72-7.72 1.47 1.35L5.41 20z\"/>\n",
              "  </svg>\n",
              "      </button>\n",
              "      \n",
              "  <style>\n",
              "    .colab-df-container {\n",
              "      display:flex;\n",
              "      flex-wrap:wrap;\n",
              "      gap: 12px;\n",
              "    }\n",
              "\n",
              "    .colab-df-convert {\n",
              "      background-color: #E8F0FE;\n",
              "      border: none;\n",
              "      border-radius: 50%;\n",
              "      cursor: pointer;\n",
              "      display: none;\n",
              "      fill: #1967D2;\n",
              "      height: 32px;\n",
              "      padding: 0 0 0 0;\n",
              "      width: 32px;\n",
              "    }\n",
              "\n",
              "    .colab-df-convert:hover {\n",
              "      background-color: #E2EBFA;\n",
              "      box-shadow: 0px 1px 2px rgba(60, 64, 67, 0.3), 0px 1px 3px 1px rgba(60, 64, 67, 0.15);\n",
              "      fill: #174EA6;\n",
              "    }\n",
              "\n",
              "    [theme=dark] .colab-df-convert {\n",
              "      background-color: #3B4455;\n",
              "      fill: #D2E3FC;\n",
              "    }\n",
              "\n",
              "    [theme=dark] .colab-df-convert:hover {\n",
              "      background-color: #434B5C;\n",
              "      box-shadow: 0px 1px 3px 1px rgba(0, 0, 0, 0.15);\n",
              "      filter: drop-shadow(0px 1px 2px rgba(0, 0, 0, 0.3));\n",
              "      fill: #FFFFFF;\n",
              "    }\n",
              "  </style>\n",
              "\n",
              "      <script>\n",
              "        const buttonEl =\n",
              "          document.querySelector('#df-053e9ed6-c14b-4968-a9aa-03047ae1533b button.colab-df-convert');\n",
              "        buttonEl.style.display =\n",
              "          google.colab.kernel.accessAllowed ? 'block' : 'none';\n",
              "\n",
              "        async function convertToInteractive(key) {\n",
              "          const element = document.querySelector('#df-053e9ed6-c14b-4968-a9aa-03047ae1533b');\n",
              "          const dataTable =\n",
              "            await google.colab.kernel.invokeFunction('convertToInteractive',\n",
              "                                                     [key], {});\n",
              "          if (!dataTable) return;\n",
              "\n",
              "          const docLinkHtml = 'Like what you see? Visit the ' +\n",
              "            '<a target=\"_blank\" href=https://colab.research.google.com/notebooks/data_table.ipynb>data table notebook</a>'\n",
              "            + ' to learn more about interactive tables.';\n",
              "          element.innerHTML = '';\n",
              "          dataTable['output_type'] = 'display_data';\n",
              "          await google.colab.output.renderOutput(dataTable, element);\n",
              "          const docLink = document.createElement('div');\n",
              "          docLink.innerHTML = docLinkHtml;\n",
              "          element.appendChild(docLink);\n",
              "        }\n",
              "      </script>\n",
              "    </div>\n",
              "  </div>\n",
              "  "
            ]
          },
          "metadata": {},
          "execution_count": 125
        }
      ]
    },
    {
      "cell_type": "markdown",
      "source": [
        "### Вывод о недообученности/переобученности модели"
      ],
      "metadata": {
        "id": "B056CDz5NE6e"
      }
    },
    {
      "cell_type": "code",
      "source": [
        "acc_cls = metrics.accuracy_score(y_test, y_pred_cls)\n",
        "acc_svc = metrics.accuracy_score(y_test, y_pred_svc)\n",
        "acc_svc_g = metrics.accuracy_score(y_test, y_pred_svc_g)\n",
        "acc_kn = metrics.accuracy_score(y_test, y_pred_kn)\n",
        "acc_dt = metrics.accuracy_score(y_test, y_pred_dt)\n",
        "\n",
        "acc_train_cls = metrics.accuracy_score(y_train, cls.predict(x_train))\n",
        "acc_train_svc = metrics.accuracy_score(y_train, svc.predict(x_train))\n",
        "acc_train_svc_g = metrics.accuracy_score(y_train, svc_g.predict(x_train))\n",
        "acc_train_kn = metrics.accuracy_score(y_train, kn.predict(x_train))\n",
        "acc_train_dt = metrics.accuracy_score(y_train, dt.predict(x_train))"
      ],
      "metadata": {
        "id": "ifdnMSWvN31G"
      },
      "execution_count": 126,
      "outputs": []
    },
    {
      "cell_type": "code",
      "source": [
        "trained = pd.DataFrame(columns = ['test data', 'train data'])\n",
        "\n",
        "logistic = [acc_cls, acc_train_cls]\n",
        "svm = [acc_svc, acc_train_svc]\n",
        "svm_g = [acc_svc, acc_train_svc]\n",
        "kneighbors = [acc_kn, acc_train_kn]\n",
        "dtree = [acc_dt, acc_train_dt]\n",
        "\n",
        "trained.loc[0] = logistic\n",
        "trained.loc[1] = svm\n",
        "trained.loc[2] = svm_g\n",
        "trained.loc[3] = kneighbors\n",
        "trained.loc[4] = dtree\n",
        "\n",
        "trained['result'] = trained.apply(lambda x: 'обучена адекватно' if (abs(x['test data'] - x['train data']) <= 0.015) else \n",
        "                                  ('недообучена' if (x['test data'] > x['train data']) else 'переобучена'), axis=1)\n",
        "trained.set_axis(['LogisticRegression', 'SVC linear', 'SVC rbf', 'KNeighbors', 'DecisionTree'], axis='index', inplace=True)\n",
        "\n",
        "trained"
      ],
      "metadata": {
        "colab": {
          "base_uri": "https://localhost:8080/",
          "height": 206
        },
        "id": "16uGf9EOEG5g",
        "outputId": "feb32876-ea54-43c7-837c-36b687ff9509"
      },
      "execution_count": 145,
      "outputs": [
        {
          "output_type": "execute_result",
          "data": {
            "text/plain": [
              "                    test data  train data             result\n",
              "LogisticRegression   0.759662    0.748631  обучена адекватно\n",
              "SVC linear           0.769833    0.755282  обучена адекватно\n",
              "SVC rbf              0.769833    0.755282  обучена адекватно\n",
              "KNeighbors           0.824597    0.829460  обучена адекватно\n",
              "DecisionTree         0.821624    0.865415        переобучена"
            ],
            "text/html": [
              "\n",
              "  <div id=\"df-a7e4426a-a282-4b9f-a55e-1237d20e068f\">\n",
              "    <div class=\"colab-df-container\">\n",
              "      <div>\n",
              "<style scoped>\n",
              "    .dataframe tbody tr th:only-of-type {\n",
              "        vertical-align: middle;\n",
              "    }\n",
              "\n",
              "    .dataframe tbody tr th {\n",
              "        vertical-align: top;\n",
              "    }\n",
              "\n",
              "    .dataframe thead th {\n",
              "        text-align: right;\n",
              "    }\n",
              "</style>\n",
              "<table border=\"1\" class=\"dataframe\">\n",
              "  <thead>\n",
              "    <tr style=\"text-align: right;\">\n",
              "      <th></th>\n",
              "      <th>test data</th>\n",
              "      <th>train data</th>\n",
              "      <th>result</th>\n",
              "    </tr>\n",
              "  </thead>\n",
              "  <tbody>\n",
              "    <tr>\n",
              "      <th>LogisticRegression</th>\n",
              "      <td>0.759662</td>\n",
              "      <td>0.748631</td>\n",
              "      <td>обучена адекватно</td>\n",
              "    </tr>\n",
              "    <tr>\n",
              "      <th>SVC linear</th>\n",
              "      <td>0.769833</td>\n",
              "      <td>0.755282</td>\n",
              "      <td>обучена адекватно</td>\n",
              "    </tr>\n",
              "    <tr>\n",
              "      <th>SVC rbf</th>\n",
              "      <td>0.769833</td>\n",
              "      <td>0.755282</td>\n",
              "      <td>обучена адекватно</td>\n",
              "    </tr>\n",
              "    <tr>\n",
              "      <th>KNeighbors</th>\n",
              "      <td>0.824597</td>\n",
              "      <td>0.829460</td>\n",
              "      <td>обучена адекватно</td>\n",
              "    </tr>\n",
              "    <tr>\n",
              "      <th>DecisionTree</th>\n",
              "      <td>0.821624</td>\n",
              "      <td>0.865415</td>\n",
              "      <td>переобучена</td>\n",
              "    </tr>\n",
              "  </tbody>\n",
              "</table>\n",
              "</div>\n",
              "      <button class=\"colab-df-convert\" onclick=\"convertToInteractive('df-a7e4426a-a282-4b9f-a55e-1237d20e068f')\"\n",
              "              title=\"Convert this dataframe to an interactive table.\"\n",
              "              style=\"display:none;\">\n",
              "        \n",
              "  <svg xmlns=\"http://www.w3.org/2000/svg\" height=\"24px\"viewBox=\"0 0 24 24\"\n",
              "       width=\"24px\">\n",
              "    <path d=\"M0 0h24v24H0V0z\" fill=\"none\"/>\n",
              "    <path d=\"M18.56 5.44l.94 2.06.94-2.06 2.06-.94-2.06-.94-.94-2.06-.94 2.06-2.06.94zm-11 1L8.5 8.5l.94-2.06 2.06-.94-2.06-.94L8.5 2.5l-.94 2.06-2.06.94zm10 10l.94 2.06.94-2.06 2.06-.94-2.06-.94-.94-2.06-.94 2.06-2.06.94z\"/><path d=\"M17.41 7.96l-1.37-1.37c-.4-.4-.92-.59-1.43-.59-.52 0-1.04.2-1.43.59L10.3 9.45l-7.72 7.72c-.78.78-.78 2.05 0 2.83L4 21.41c.39.39.9.59 1.41.59.51 0 1.02-.2 1.41-.59l7.78-7.78 2.81-2.81c.8-.78.8-2.07 0-2.86zM5.41 20L4 18.59l7.72-7.72 1.47 1.35L5.41 20z\"/>\n",
              "  </svg>\n",
              "      </button>\n",
              "      \n",
              "  <style>\n",
              "    .colab-df-container {\n",
              "      display:flex;\n",
              "      flex-wrap:wrap;\n",
              "      gap: 12px;\n",
              "    }\n",
              "\n",
              "    .colab-df-convert {\n",
              "      background-color: #E8F0FE;\n",
              "      border: none;\n",
              "      border-radius: 50%;\n",
              "      cursor: pointer;\n",
              "      display: none;\n",
              "      fill: #1967D2;\n",
              "      height: 32px;\n",
              "      padding: 0 0 0 0;\n",
              "      width: 32px;\n",
              "    }\n",
              "\n",
              "    .colab-df-convert:hover {\n",
              "      background-color: #E2EBFA;\n",
              "      box-shadow: 0px 1px 2px rgba(60, 64, 67, 0.3), 0px 1px 3px 1px rgba(60, 64, 67, 0.15);\n",
              "      fill: #174EA6;\n",
              "    }\n",
              "\n",
              "    [theme=dark] .colab-df-convert {\n",
              "      background-color: #3B4455;\n",
              "      fill: #D2E3FC;\n",
              "    }\n",
              "\n",
              "    [theme=dark] .colab-df-convert:hover {\n",
              "      background-color: #434B5C;\n",
              "      box-shadow: 0px 1px 3px 1px rgba(0, 0, 0, 0.15);\n",
              "      filter: drop-shadow(0px 1px 2px rgba(0, 0, 0, 0.3));\n",
              "      fill: #FFFFFF;\n",
              "    }\n",
              "  </style>\n",
              "\n",
              "      <script>\n",
              "        const buttonEl =\n",
              "          document.querySelector('#df-a7e4426a-a282-4b9f-a55e-1237d20e068f button.colab-df-convert');\n",
              "        buttonEl.style.display =\n",
              "          google.colab.kernel.accessAllowed ? 'block' : 'none';\n",
              "\n",
              "        async function convertToInteractive(key) {\n",
              "          const element = document.querySelector('#df-a7e4426a-a282-4b9f-a55e-1237d20e068f');\n",
              "          const dataTable =\n",
              "            await google.colab.kernel.invokeFunction('convertToInteractive',\n",
              "                                                     [key], {});\n",
              "          if (!dataTable) return;\n",
              "\n",
              "          const docLinkHtml = 'Like what you see? Visit the ' +\n",
              "            '<a target=\"_blank\" href=https://colab.research.google.com/notebooks/data_table.ipynb>data table notebook</a>'\n",
              "            + ' to learn more about interactive tables.';\n",
              "          element.innerHTML = '';\n",
              "          dataTable['output_type'] = 'display_data';\n",
              "          await google.colab.output.renderOutput(dataTable, element);\n",
              "          const docLink = document.createElement('div');\n",
              "          docLink.innerHTML = docLinkHtml;\n",
              "          element.appendChild(docLink);\n",
              "        }\n",
              "      </script>\n",
              "    </div>\n",
              "  </div>\n",
              "  "
            ]
          },
          "metadata": {},
          "execution_count": 145
        }
      ]
    }
  ]
}