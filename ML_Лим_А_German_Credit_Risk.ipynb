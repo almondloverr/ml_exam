{
  "nbformat": 4,
  "nbformat_minor": 0,
  "metadata": {
    "colab": {
      "provenance": []
    },
    "kernelspec": {
      "name": "python3",
      "display_name": "Python 3"
    },
    "language_info": {
      "name": "python"
    }
  },
  "cells": [
    {
      "cell_type": "markdown",
      "source": [
        "# Датасет №4 \"German Credit Risk\""
      ],
      "metadata": {
        "id": "ZLjdYwD4ABsl"
      }
    },
    {
      "cell_type": "markdown",
      "source": [
        "### Описание датасета"
      ],
      "metadata": {
        "id": "NEHNVV9tNaw8"
      }
    },
    {
      "cell_type": "markdown",
      "source": [
        "В этом наборе данных каждая запись представляет человека, который берет кредит в банке. Каждый человек классифицируется как хороший или плохой кредитный риск в соответствии с набором атрибутов. \n",
        "\n",
        "---\n",
        "\n",
        "Информация об атрибутах:\n",
        "\n",
        "- Возраст (числовое значение)\n",
        "- Пол (текст: мужской, женский)\n",
        "- Работа (числовое значение: 0 - неквалифицированный и нерезидент, 1 - неквалифицированный и резидент, 2 - квалифицированный, 3 - высококвалифицированный)\n",
        "- Жилье (текст: собственное, арендуемое или свободное)\n",
        "- Сберегательные счета (текст - небольшой, умеренный, довольно богатый, богатый)\n",
        "- Расчетный счет (числовое значение, в DM - немецких марках)\n",
        "- Сумма кредита (числовое значение, в DM)\n",
        "- Срок (числовое значение, в месяцах)\n",
        "- Цель (текст: автомобиль, мебель/оборудование, радио/ТВ, бытовая техника, ремонт, образование, бизнес, отпуск/другое)\n",
        "\n"
      ],
      "metadata": {
        "id": "O0ctRgfUMpQ6"
      }
    },
    {
      "cell_type": "markdown",
      "source": [
        "### Импорт модулей"
      ],
      "metadata": {
        "id": "0JGar1MeNwhc"
      }
    },
    {
      "cell_type": "code",
      "source": [
        "# импорт стандартных модулей \n",
        "\n",
        "import numpy as np\n",
        "import pandas as pd\n",
        "import seaborn as sns\n",
        "import random\n",
        "import matplotlib.pyplot as plt\n",
        "\n",
        "from collections import Counter"
      ],
      "metadata": {
        "id": "59DPwzj_CWwu"
      },
      "execution_count": 145,
      "outputs": []
    },
    {
      "cell_type": "code",
      "source": [
        "# иморт модулей sklearn'а\n",
        "\n",
        "from sklearn.preprocessing import LabelEncoder, MinMaxScaler\n",
        "from sklearn.model_selection import train_test_split\n",
        "from sklearn import metrics"
      ],
      "metadata": {
        "id": "tLoHdzxRDCBT"
      },
      "execution_count": 146,
      "outputs": []
    },
    {
      "cell_type": "markdown",
      "source": [
        "### Загрузка датасета и подготовка данных"
      ],
      "metadata": {
        "id": "8Wh8kZEqBUmV"
      }
    },
    {
      "cell_type": "markdown",
      "source": [
        "Файл я брала с выгруженного на свой гитхаб репозитория"
      ],
      "metadata": {
        "id": "ZdopMBKrN0O9"
      }
    },
    {
      "cell_type": "code",
      "execution_count": 147,
      "metadata": {
        "colab": {
          "base_uri": "https://localhost:8080/",
          "height": 206
        },
        "id": "d3qVhvuR_5I5",
        "outputId": "b7386a06-cce6-4c03-a06d-1b297f280aa5"
      },
      "outputs": [
        {
          "output_type": "execute_result",
          "data": {
            "text/plain": [
              "   Age     Sex  Job Housing Saving accounts Checking account  Credit amount  \\\n",
              "0   67    male    2     own             NaN           little           1169   \n",
              "1   22  female    2     own          little         moderate           5951   \n",
              "2   49    male    1     own          little              NaN           2096   \n",
              "3   45    male    2    free          little           little           7882   \n",
              "4   53    male    2    free          little           little           4870   \n",
              "\n",
              "   Duration              Purpose  \n",
              "0         6             radio/TV  \n",
              "1        48             radio/TV  \n",
              "2        12            education  \n",
              "3        42  furniture/equipment  \n",
              "4        24                  car  "
            ],
            "text/html": [
              "\n",
              "  <div id=\"df-89342f04-b78a-4e0b-986d-c7eea002f358\">\n",
              "    <div class=\"colab-df-container\">\n",
              "      <div>\n",
              "<style scoped>\n",
              "    .dataframe tbody tr th:only-of-type {\n",
              "        vertical-align: middle;\n",
              "    }\n",
              "\n",
              "    .dataframe tbody tr th {\n",
              "        vertical-align: top;\n",
              "    }\n",
              "\n",
              "    .dataframe thead th {\n",
              "        text-align: right;\n",
              "    }\n",
              "</style>\n",
              "<table border=\"1\" class=\"dataframe\">\n",
              "  <thead>\n",
              "    <tr style=\"text-align: right;\">\n",
              "      <th></th>\n",
              "      <th>Age</th>\n",
              "      <th>Sex</th>\n",
              "      <th>Job</th>\n",
              "      <th>Housing</th>\n",
              "      <th>Saving accounts</th>\n",
              "      <th>Checking account</th>\n",
              "      <th>Credit amount</th>\n",
              "      <th>Duration</th>\n",
              "      <th>Purpose</th>\n",
              "    </tr>\n",
              "  </thead>\n",
              "  <tbody>\n",
              "    <tr>\n",
              "      <th>0</th>\n",
              "      <td>67</td>\n",
              "      <td>male</td>\n",
              "      <td>2</td>\n",
              "      <td>own</td>\n",
              "      <td>NaN</td>\n",
              "      <td>little</td>\n",
              "      <td>1169</td>\n",
              "      <td>6</td>\n",
              "      <td>radio/TV</td>\n",
              "    </tr>\n",
              "    <tr>\n",
              "      <th>1</th>\n",
              "      <td>22</td>\n",
              "      <td>female</td>\n",
              "      <td>2</td>\n",
              "      <td>own</td>\n",
              "      <td>little</td>\n",
              "      <td>moderate</td>\n",
              "      <td>5951</td>\n",
              "      <td>48</td>\n",
              "      <td>radio/TV</td>\n",
              "    </tr>\n",
              "    <tr>\n",
              "      <th>2</th>\n",
              "      <td>49</td>\n",
              "      <td>male</td>\n",
              "      <td>1</td>\n",
              "      <td>own</td>\n",
              "      <td>little</td>\n",
              "      <td>NaN</td>\n",
              "      <td>2096</td>\n",
              "      <td>12</td>\n",
              "      <td>education</td>\n",
              "    </tr>\n",
              "    <tr>\n",
              "      <th>3</th>\n",
              "      <td>45</td>\n",
              "      <td>male</td>\n",
              "      <td>2</td>\n",
              "      <td>free</td>\n",
              "      <td>little</td>\n",
              "      <td>little</td>\n",
              "      <td>7882</td>\n",
              "      <td>42</td>\n",
              "      <td>furniture/equipment</td>\n",
              "    </tr>\n",
              "    <tr>\n",
              "      <th>4</th>\n",
              "      <td>53</td>\n",
              "      <td>male</td>\n",
              "      <td>2</td>\n",
              "      <td>free</td>\n",
              "      <td>little</td>\n",
              "      <td>little</td>\n",
              "      <td>4870</td>\n",
              "      <td>24</td>\n",
              "      <td>car</td>\n",
              "    </tr>\n",
              "  </tbody>\n",
              "</table>\n",
              "</div>\n",
              "      <button class=\"colab-df-convert\" onclick=\"convertToInteractive('df-89342f04-b78a-4e0b-986d-c7eea002f358')\"\n",
              "              title=\"Convert this dataframe to an interactive table.\"\n",
              "              style=\"display:none;\">\n",
              "        \n",
              "  <svg xmlns=\"http://www.w3.org/2000/svg\" height=\"24px\"viewBox=\"0 0 24 24\"\n",
              "       width=\"24px\">\n",
              "    <path d=\"M0 0h24v24H0V0z\" fill=\"none\"/>\n",
              "    <path d=\"M18.56 5.44l.94 2.06.94-2.06 2.06-.94-2.06-.94-.94-2.06-.94 2.06-2.06.94zm-11 1L8.5 8.5l.94-2.06 2.06-.94-2.06-.94L8.5 2.5l-.94 2.06-2.06.94zm10 10l.94 2.06.94-2.06 2.06-.94-2.06-.94-.94-2.06-.94 2.06-2.06.94z\"/><path d=\"M17.41 7.96l-1.37-1.37c-.4-.4-.92-.59-1.43-.59-.52 0-1.04.2-1.43.59L10.3 9.45l-7.72 7.72c-.78.78-.78 2.05 0 2.83L4 21.41c.39.39.9.59 1.41.59.51 0 1.02-.2 1.41-.59l7.78-7.78 2.81-2.81c.8-.78.8-2.07 0-2.86zM5.41 20L4 18.59l7.72-7.72 1.47 1.35L5.41 20z\"/>\n",
              "  </svg>\n",
              "      </button>\n",
              "      \n",
              "  <style>\n",
              "    .colab-df-container {\n",
              "      display:flex;\n",
              "      flex-wrap:wrap;\n",
              "      gap: 12px;\n",
              "    }\n",
              "\n",
              "    .colab-df-convert {\n",
              "      background-color: #E8F0FE;\n",
              "      border: none;\n",
              "      border-radius: 50%;\n",
              "      cursor: pointer;\n",
              "      display: none;\n",
              "      fill: #1967D2;\n",
              "      height: 32px;\n",
              "      padding: 0 0 0 0;\n",
              "      width: 32px;\n",
              "    }\n",
              "\n",
              "    .colab-df-convert:hover {\n",
              "      background-color: #E2EBFA;\n",
              "      box-shadow: 0px 1px 2px rgba(60, 64, 67, 0.3), 0px 1px 3px 1px rgba(60, 64, 67, 0.15);\n",
              "      fill: #174EA6;\n",
              "    }\n",
              "\n",
              "    [theme=dark] .colab-df-convert {\n",
              "      background-color: #3B4455;\n",
              "      fill: #D2E3FC;\n",
              "    }\n",
              "\n",
              "    [theme=dark] .colab-df-convert:hover {\n",
              "      background-color: #434B5C;\n",
              "      box-shadow: 0px 1px 3px 1px rgba(0, 0, 0, 0.15);\n",
              "      filter: drop-shadow(0px 1px 2px rgba(0, 0, 0, 0.3));\n",
              "      fill: #FFFFFF;\n",
              "    }\n",
              "  </style>\n",
              "\n",
              "      <script>\n",
              "        const buttonEl =\n",
              "          document.querySelector('#df-89342f04-b78a-4e0b-986d-c7eea002f358 button.colab-df-convert');\n",
              "        buttonEl.style.display =\n",
              "          google.colab.kernel.accessAllowed ? 'block' : 'none';\n",
              "\n",
              "        async function convertToInteractive(key) {\n",
              "          const element = document.querySelector('#df-89342f04-b78a-4e0b-986d-c7eea002f358');\n",
              "          const dataTable =\n",
              "            await google.colab.kernel.invokeFunction('convertToInteractive',\n",
              "                                                     [key], {});\n",
              "          if (!dataTable) return;\n",
              "\n",
              "          const docLinkHtml = 'Like what you see? Visit the ' +\n",
              "            '<a target=\"_blank\" href=https://colab.research.google.com/notebooks/data_table.ipynb>data table notebook</a>'\n",
              "            + ' to learn more about interactive tables.';\n",
              "          element.innerHTML = '';\n",
              "          dataTable['output_type'] = 'display_data';\n",
              "          await google.colab.output.renderOutput(dataTable, element);\n",
              "          const docLink = document.createElement('div');\n",
              "          docLink.innerHTML = docLinkHtml;\n",
              "          element.appendChild(docLink);\n",
              "        }\n",
              "      </script>\n",
              "    </div>\n",
              "  </div>\n",
              "  "
            ]
          },
          "metadata": {},
          "execution_count": 147
        }
      ],
      "source": [
        "df = pd.read_csv('https://raw.githubusercontent.com/almondloverr/ml_exam/main/datasets/german_credit_data.csv', index_col=[0])\n",
        "df.head()"
      ]
    },
    {
      "cell_type": "code",
      "source": [
        "print(\"В датасете\", df.shape[0], \"точек данных и\", df.shape[1], \"параметров\")"
      ],
      "metadata": {
        "colab": {
          "base_uri": "https://localhost:8080/"
        },
        "id": "_r0Lem6fUoJM",
        "outputId": "74e776fe-4ba7-418d-f8ba-6bbdd52972f4"
      },
      "execution_count": 148,
      "outputs": [
        {
          "output_type": "stream",
          "name": "stdout",
          "text": [
            "В датасете 1000 точек данных и 9 параметров\n"
          ]
        }
      ]
    },
    {
      "cell_type": "code",
      "source": [
        "df.info()"
      ],
      "metadata": {
        "colab": {
          "base_uri": "https://localhost:8080/"
        },
        "id": "j-2Hi0VtDi1Z",
        "outputId": "b191a70b-e034-49f3-b7e8-2c8c74d9b282"
      },
      "execution_count": 149,
      "outputs": [
        {
          "output_type": "stream",
          "name": "stdout",
          "text": [
            "<class 'pandas.core.frame.DataFrame'>\n",
            "Int64Index: 1000 entries, 0 to 999\n",
            "Data columns (total 9 columns):\n",
            " #   Column            Non-Null Count  Dtype \n",
            "---  ------            --------------  ----- \n",
            " 0   Age               1000 non-null   int64 \n",
            " 1   Sex               1000 non-null   object\n",
            " 2   Job               1000 non-null   int64 \n",
            " 3   Housing           1000 non-null   object\n",
            " 4   Saving accounts   817 non-null    object\n",
            " 5   Checking account  606 non-null    object\n",
            " 6   Credit amount     1000 non-null   int64 \n",
            " 7   Duration          1000 non-null   int64 \n",
            " 8   Purpose           1000 non-null   object\n",
            "dtypes: int64(4), object(5)\n",
            "memory usage: 78.1+ KB\n"
          ]
        }
      ]
    },
    {
      "cell_type": "code",
      "source": [
        "df.columns # Job — наша целевая переменная"
      ],
      "metadata": {
        "colab": {
          "base_uri": "https://localhost:8080/"
        },
        "id": "NZDysGLbRcfB",
        "outputId": "5a251326-cce0-448d-8beb-93007c11ca53"
      },
      "execution_count": 150,
      "outputs": [
        {
          "output_type": "execute_result",
          "data": {
            "text/plain": [
              "Index(['Age', 'Sex', 'Job', 'Housing', 'Saving accounts', 'Checking account',\n",
              "       'Credit amount', 'Duration', 'Purpose'],\n",
              "      dtype='object')"
            ]
          },
          "metadata": {},
          "execution_count": 150
        }
      ]
    },
    {
      "cell_type": "code",
      "source": [
        "df['Job'].value_counts()"
      ],
      "metadata": {
        "colab": {
          "base_uri": "https://localhost:8080/"
        },
        "id": "91ka_p0AOOH7",
        "outputId": "8ed8c8d1-0729-4461-f337-0e4ffa3200b6"
      },
      "execution_count": 151,
      "outputs": [
        {
          "output_type": "execute_result",
          "data": {
            "text/plain": [
              "2    630\n",
              "1    200\n",
              "3    148\n",
              "0     22\n",
              "Name: Job, dtype: int64"
            ]
          },
          "metadata": {},
          "execution_count": 151
        }
      ]
    },
    {
      "cell_type": "code",
      "source": [
        "df.describe().T # описательная статистика по числовым параметрам"
      ],
      "metadata": {
        "colab": {
          "base_uri": "https://localhost:8080/",
          "height": 175
        },
        "id": "SsOyDBbET9QC",
        "outputId": "81cc625b-71f3-460c-ae70-1b571818a4f7"
      },
      "execution_count": 152,
      "outputs": [
        {
          "output_type": "execute_result",
          "data": {
            "text/plain": [
              "                count      mean          std    min     25%     50%      75%  \\\n",
              "Age            1000.0    35.546    11.375469   19.0    27.0    33.0    42.00   \n",
              "Job            1000.0     1.904     0.653614    0.0     2.0     2.0     2.00   \n",
              "Credit amount  1000.0  3271.258  2822.736876  250.0  1365.5  2319.5  3972.25   \n",
              "Duration       1000.0    20.903    12.058814    4.0    12.0    18.0    24.00   \n",
              "\n",
              "                   max  \n",
              "Age               75.0  \n",
              "Job                3.0  \n",
              "Credit amount  18424.0  \n",
              "Duration          72.0  "
            ],
            "text/html": [
              "\n",
              "  <div id=\"df-1b69b299-628c-4d49-9ee9-fed272f06984\">\n",
              "    <div class=\"colab-df-container\">\n",
              "      <div>\n",
              "<style scoped>\n",
              "    .dataframe tbody tr th:only-of-type {\n",
              "        vertical-align: middle;\n",
              "    }\n",
              "\n",
              "    .dataframe tbody tr th {\n",
              "        vertical-align: top;\n",
              "    }\n",
              "\n",
              "    .dataframe thead th {\n",
              "        text-align: right;\n",
              "    }\n",
              "</style>\n",
              "<table border=\"1\" class=\"dataframe\">\n",
              "  <thead>\n",
              "    <tr style=\"text-align: right;\">\n",
              "      <th></th>\n",
              "      <th>count</th>\n",
              "      <th>mean</th>\n",
              "      <th>std</th>\n",
              "      <th>min</th>\n",
              "      <th>25%</th>\n",
              "      <th>50%</th>\n",
              "      <th>75%</th>\n",
              "      <th>max</th>\n",
              "    </tr>\n",
              "  </thead>\n",
              "  <tbody>\n",
              "    <tr>\n",
              "      <th>Age</th>\n",
              "      <td>1000.0</td>\n",
              "      <td>35.546</td>\n",
              "      <td>11.375469</td>\n",
              "      <td>19.0</td>\n",
              "      <td>27.0</td>\n",
              "      <td>33.0</td>\n",
              "      <td>42.00</td>\n",
              "      <td>75.0</td>\n",
              "    </tr>\n",
              "    <tr>\n",
              "      <th>Job</th>\n",
              "      <td>1000.0</td>\n",
              "      <td>1.904</td>\n",
              "      <td>0.653614</td>\n",
              "      <td>0.0</td>\n",
              "      <td>2.0</td>\n",
              "      <td>2.0</td>\n",
              "      <td>2.00</td>\n",
              "      <td>3.0</td>\n",
              "    </tr>\n",
              "    <tr>\n",
              "      <th>Credit amount</th>\n",
              "      <td>1000.0</td>\n",
              "      <td>3271.258</td>\n",
              "      <td>2822.736876</td>\n",
              "      <td>250.0</td>\n",
              "      <td>1365.5</td>\n",
              "      <td>2319.5</td>\n",
              "      <td>3972.25</td>\n",
              "      <td>18424.0</td>\n",
              "    </tr>\n",
              "    <tr>\n",
              "      <th>Duration</th>\n",
              "      <td>1000.0</td>\n",
              "      <td>20.903</td>\n",
              "      <td>12.058814</td>\n",
              "      <td>4.0</td>\n",
              "      <td>12.0</td>\n",
              "      <td>18.0</td>\n",
              "      <td>24.00</td>\n",
              "      <td>72.0</td>\n",
              "    </tr>\n",
              "  </tbody>\n",
              "</table>\n",
              "</div>\n",
              "      <button class=\"colab-df-convert\" onclick=\"convertToInteractive('df-1b69b299-628c-4d49-9ee9-fed272f06984')\"\n",
              "              title=\"Convert this dataframe to an interactive table.\"\n",
              "              style=\"display:none;\">\n",
              "        \n",
              "  <svg xmlns=\"http://www.w3.org/2000/svg\" height=\"24px\"viewBox=\"0 0 24 24\"\n",
              "       width=\"24px\">\n",
              "    <path d=\"M0 0h24v24H0V0z\" fill=\"none\"/>\n",
              "    <path d=\"M18.56 5.44l.94 2.06.94-2.06 2.06-.94-2.06-.94-.94-2.06-.94 2.06-2.06.94zm-11 1L8.5 8.5l.94-2.06 2.06-.94-2.06-.94L8.5 2.5l-.94 2.06-2.06.94zm10 10l.94 2.06.94-2.06 2.06-.94-2.06-.94-.94-2.06-.94 2.06-2.06.94z\"/><path d=\"M17.41 7.96l-1.37-1.37c-.4-.4-.92-.59-1.43-.59-.52 0-1.04.2-1.43.59L10.3 9.45l-7.72 7.72c-.78.78-.78 2.05 0 2.83L4 21.41c.39.39.9.59 1.41.59.51 0 1.02-.2 1.41-.59l7.78-7.78 2.81-2.81c.8-.78.8-2.07 0-2.86zM5.41 20L4 18.59l7.72-7.72 1.47 1.35L5.41 20z\"/>\n",
              "  </svg>\n",
              "      </button>\n",
              "      \n",
              "  <style>\n",
              "    .colab-df-container {\n",
              "      display:flex;\n",
              "      flex-wrap:wrap;\n",
              "      gap: 12px;\n",
              "    }\n",
              "\n",
              "    .colab-df-convert {\n",
              "      background-color: #E8F0FE;\n",
              "      border: none;\n",
              "      border-radius: 50%;\n",
              "      cursor: pointer;\n",
              "      display: none;\n",
              "      fill: #1967D2;\n",
              "      height: 32px;\n",
              "      padding: 0 0 0 0;\n",
              "      width: 32px;\n",
              "    }\n",
              "\n",
              "    .colab-df-convert:hover {\n",
              "      background-color: #E2EBFA;\n",
              "      box-shadow: 0px 1px 2px rgba(60, 64, 67, 0.3), 0px 1px 3px 1px rgba(60, 64, 67, 0.15);\n",
              "      fill: #174EA6;\n",
              "    }\n",
              "\n",
              "    [theme=dark] .colab-df-convert {\n",
              "      background-color: #3B4455;\n",
              "      fill: #D2E3FC;\n",
              "    }\n",
              "\n",
              "    [theme=dark] .colab-df-convert:hover {\n",
              "      background-color: #434B5C;\n",
              "      box-shadow: 0px 1px 3px 1px rgba(0, 0, 0, 0.15);\n",
              "      filter: drop-shadow(0px 1px 2px rgba(0, 0, 0, 0.3));\n",
              "      fill: #FFFFFF;\n",
              "    }\n",
              "  </style>\n",
              "\n",
              "      <script>\n",
              "        const buttonEl =\n",
              "          document.querySelector('#df-1b69b299-628c-4d49-9ee9-fed272f06984 button.colab-df-convert');\n",
              "        buttonEl.style.display =\n",
              "          google.colab.kernel.accessAllowed ? 'block' : 'none';\n",
              "\n",
              "        async function convertToInteractive(key) {\n",
              "          const element = document.querySelector('#df-1b69b299-628c-4d49-9ee9-fed272f06984');\n",
              "          const dataTable =\n",
              "            await google.colab.kernel.invokeFunction('convertToInteractive',\n",
              "                                                     [key], {});\n",
              "          if (!dataTable) return;\n",
              "\n",
              "          const docLinkHtml = 'Like what you see? Visit the ' +\n",
              "            '<a target=\"_blank\" href=https://colab.research.google.com/notebooks/data_table.ipynb>data table notebook</a>'\n",
              "            + ' to learn more about interactive tables.';\n",
              "          element.innerHTML = '';\n",
              "          dataTable['output_type'] = 'display_data';\n",
              "          await google.colab.output.renderOutput(dataTable, element);\n",
              "          const docLink = document.createElement('div');\n",
              "          docLink.innerHTML = docLinkHtml;\n",
              "          element.appendChild(docLink);\n",
              "        }\n",
              "      </script>\n",
              "    </div>\n",
              "  </div>\n",
              "  "
            ]
          },
          "metadata": {},
          "execution_count": 152
        }
      ]
    },
    {
      "cell_type": "code",
      "source": [
        "df.describe(include=object).T # описательная статистика по категориальным параметрам"
      ],
      "metadata": {
        "colab": {
          "base_uri": "https://localhost:8080/",
          "height": 206
        },
        "id": "ag7S1cOTSmi5",
        "outputId": "9c83ce7d-fa1e-4f24-c072-63b04a2998ee"
      },
      "execution_count": 153,
      "outputs": [
        {
          "output_type": "execute_result",
          "data": {
            "text/plain": [
              "                 count unique     top freq\n",
              "Sex               1000      2    male  690\n",
              "Housing           1000      3     own  713\n",
              "Saving accounts    817      4  little  603\n",
              "Checking account   606      3  little  274\n",
              "Purpose           1000      8     car  337"
            ],
            "text/html": [
              "\n",
              "  <div id=\"df-c97450fe-e08b-4a33-9db1-5ba45fdb0f89\">\n",
              "    <div class=\"colab-df-container\">\n",
              "      <div>\n",
              "<style scoped>\n",
              "    .dataframe tbody tr th:only-of-type {\n",
              "        vertical-align: middle;\n",
              "    }\n",
              "\n",
              "    .dataframe tbody tr th {\n",
              "        vertical-align: top;\n",
              "    }\n",
              "\n",
              "    .dataframe thead th {\n",
              "        text-align: right;\n",
              "    }\n",
              "</style>\n",
              "<table border=\"1\" class=\"dataframe\">\n",
              "  <thead>\n",
              "    <tr style=\"text-align: right;\">\n",
              "      <th></th>\n",
              "      <th>count</th>\n",
              "      <th>unique</th>\n",
              "      <th>top</th>\n",
              "      <th>freq</th>\n",
              "    </tr>\n",
              "  </thead>\n",
              "  <tbody>\n",
              "    <tr>\n",
              "      <th>Sex</th>\n",
              "      <td>1000</td>\n",
              "      <td>2</td>\n",
              "      <td>male</td>\n",
              "      <td>690</td>\n",
              "    </tr>\n",
              "    <tr>\n",
              "      <th>Housing</th>\n",
              "      <td>1000</td>\n",
              "      <td>3</td>\n",
              "      <td>own</td>\n",
              "      <td>713</td>\n",
              "    </tr>\n",
              "    <tr>\n",
              "      <th>Saving accounts</th>\n",
              "      <td>817</td>\n",
              "      <td>4</td>\n",
              "      <td>little</td>\n",
              "      <td>603</td>\n",
              "    </tr>\n",
              "    <tr>\n",
              "      <th>Checking account</th>\n",
              "      <td>606</td>\n",
              "      <td>3</td>\n",
              "      <td>little</td>\n",
              "      <td>274</td>\n",
              "    </tr>\n",
              "    <tr>\n",
              "      <th>Purpose</th>\n",
              "      <td>1000</td>\n",
              "      <td>8</td>\n",
              "      <td>car</td>\n",
              "      <td>337</td>\n",
              "    </tr>\n",
              "  </tbody>\n",
              "</table>\n",
              "</div>\n",
              "      <button class=\"colab-df-convert\" onclick=\"convertToInteractive('df-c97450fe-e08b-4a33-9db1-5ba45fdb0f89')\"\n",
              "              title=\"Convert this dataframe to an interactive table.\"\n",
              "              style=\"display:none;\">\n",
              "        \n",
              "  <svg xmlns=\"http://www.w3.org/2000/svg\" height=\"24px\"viewBox=\"0 0 24 24\"\n",
              "       width=\"24px\">\n",
              "    <path d=\"M0 0h24v24H0V0z\" fill=\"none\"/>\n",
              "    <path d=\"M18.56 5.44l.94 2.06.94-2.06 2.06-.94-2.06-.94-.94-2.06-.94 2.06-2.06.94zm-11 1L8.5 8.5l.94-2.06 2.06-.94-2.06-.94L8.5 2.5l-.94 2.06-2.06.94zm10 10l.94 2.06.94-2.06 2.06-.94-2.06-.94-.94-2.06-.94 2.06-2.06.94z\"/><path d=\"M17.41 7.96l-1.37-1.37c-.4-.4-.92-.59-1.43-.59-.52 0-1.04.2-1.43.59L10.3 9.45l-7.72 7.72c-.78.78-.78 2.05 0 2.83L4 21.41c.39.39.9.59 1.41.59.51 0 1.02-.2 1.41-.59l7.78-7.78 2.81-2.81c.8-.78.8-2.07 0-2.86zM5.41 20L4 18.59l7.72-7.72 1.47 1.35L5.41 20z\"/>\n",
              "  </svg>\n",
              "      </button>\n",
              "      \n",
              "  <style>\n",
              "    .colab-df-container {\n",
              "      display:flex;\n",
              "      flex-wrap:wrap;\n",
              "      gap: 12px;\n",
              "    }\n",
              "\n",
              "    .colab-df-convert {\n",
              "      background-color: #E8F0FE;\n",
              "      border: none;\n",
              "      border-radius: 50%;\n",
              "      cursor: pointer;\n",
              "      display: none;\n",
              "      fill: #1967D2;\n",
              "      height: 32px;\n",
              "      padding: 0 0 0 0;\n",
              "      width: 32px;\n",
              "    }\n",
              "\n",
              "    .colab-df-convert:hover {\n",
              "      background-color: #E2EBFA;\n",
              "      box-shadow: 0px 1px 2px rgba(60, 64, 67, 0.3), 0px 1px 3px 1px rgba(60, 64, 67, 0.15);\n",
              "      fill: #174EA6;\n",
              "    }\n",
              "\n",
              "    [theme=dark] .colab-df-convert {\n",
              "      background-color: #3B4455;\n",
              "      fill: #D2E3FC;\n",
              "    }\n",
              "\n",
              "    [theme=dark] .colab-df-convert:hover {\n",
              "      background-color: #434B5C;\n",
              "      box-shadow: 0px 1px 3px 1px rgba(0, 0, 0, 0.15);\n",
              "      filter: drop-shadow(0px 1px 2px rgba(0, 0, 0, 0.3));\n",
              "      fill: #FFFFFF;\n",
              "    }\n",
              "  </style>\n",
              "\n",
              "      <script>\n",
              "        const buttonEl =\n",
              "          document.querySelector('#df-c97450fe-e08b-4a33-9db1-5ba45fdb0f89 button.colab-df-convert');\n",
              "        buttonEl.style.display =\n",
              "          google.colab.kernel.accessAllowed ? 'block' : 'none';\n",
              "\n",
              "        async function convertToInteractive(key) {\n",
              "          const element = document.querySelector('#df-c97450fe-e08b-4a33-9db1-5ba45fdb0f89');\n",
              "          const dataTable =\n",
              "            await google.colab.kernel.invokeFunction('convertToInteractive',\n",
              "                                                     [key], {});\n",
              "          if (!dataTable) return;\n",
              "\n",
              "          const docLinkHtml = 'Like what you see? Visit the ' +\n",
              "            '<a target=\"_blank\" href=https://colab.research.google.com/notebooks/data_table.ipynb>data table notebook</a>'\n",
              "            + ' to learn more about interactive tables.';\n",
              "          element.innerHTML = '';\n",
              "          dataTable['output_type'] = 'display_data';\n",
              "          await google.colab.output.renderOutput(dataTable, element);\n",
              "          const docLink = document.createElement('div');\n",
              "          docLink.innerHTML = docLinkHtml;\n",
              "          element.appendChild(docLink);\n",
              "        }\n",
              "      </script>\n",
              "    </div>\n",
              "  </div>\n",
              "  "
            ]
          },
          "metadata": {},
          "execution_count": 153
        }
      ]
    },
    {
      "cell_type": "markdown",
      "source": [
        "### Обработка пустых значений "
      ],
      "metadata": {
        "id": "W6oqUmtQpcwC"
      }
    },
    {
      "cell_type": "code",
      "source": [
        "df.isna().sum()[df.isna().sum() > 0]"
      ],
      "metadata": {
        "colab": {
          "base_uri": "https://localhost:8080/"
        },
        "id": "lZmklpXFeG2X",
        "outputId": "e73cb84c-ec5e-4df3-99b4-503b9a9130f5"
      },
      "execution_count": 154,
      "outputs": [
        {
          "output_type": "execute_result",
          "data": {
            "text/plain": [
              "Saving accounts     183\n",
              "Checking account    394\n",
              "dtype: int64"
            ]
          },
          "metadata": {},
          "execution_count": 154
        }
      ]
    },
    {
      "cell_type": "markdown",
      "source": [
        "Предисловие: на одной из лекций коротеев говорил, что наиболее корректным способом для обработки пропусков является не замена на самое частое значение или медиану, а выделение нового атрибута, который мы потом будем рассматривать как отдельный класс, то мы так и сделаем. \n",
        "\n",
        "А так дальше мы в любом случае будем менять категориальные значения на числовые через лейбл энкодер (где по дефолту пропущенным значениям присваивается класс 0), то никаких операций с пустыми значениями мы проводить не будем"
      ],
      "metadata": {
        "id": "exQyacmoqAlV"
      }
    },
    {
      "cell_type": "markdown",
      "source": [
        "### Выводим текстовые атрибуты и их уникальные значения для дальнейшего анализа"
      ],
      "metadata": {
        "id": "_ApJXWl-UN4g"
      }
    },
    {
      "cell_type": "code",
      "source": [
        "for column in df.select_dtypes(include='object').columns.tolist():\n",
        "  print(f'{column}\\n{df[column].value_counts()}\\n')"
      ],
      "metadata": {
        "colab": {
          "base_uri": "https://localhost:8080/"
        },
        "id": "Lm2j6b3rUWpN",
        "outputId": "565c4e25-1673-4ba9-edea-efe6cdb31c30"
      },
      "execution_count": 155,
      "outputs": [
        {
          "output_type": "stream",
          "name": "stdout",
          "text": [
            "Sex\n",
            "male      690\n",
            "female    310\n",
            "Name: Sex, dtype: int64\n",
            "\n",
            "Housing\n",
            "own     713\n",
            "rent    179\n",
            "free    108\n",
            "Name: Housing, dtype: int64\n",
            "\n",
            "Saving accounts\n",
            "little        603\n",
            "moderate      103\n",
            "quite rich     63\n",
            "rich           48\n",
            "Name: Saving accounts, dtype: int64\n",
            "\n",
            "Checking account\n",
            "little      274\n",
            "moderate    269\n",
            "rich         63\n",
            "Name: Checking account, dtype: int64\n",
            "\n",
            "Purpose\n",
            "car                    337\n",
            "radio/TV               280\n",
            "furniture/equipment    181\n",
            "business                97\n",
            "education               59\n",
            "repairs                 22\n",
            "domestic appliances     12\n",
            "vacation/others         12\n",
            "Name: Purpose, dtype: int64\n",
            "\n"
          ]
        }
      ]
    },
    {
      "cell_type": "markdown",
      "source": [
        "Переменные Sex и Housing заменим на числовые через dummy-переменные"
      ],
      "metadata": {
        "id": "iruaBFcmUqXc"
      }
    },
    {
      "cell_type": "code",
      "source": [
        "df_sex = pd.get_dummies(df['Sex']).rename(columns={'male': 'Sex_male', 'female': 'Sex_female'})\n",
        "df = df.join(df_sex).drop('Sex', axis=1)"
      ],
      "metadata": {
        "id": "L1roCYKEsBl3"
      },
      "execution_count": 156,
      "outputs": []
    },
    {
      "cell_type": "code",
      "source": [
        "df_housing = pd.get_dummies(df['Housing']).rename(columns={'own': 'Housing_own', 'rent': 'Housing_rent', 'free': 'Housing_free'})\n",
        "df = df.join(df_housing).drop('Housing', axis=1)"
      ],
      "metadata": {
        "id": "KiQQY-jKsMnn"
      },
      "execution_count": 157,
      "outputs": []
    },
    {
      "cell_type": "markdown",
      "source": [
        "Остальные категориальные переменные заменим через LabelEncoder, так как параметров слишком много и использовать дамми-переменные нецелесообразно"
      ],
      "metadata": {
        "id": "L5xolhKVWMjQ"
      }
    },
    {
      "cell_type": "code",
      "source": [
        "labelencoder = LabelEncoder()\n",
        "for col in df.columns:\n",
        "    df[col] = labelencoder.fit_transform(df[col])\n",
        " \n",
        "df.head()"
      ],
      "metadata": {
        "colab": {
          "base_uri": "https://localhost:8080/",
          "height": 267
        },
        "id": "Daclf9ZtWrhR",
        "outputId": "e5db996d-e993-403c-d30a-a3b5edf67e41"
      },
      "execution_count": 158,
      "outputs": [
        {
          "output_type": "execute_result",
          "data": {
            "text/plain": [
              "   Age  Job  Saving accounts  Checking account  Credit amount  Duration  \\\n",
              "0   48    2                4                 0            142         2   \n",
              "1    3    2                0                 1            770        29   \n",
              "2   30    1                0                 3            390         8   \n",
              "3   26    2                0                 0            848        26   \n",
              "4   34    2                0                 0            734        17   \n",
              "\n",
              "   Purpose  Sex_female  Sex_male  Housing_free  Housing_own  Housing_rent  \n",
              "0        5           0         1             0            1             0  \n",
              "1        5           1         0             0            1             0  \n",
              "2        3           0         1             0            1             0  \n",
              "3        4           0         1             1            0             0  \n",
              "4        1           0         1             1            0             0  "
            ],
            "text/html": [
              "\n",
              "  <div id=\"df-b8b40178-c0e8-43cd-ac5f-c6b4a97e6449\">\n",
              "    <div class=\"colab-df-container\">\n",
              "      <div>\n",
              "<style scoped>\n",
              "    .dataframe tbody tr th:only-of-type {\n",
              "        vertical-align: middle;\n",
              "    }\n",
              "\n",
              "    .dataframe tbody tr th {\n",
              "        vertical-align: top;\n",
              "    }\n",
              "\n",
              "    .dataframe thead th {\n",
              "        text-align: right;\n",
              "    }\n",
              "</style>\n",
              "<table border=\"1\" class=\"dataframe\">\n",
              "  <thead>\n",
              "    <tr style=\"text-align: right;\">\n",
              "      <th></th>\n",
              "      <th>Age</th>\n",
              "      <th>Job</th>\n",
              "      <th>Saving accounts</th>\n",
              "      <th>Checking account</th>\n",
              "      <th>Credit amount</th>\n",
              "      <th>Duration</th>\n",
              "      <th>Purpose</th>\n",
              "      <th>Sex_female</th>\n",
              "      <th>Sex_male</th>\n",
              "      <th>Housing_free</th>\n",
              "      <th>Housing_own</th>\n",
              "      <th>Housing_rent</th>\n",
              "    </tr>\n",
              "  </thead>\n",
              "  <tbody>\n",
              "    <tr>\n",
              "      <th>0</th>\n",
              "      <td>48</td>\n",
              "      <td>2</td>\n",
              "      <td>4</td>\n",
              "      <td>0</td>\n",
              "      <td>142</td>\n",
              "      <td>2</td>\n",
              "      <td>5</td>\n",
              "      <td>0</td>\n",
              "      <td>1</td>\n",
              "      <td>0</td>\n",
              "      <td>1</td>\n",
              "      <td>0</td>\n",
              "    </tr>\n",
              "    <tr>\n",
              "      <th>1</th>\n",
              "      <td>3</td>\n",
              "      <td>2</td>\n",
              "      <td>0</td>\n",
              "      <td>1</td>\n",
              "      <td>770</td>\n",
              "      <td>29</td>\n",
              "      <td>5</td>\n",
              "      <td>1</td>\n",
              "      <td>0</td>\n",
              "      <td>0</td>\n",
              "      <td>1</td>\n",
              "      <td>0</td>\n",
              "    </tr>\n",
              "    <tr>\n",
              "      <th>2</th>\n",
              "      <td>30</td>\n",
              "      <td>1</td>\n",
              "      <td>0</td>\n",
              "      <td>3</td>\n",
              "      <td>390</td>\n",
              "      <td>8</td>\n",
              "      <td>3</td>\n",
              "      <td>0</td>\n",
              "      <td>1</td>\n",
              "      <td>0</td>\n",
              "      <td>1</td>\n",
              "      <td>0</td>\n",
              "    </tr>\n",
              "    <tr>\n",
              "      <th>3</th>\n",
              "      <td>26</td>\n",
              "      <td>2</td>\n",
              "      <td>0</td>\n",
              "      <td>0</td>\n",
              "      <td>848</td>\n",
              "      <td>26</td>\n",
              "      <td>4</td>\n",
              "      <td>0</td>\n",
              "      <td>1</td>\n",
              "      <td>1</td>\n",
              "      <td>0</td>\n",
              "      <td>0</td>\n",
              "    </tr>\n",
              "    <tr>\n",
              "      <th>4</th>\n",
              "      <td>34</td>\n",
              "      <td>2</td>\n",
              "      <td>0</td>\n",
              "      <td>0</td>\n",
              "      <td>734</td>\n",
              "      <td>17</td>\n",
              "      <td>1</td>\n",
              "      <td>0</td>\n",
              "      <td>1</td>\n",
              "      <td>1</td>\n",
              "      <td>0</td>\n",
              "      <td>0</td>\n",
              "    </tr>\n",
              "  </tbody>\n",
              "</table>\n",
              "</div>\n",
              "      <button class=\"colab-df-convert\" onclick=\"convertToInteractive('df-b8b40178-c0e8-43cd-ac5f-c6b4a97e6449')\"\n",
              "              title=\"Convert this dataframe to an interactive table.\"\n",
              "              style=\"display:none;\">\n",
              "        \n",
              "  <svg xmlns=\"http://www.w3.org/2000/svg\" height=\"24px\"viewBox=\"0 0 24 24\"\n",
              "       width=\"24px\">\n",
              "    <path d=\"M0 0h24v24H0V0z\" fill=\"none\"/>\n",
              "    <path d=\"M18.56 5.44l.94 2.06.94-2.06 2.06-.94-2.06-.94-.94-2.06-.94 2.06-2.06.94zm-11 1L8.5 8.5l.94-2.06 2.06-.94-2.06-.94L8.5 2.5l-.94 2.06-2.06.94zm10 10l.94 2.06.94-2.06 2.06-.94-2.06-.94-.94-2.06-.94 2.06-2.06.94z\"/><path d=\"M17.41 7.96l-1.37-1.37c-.4-.4-.92-.59-1.43-.59-.52 0-1.04.2-1.43.59L10.3 9.45l-7.72 7.72c-.78.78-.78 2.05 0 2.83L4 21.41c.39.39.9.59 1.41.59.51 0 1.02-.2 1.41-.59l7.78-7.78 2.81-2.81c.8-.78.8-2.07 0-2.86zM5.41 20L4 18.59l7.72-7.72 1.47 1.35L5.41 20z\"/>\n",
              "  </svg>\n",
              "      </button>\n",
              "      \n",
              "  <style>\n",
              "    .colab-df-container {\n",
              "      display:flex;\n",
              "      flex-wrap:wrap;\n",
              "      gap: 12px;\n",
              "    }\n",
              "\n",
              "    .colab-df-convert {\n",
              "      background-color: #E8F0FE;\n",
              "      border: none;\n",
              "      border-radius: 50%;\n",
              "      cursor: pointer;\n",
              "      display: none;\n",
              "      fill: #1967D2;\n",
              "      height: 32px;\n",
              "      padding: 0 0 0 0;\n",
              "      width: 32px;\n",
              "    }\n",
              "\n",
              "    .colab-df-convert:hover {\n",
              "      background-color: #E2EBFA;\n",
              "      box-shadow: 0px 1px 2px rgba(60, 64, 67, 0.3), 0px 1px 3px 1px rgba(60, 64, 67, 0.15);\n",
              "      fill: #174EA6;\n",
              "    }\n",
              "\n",
              "    [theme=dark] .colab-df-convert {\n",
              "      background-color: #3B4455;\n",
              "      fill: #D2E3FC;\n",
              "    }\n",
              "\n",
              "    [theme=dark] .colab-df-convert:hover {\n",
              "      background-color: #434B5C;\n",
              "      box-shadow: 0px 1px 3px 1px rgba(0, 0, 0, 0.15);\n",
              "      filter: drop-shadow(0px 1px 2px rgba(0, 0, 0, 0.3));\n",
              "      fill: #FFFFFF;\n",
              "    }\n",
              "  </style>\n",
              "\n",
              "      <script>\n",
              "        const buttonEl =\n",
              "          document.querySelector('#df-b8b40178-c0e8-43cd-ac5f-c6b4a97e6449 button.colab-df-convert');\n",
              "        buttonEl.style.display =\n",
              "          google.colab.kernel.accessAllowed ? 'block' : 'none';\n",
              "\n",
              "        async function convertToInteractive(key) {\n",
              "          const element = document.querySelector('#df-b8b40178-c0e8-43cd-ac5f-c6b4a97e6449');\n",
              "          const dataTable =\n",
              "            await google.colab.kernel.invokeFunction('convertToInteractive',\n",
              "                                                     [key], {});\n",
              "          if (!dataTable) return;\n",
              "\n",
              "          const docLinkHtml = 'Like what you see? Visit the ' +\n",
              "            '<a target=\"_blank\" href=https://colab.research.google.com/notebooks/data_table.ipynb>data table notebook</a>'\n",
              "            + ' to learn more about interactive tables.';\n",
              "          element.innerHTML = '';\n",
              "          dataTable['output_type'] = 'display_data';\n",
              "          await google.colab.output.renderOutput(dataTable, element);\n",
              "          const docLink = document.createElement('div');\n",
              "          docLink.innerHTML = docLinkHtml;\n",
              "          element.appendChild(docLink);\n",
              "        }\n",
              "      </script>\n",
              "    </div>\n",
              "  </div>\n",
              "  "
            ]
          },
          "metadata": {},
          "execution_count": 158
        }
      ]
    },
    {
      "cell_type": "code",
      "source": [
        "df.dtypes"
      ],
      "metadata": {
        "colab": {
          "base_uri": "https://localhost:8080/"
        },
        "id": "HrOBWJzQW0Mg",
        "outputId": "0894e148-fbc0-41f1-e604-c60a686946e2"
      },
      "execution_count": 159,
      "outputs": [
        {
          "output_type": "execute_result",
          "data": {
            "text/plain": [
              "Age                 int64\n",
              "Job                 int64\n",
              "Saving accounts     int64\n",
              "Checking account    int64\n",
              "Credit amount       int64\n",
              "Duration            int64\n",
              "Purpose             int64\n",
              "Sex_female          int64\n",
              "Sex_male            int64\n",
              "Housing_free        int64\n",
              "Housing_own         int64\n",
              "Housing_rent        int64\n",
              "dtype: object"
            ]
          },
          "metadata": {},
          "execution_count": 159
        }
      ]
    },
    {
      "cell_type": "code",
      "source": [
        "df.shape"
      ],
      "metadata": {
        "colab": {
          "base_uri": "https://localhost:8080/"
        },
        "id": "cNd9ynM5tAsd",
        "outputId": "b72c22f9-f7ac-40d6-8d07-cc88bb60259a"
      },
      "execution_count": 160,
      "outputs": [
        {
          "output_type": "execute_result",
          "data": {
            "text/plain": [
              "(1000, 12)"
            ]
          },
          "metadata": {},
          "execution_count": 160
        }
      ]
    },
    {
      "cell_type": "markdown",
      "source": [
        "### Визуализация данных"
      ],
      "metadata": {
        "id": "v10IMcjCcpW2"
      }
    },
    {
      "cell_type": "markdown",
      "source": [
        "#### Построим гистограммы, чтобы проанализировать распределение каждого из признаков"
      ],
      "metadata": {
        "id": "B_MZRyF1LmwR"
      }
    },
    {
      "cell_type": "code",
      "source": [
        "for feat in df.columns[:-1].tolist():\n",
        "    plt.figure(figsize=(8, 5)) \n",
        "    plt.hist(df[feat], color=np.random.rand(3,), label=f'Гистограмма переменной {feat}, степень скошенности = %.3f'%(df[feat].skew()), bins=30) \n",
        "    plt.title(f'Гистограмма по переменной {feat} с \"нормализованными\" данными')\n",
        "    plt.legend(loc='best')\n",
        "    plt.show()"
      ],
      "metadata": {
        "colab": {
          "base_uri": "https://localhost:8080/",
          "height": 1000
        },
        "id": "4gv-m-gaBDDG",
        "outputId": "55b6c95e-6b6c-4475-d9f0-df33c85c1bfd"
      },
      "execution_count": 161,
      "outputs": [
        {
          "output_type": "display_data",
          "data": {
            "text/plain": [
              "<Figure size 576x360 with 1 Axes>"
            ],
            "image/png": "[encoded data removed]"
          },
          "metadata": {
            "needs_background": "light"
          }
        },
        {
          "output_type": "display_data",
          "data": {
            "text/plain": [
              "<Figure size 576x360 with 1 Axes>"
            ],
            "image/png": "[encoded data removed]"
          },
          "metadata": {
            "needs_background": "light"
          }
        },
        {
          "output_type": "display_data",
          "data": {
            "text/plain": [
              "<Figure size 576x360 with 1 Axes>"
            ],
            "image/png": "[encoded data removed]"
          },
          "metadata": {
            "needs_background": "light"
          }
        },
        {
          "output_type": "display_data",
          "data": {
            "text/plain": [
              "<Figure size 576x360 with 1 Axes>"
            ],
            "image/png": "[encoded data removed]"
          },
          "metadata": {
            "needs_background": "light"
          }
        },
        {
          "output_type": "display_data",
          "data": {
            "text/plain": [
              "<Figure size 576x360 with 1 Axes>"
            ],
            "image/png": "[encoded data removed]"
          },
          "metadata": {
            "needs_background": "light"
          }
        },
        {
          "output_type": "display_data",
          "data": {
            "text/plain": [
              "<Figure size 576x360 with 1 Axes>"
            ],
            "image/png": "[encoded data removed]"
          },
          "metadata": {
            "needs_background": "light"
          }
        },
        {
          "output_type": "display_data",
          "data": {
            "text/plain": [
              "<Figure size 576x360 with 1 Axes>"
            ],
            "image/png": "[encoded data removed]"
          },
          "metadata": {
            "needs_background": "light"
          }
        },
        {
          "output_type": "display_data",
          "data": {
            "text/plain": [
              "<Figure size 576x360 with 1 Axes>"
            ],
            "image/png": "[encoded data removed]"
          },
          "metadata": {
            "needs_background": "light"
          }
        },
        {
          "output_type": "display_data",
          "data": {
            "text/plain": [
              "<Figure size 576x360 with 1 Axes>"
            ],
            "image/png": "[encoded data removed]"
          },
          "metadata": {
            "needs_background": "light"
          }
        },
        {
          "output_type": "display_data",
          "data": {
            "text/plain": [
              "<Figure size 576x360 with 1 Axes>"
            ],
            "image/png": "[encoded data removed]"
          },
          "metadata": {
            "needs_background": "light"
          }
        },
        {
          "output_type": "display_data",
          "data": {
            "text/plain": [
              "<Figure size 576x360 with 1 Axes>"
            ],
            "image/png": "[encoded data removed]"
          },
          "metadata": {
            "needs_background": "light"
          }
        }
      ]
    },
    {
      "cell_type": "markdown",
      "source": [
        "Ни одна из характеристик не имеет нормального распределения. Характеристики Fe, Ba, Ca и K имеют самые высокие коэффициенты перекоса. Более того, распределение калия (K) и бария (Ba), похоже, содержит много выбросов."
      ],
      "metadata": {
        "id": "wmMJ4i7GLi1x"
      }
    },
    {
      "cell_type": "markdown",
      "source": [
        "#### Построим ящики с усами, чтобы проанализировать датасет на наличие выбросов"
      ],
      "metadata": {
        "id": "ikP7xiGnLlNl"
      }
    },
    {
      "cell_type": "code",
      "source": [
        "fig, ax = plt.subplots(1, 1, figsize=(16,10))\n",
        "df.plot(kind='box', ax=ax)"
      ],
      "metadata": {
        "colab": {
          "base_uri": "https://localhost:8080/",
          "height": 609
        },
        "id": "DmYPvQnkfzKE",
        "outputId": "72148655-eb88-4d0a-ba67-c421bd33b68e"
      },
      "execution_count": 162,
      "outputs": [
        {
          "output_type": "execute_result",
          "data": {
            "text/plain": [
              "<matplotlib.axes._subplots.AxesSubplot at 0x7fa2c19fc070>"
            ]
          },
          "metadata": {},
          "execution_count": 162
        },
        {
          "output_type": "display_data",
          "data": {
            "text/plain": [
              "<Figure size 1152x720 with 1 Axes>"
            ],
            "image/png": "[encoded data removed]"
          },
          "metadata": {
            "needs_background": "light"
          }
        }
      ]
    },
    {
      "cell_type": "markdown",
      "source": [
        "#### Посмотрим, как признаки коррелируют между собой "
      ],
      "metadata": {
        "id": "0xR7NhmlMGWw"
      }
    },
    {
      "cell_type": "code",
      "source": [
        "plt.figure(figsize=(12, 10))\n",
        "sns.heatmap(df.corr(), annot=True, annot_kws={'size': 12}, vmin=-1, vmax=1, center=0)"
      ],
      "metadata": {
        "colab": {
          "base_uri": "https://localhost:8080/",
          "height": 692
        },
        "id": "E5AEV7wnQ7au",
        "outputId": "6b8e1f82-7a09-4041-ef43-4d60e8656508"
      },
      "execution_count": 163,
      "outputs": [
        {
          "output_type": "execute_result",
          "data": {
            "text/plain": [
              "<matplotlib.axes._subplots.AxesSubplot at 0x7fa2c1d66d60>"
            ]
          },
          "metadata": {},
          "execution_count": 163
        },
        {
          "output_type": "display_data",
          "data": {
            "text/plain": [
              "<Figure size 864x720 with 2 Axes>"
            ],
            "image/png": "[encoded data removed]"
          },
          "metadata": {
            "needs_background": "light"
          }
        }
      ]
    },
    {
      "cell_type": "markdown",
      "source": [
        "### Очищаем датасет от выбросов "
      ],
      "metadata": {
        "id": "7F4CR3TJLzBd"
      }
    },
    {
      "cell_type": "code",
      "source": [
        "def outliers(df):\n",
        "  \n",
        "  outlier_idx = []\n",
        "\n",
        "  for col in df.columns.tolist():\n",
        "    # считаем нижнюю и верхнюю границу через 1 и 3 квартили \n",
        "    q25 = df[col].quantile(q=.25)\n",
        "    q75 = df[col].quantile(q=.75)\n",
        "    iqr = q75-q25\n",
        "\n",
        "    max_border = q75 + (1.5*iqr)\n",
        "    min_border = q25 - (1.5*iqr)\n",
        "        \n",
        "    # определем индекс строки, содержащей выбросы\n",
        "    outlier_list_col = df[(df[col] < min_border) | (df[col] > max_border)].index\n",
        "    \n",
        "    # заполняем найденными индеками массив со всеми индексами\n",
        "    outlier_idx.extend(outlier_list_col)\n",
        "    \n",
        "  # выбираем индексы строк, содержащих больше чем два выброса\n",
        "  outlier_idx = Counter(outlier_idx)        \n",
        "  multiple_outliers = list( k for k, v in outlier_idx.items() if v > 2 )\n",
        "  \n",
        "  return multiple_outliers   \n",
        "\n",
        "print(f'Этот датасет содержит {len(outliers(df[df.columns[:-1].tolist()]))} точек данных с более чем 2 выбросами')   "
      ],
      "metadata": {
        "colab": {
          "base_uri": "https://localhost:8080/"
        },
        "id": "ObCU0mQq-0GK",
        "outputId": "d4746b9c-fe09-4108-d6c5-1e64883d1771"
      },
      "execution_count": 164,
      "outputs": [
        {
          "output_type": "stream",
          "name": "stdout",
          "text": [
            "Этот датасет содержит 9 точек данных с более чем 2 выбросами\n"
          ]
        }
      ]
    },
    {
      "cell_type": "markdown",
      "source": [
        "Очищаем лишние строки, "
      ],
      "metadata": {
        "id": "FsJLsudiDtGz"
      }
    },
    {
      "cell_type": "code",
      "source": [
        "df = df.drop(outliers(df[df.columns[:-1].tolist()])).reset_index(drop=True)\n",
        "df.shape"
      ],
      "metadata": {
        "colab": {
          "base_uri": "https://localhost:8080/"
        },
        "id": "svR1Nzr-C3MU",
        "outputId": "88b3ccd9-2e48-4886-8a99-17a3cecc7e41"
      },
      "execution_count": 165,
      "outputs": [
        {
          "output_type": "execute_result",
          "data": {
            "text/plain": [
              "(991, 12)"
            ]
          },
          "metadata": {},
          "execution_count": 165
        }
      ]
    },
    {
      "cell_type": "markdown",
      "source": [
        "### Выделяем целевую переменную и остальные признаки"
      ],
      "metadata": {
        "id": "TzZemTR6XXCU"
      }
    },
    {
      "cell_type": "code",
      "source": [
        "y = df['Job']\n",
        "x = df.drop(['Job'], axis=1)"
      ],
      "metadata": {
        "id": "iSPZ2QFLXoRe"
      },
      "execution_count": 166,
      "outputs": []
    },
    {
      "cell_type": "markdown",
      "source": [
        "### Разделяем выбору в соотношении 80/20 процентов, `shuffle=False` для исключения перемешивания данных"
      ],
      "metadata": {
        "id": "_R_pPNB2Xsb1"
      }
    },
    {
      "cell_type": "code",
      "source": [
        "x_train, x_test, y_train, y_test = train_test_split(x, y, test_size=0.2, random_state=True)"
      ],
      "metadata": {
        "id": "l4oJ2Oe6Xr8E"
      },
      "execution_count": 167,
      "outputs": []
    },
    {
      "cell_type": "code",
      "source": [
        "print(f'Количество точек исходных данных: {y.shape[0]}')\n",
        "print(f'Количество точек тренировочных данных: {y_train.shape[0]}')\n",
        "print(f'Количество точек тестовых данных: {y_test.shape[0]}')"
      ],
      "metadata": {
        "colab": {
          "base_uri": "https://localhost:8080/"
        },
        "id": "jD5XQwmiX-0_",
        "outputId": "91585b07-9097-43ab-cffa-fc85ead734c2"
      },
      "execution_count": 168,
      "outputs": [
        {
          "output_type": "stream",
          "name": "stdout",
          "text": [
            "Количество точек исходных данных: 991\n",
            "Количество точек тренировочных данных: 792\n",
            "Количество точек тестовых данных: 199\n"
          ]
        }
      ]
    },
    {
      "cell_type": "markdown",
      "source": [
        "### Нормализуем наши данные "
      ],
      "metadata": {
        "id": "J-LIr8cFRIN4"
      }
    },
    {
      "cell_type": "markdown",
      "source": [
        "Я использую для этого МинМаксСкалер, можно еще использовать СтандартСкалер"
      ],
      "metadata": {
        "id": "perpTmyxT5Vt"
      }
    },
    {
      "cell_type": "code",
      "source": [
        "x_train = MinMaxScaler().fit_transform(x_train)\n",
        "x_test = MinMaxScaler().fit_transform(x_test)"
      ],
      "metadata": {
        "id": "sKxoQZ3cRLNn"
      },
      "execution_count": 169,
      "outputs": []
    },
    {
      "cell_type": "markdown",
      "source": [
        "### Задача классификации"
      ],
      "metadata": {
        "id": "r5befQ1fYReO"
      }
    },
    {
      "cell_type": "markdown",
      "source": [
        "Так как этих методов дохуя, сделаем классификацию с использованием основных пяти: \n",
        "- логистическая регрессия \n",
        "- метод опорных векторов (линейное ядрос)\n",
        "- метод опорных векторов (гауссовое ядро)\n",
        "- метод k ближайших соседей \n",
        "- метод деревая решений "
      ],
      "metadata": {
        "id": "hCHUwr4hTTr3"
      }
    },
    {
      "cell_type": "markdown",
      "source": [
        "#### Логистическая регрессия"
      ],
      "metadata": {
        "id": "n0uUcoSFTkNI"
      }
    },
    {
      "cell_type": "code",
      "source": [
        "from sklearn.linear_model import LogisticRegression"
      ],
      "metadata": {
        "id": "MOWIPzSSUAqt"
      },
      "execution_count": 170,
      "outputs": []
    },
    {
      "cell_type": "code",
      "source": [
        "cls = LogisticRegression(solver='lbfgs', max_iter=1000).fit(x_train, y_train)\n",
        "y_pred_cls = cls.predict(x_test)\n",
        "\n",
        "matrix_cls = metrics.confusion_matrix(y_test, y_pred_cls)\n",
        "print(matrix_cls)"
      ],
      "metadata": {
        "colab": {
          "base_uri": "https://localhost:8080/"
        },
        "id": "66pwfwuxYU_F",
        "outputId": "8ce26384-292d-40b6-f1a5-d5dcfd3e7745"
      },
      "execution_count": 171,
      "outputs": [
        {
          "output_type": "stream",
          "name": "stdout",
          "text": [
            "[[  0   1   3   0]\n",
            " [  0   0  42   0]\n",
            " [  0   1 122   1]\n",
            " [  0   1  28   0]]\n"
          ]
        }
      ]
    },
    {
      "cell_type": "code",
      "source": [
        "print(f'Метрика достоверности (logistic): {metrics.accuracy_score(y_test, y_pred_cls)}')\n",
        "print(f'Метрика точности (logistic): {metrics.precision_score(y_test, y_pred_cls, average = \"macro\", zero_division=1)}')\n",
        "print(f'Метрика полноты (logistic): {metrics.recall_score(y_test, y_pred_cls, average = \"macro\")}')"
      ],
      "metadata": {
        "colab": {
          "base_uri": "https://localhost:8080/"
        },
        "id": "RP4IW6Z3TsrD",
        "outputId": "3ca61377-e985-4765-f1df-521e63630e23"
      },
      "execution_count": 172,
      "outputs": [
        {
          "output_type": "stream",
          "name": "stdout",
          "text": [
            "Метрика достоверности (logistic): 0.6130653266331658\n",
            "Метрика точности (logistic): 0.4064102564102564\n",
            "Метрика полноты (logistic): 0.24596774193548387\n"
          ]
        }
      ]
    },
    {
      "cell_type": "markdown",
      "source": [
        "#### Метод опорных векторов с линейным ядром "
      ],
      "metadata": {
        "id": "0G3OLlpZUG-p"
      }
    },
    {
      "cell_type": "code",
      "source": [
        "from sklearn import svm"
      ],
      "metadata": {
        "id": "xgtOW5cFUWnZ"
      },
      "execution_count": 173,
      "outputs": []
    },
    {
      "cell_type": "code",
      "source": [
        "svc = svm.SVC(kernel='linear', probability=True).fit(x_train, y_train)\n",
        "y_pred_svc = svc.predict(x_test)\n",
        "\n",
        "matrix_svc = metrics.confusion_matrix(y_test, y_pred_svc)\n",
        "print(matrix_svc)"
      ],
      "metadata": {
        "colab": {
          "base_uri": "https://localhost:8080/"
        },
        "id": "xrhASWTGUXXk",
        "outputId": "bb4b29a7-2920-447f-8173-8455fd98b62d"
      },
      "execution_count": 174,
      "outputs": [
        {
          "output_type": "stream",
          "name": "stdout",
          "text": [
            "[[  0   0   4   0]\n",
            " [  0   0  42   0]\n",
            " [  0   0 124   0]\n",
            " [  0   0  29   0]]\n"
          ]
        }
      ]
    },
    {
      "cell_type": "code",
      "source": [
        "print(f'Метрика достоверности (svc linear): {metrics.accuracy_score(y_test, y_pred_svc)}')\n",
        "print(f'Метрика точности (svc linear): {metrics.precision_score(y_test, y_pred_svc, average = \"macro\", zero_division=1)}')\n",
        "print(f'Метрика полноты (svc linear): {metrics.recall_score(y_test, y_pred_svc, average = \"macro\")}')"
      ],
      "metadata": {
        "colab": {
          "base_uri": "https://localhost:8080/"
        },
        "id": "wR77sIEcUZDT",
        "outputId": "ea803b4f-aae8-40ff-ed58-6ae289f67352"
      },
      "execution_count": 175,
      "outputs": [
        {
          "output_type": "stream",
          "name": "stdout",
          "text": [
            "Метрика достоверности (svc linear): 0.6231155778894473\n",
            "Метрика точности (svc linear): 0.9057788944723618\n",
            "Метрика полноты (svc linear): 0.25\n"
          ]
        }
      ]
    },
    {
      "cell_type": "markdown",
      "source": [
        "#### Метод опорных векторов с гауссовым ядром "
      ],
      "metadata": {
        "id": "wtA4zWjJUlSx"
      }
    },
    {
      "cell_type": "code",
      "source": [
        "svc_g = svm.SVC(kernel='rbf', probability=True).fit(x_train, y_train)\n",
        "y_pred_svc_g = svc_g.predict(x_test)\n",
        "\n",
        "matrix_svc_g = metrics.confusion_matrix(y_test, y_pred_svc_g)\n",
        "print(matrix_svc_g)"
      ],
      "metadata": {
        "colab": {
          "base_uri": "https://localhost:8080/"
        },
        "id": "EDKnKKAHUa9V",
        "outputId": "0437d2fa-5a81-4f74-a79d-69617d1f3880"
      },
      "execution_count": 176,
      "outputs": [
        {
          "output_type": "stream",
          "name": "stdout",
          "text": [
            "[[  0   0   4   0]\n",
            " [  0   0  42   0]\n",
            " [  0   0 124   0]\n",
            " [  0   0  29   0]]\n"
          ]
        }
      ]
    },
    {
      "cell_type": "code",
      "source": [
        "print(f'Метрика достоверности (svc rbf): {metrics.accuracy_score(y_test, y_pred_svc_g)}')\n",
        "print(f'Метрика точности (svc rbf): {metrics.precision_score(y_test, y_pred_svc_g, average = \"macro\", zero_division=1)}')\n",
        "print(f'Метрика полноты (svc rbf): {metrics.recall_score(y_test, y_pred_svc_g, average = \"macro\")}')"
      ],
      "metadata": {
        "colab": {
          "base_uri": "https://localhost:8080/"
        },
        "id": "YHKR9IpoUpTW",
        "outputId": "78ee602f-54da-4d18-a845-06b45c39cd28"
      },
      "execution_count": 177,
      "outputs": [
        {
          "output_type": "stream",
          "name": "stdout",
          "text": [
            "Метрика достоверности (svc rbf): 0.6231155778894473\n",
            "Метрика точности (svc rbf): 0.9057788944723618\n",
            "Метрика полноты (svc rbf): 0.25\n"
          ]
        }
      ]
    },
    {
      "cell_type": "markdown",
      "source": [
        "#### Метод k ближайших соседей"
      ],
      "metadata": {
        "id": "qgCfmg6zUwhd"
      }
    },
    {
      "cell_type": "code",
      "source": [
        "from sklearn.neighbors import KNeighborsClassifier"
      ],
      "metadata": {
        "id": "j6W4KhKAUrqD"
      },
      "execution_count": 178,
      "outputs": []
    },
    {
      "cell_type": "code",
      "source": [
        "# количество соседей n_neighbors = 10 подбирала вручную, проверку делала на метрике точности\n",
        "kn = KNeighborsClassifier(n_neighbors=10).fit(x_train, y_train)\n",
        "y_pred_kn = kn.predict(x_test)\n",
        "\n",
        "matrix_kn = metrics.confusion_matrix(y_test, y_pred_kn)\n",
        "print(matrix_kn)"
      ],
      "metadata": {
        "colab": {
          "base_uri": "https://localhost:8080/"
        },
        "id": "zRN03rJhU0rd",
        "outputId": "2d79ce25-689a-4cc4-fac2-46ed035cf1a9"
      },
      "execution_count": 179,
      "outputs": [
        {
          "output_type": "stream",
          "name": "stdout",
          "text": [
            "[[  0   2   2   0]\n",
            " [  0   5  37   0]\n",
            " [  0   8 110   6]\n",
            " [  0   1  26   2]]\n"
          ]
        }
      ]
    },
    {
      "cell_type": "code",
      "source": [
        "print(f'Метрика достоверности (KN): {metrics.accuracy_score(y_test, y_pred_kn)}')\n",
        "print(f'Метрика точности (KN): {metrics.precision_score(y_test, y_pred_kn, average = \"macro\", zero_division=1)}')\n",
        "print(f'Метрика полноты (KN): {metrics.recall_score(y_test, y_pred_kn, average = \"macro\")}')"
      ],
      "metadata": {
        "colab": {
          "base_uri": "https://localhost:8080/"
        },
        "id": "LdkOomHZU4Ip",
        "outputId": "6d6c2197-6110-4994-909c-263f63b5e11d"
      },
      "execution_count": 180,
      "outputs": [
        {
          "output_type": "stream",
          "name": "stdout",
          "text": [
            "Метрика достоверности (KN): 0.5879396984924623\n",
            "Метрика точности (KN): 0.5477678571428571\n",
            "Метрика полноты (KN): 0.26877747762063664\n"
          ]
        }
      ]
    },
    {
      "cell_type": "markdown",
      "source": [
        "### Метод дерева решений "
      ],
      "metadata": {
        "id": "-2dcWyNjVUpo"
      }
    },
    {
      "cell_type": "code",
      "source": [
        "from sklearn.tree import DecisionTreeClassifier"
      ],
      "metadata": {
        "id": "p0KUdj1aWO5F"
      },
      "execution_count": 181,
      "outputs": []
    },
    {
      "cell_type": "code",
      "source": [
        "dt = DecisionTreeClassifier().fit(x_train, y_train)\n",
        "y_pred_dt = dt.predict(x_test)\n",
        "\n",
        "matrix_dt = metrics.confusion_matrix(y_test, y_pred_dt)\n",
        "print(matrix_dt)"
      ],
      "metadata": {
        "colab": {
          "base_uri": "https://localhost:8080/"
        },
        "id": "LxBWnQtvVXFY",
        "outputId": "3a3b50c9-fea2-4b19-aa41-2cce281903ed"
      },
      "execution_count": 182,
      "outputs": [
        {
          "output_type": "stream",
          "name": "stdout",
          "text": [
            "[[ 1  2  0  1]\n",
            " [ 2  7 32  1]\n",
            " [ 2 24 85 13]\n",
            " [ 2  5 11 11]]\n"
          ]
        }
      ]
    },
    {
      "cell_type": "code",
      "source": [
        "print(f'Метрика достоверности (dec tree): {metrics.accuracy_score(y_test, y_pred_dt)}') \n",
        "print(f'Метрика точности (dec tree): {metrics.precision_score(y_test, y_pred_dt, average = \"macro\")}')\n",
        "print(f'Метрика полноты (dec tree): {metrics.recall_score(y_test, y_pred_dt, average = \"macro\")}')"
      ],
      "metadata": {
        "colab": {
          "base_uri": "https://localhost:8080/"
        },
        "id": "d-oiWvcYWYHZ",
        "outputId": "acd0fe27-f7f3-4bd3-cba1-1917d03a6f73"
      },
      "execution_count": 183,
      "outputs": [
        {
          "output_type": "stream",
          "name": "stdout",
          "text": [
            "Метрика достоверности (dec tree): 0.5226130653266332\n",
            "Метрика точности (dec tree): 0.3535517730624638\n",
            "Метрика полноты (dec tree): 0.3703652206154987\n"
          ]
        }
      ]
    },
    {
      "cell_type": "markdown",
      "source": [
        "### Оценка эффективности обучения моделей (метрики)"
      ],
      "metadata": {
        "id": "2LpsbS9zVGLV"
      }
    },
    {
      "cell_type": "code",
      "source": [
        "class_names = [0, 1]\n",
        "\n",
        "fig, (ax1, ax2, ax3, ax4, ax5) = plt.subplots(ncols=5, figsize=(17, 3), sharey=True) \n",
        "\n",
        "ticks = np.arange(len(class_names))\n",
        "plt.xticks(ticks, class_names)\n",
        "plt.yticks(ticks, class_names)\n",
        "\n",
        "sns.heatmap(data=pd.DataFrame(metrics.confusion_matrix(y_test, y_pred_cls)), \n",
        "            ax=ax1, annot=True, cbar=False, cmap='Blues', fmt='.4g')\n",
        "sns.heatmap(data=pd.DataFrame(metrics.confusion_matrix(y_test, y_pred_svc)), \n",
        "            ax=ax2, annot=True, cbar=False, cmap='Greens', fmt='.4g')\n",
        "sns.heatmap(data=pd.DataFrame(metrics.confusion_matrix(y_test, y_pred_svc_g)), \n",
        "            ax=ax3, annot=True, cbar=False, cmap='Greys', fmt='.4g')\n",
        "sns.heatmap(data=pd.DataFrame(metrics.confusion_matrix(y_test, y_pred_kn)), \n",
        "            ax=ax4, annot=True, cbar=False, cmap='Purples', fmt='.4g')\n",
        "sns.heatmap(data=pd.DataFrame(metrics.confusion_matrix(y_test, y_pred_dt)), \n",
        "            ax=ax5, annot=True, cbar=False, cmap='Oranges', fmt='.4g')\n",
        "\n",
        "ax1.set_title('LogisticRegression')\n",
        "ax2.set_title('SVC (linear)')\n",
        "ax3.set_title('SVC (rbf)')\n",
        "ax4.set_title('KNeighborsClassifier')\n",
        "ax5.set_title('DecisionTree')\n",
        "\n",
        "for ax in [ax1, ax2, ax3, ax4, ax5]:\n",
        "    ax.set(xlabel='Предсказанные значения', ylabel='Действительные значения')\n",
        "    ax.label_outer()\n",
        "\n",
        "fig.subplots_adjust(wspace=0.08)\n",
        "\n",
        "plt.suptitle('Матрицы классификаций', y = 1.05)\n",
        "plt.show()"
      ],
      "metadata": {
        "colab": {
          "base_uri": "https://localhost:8080/",
          "height": 262
        },
        "id": "JI-wBR8PuBhW",
        "outputId": "f67fae39-2975-4a2b-d043-266dec707710"
      },
      "execution_count": 184,
      "outputs": [
        {
          "output_type": "display_data",
          "data": {
            "text/plain": [
              "<Figure size 1224x216 with 5 Axes>"
            ],
            "image/png": "[encoded data removed]"
          },
          "metadata": {
            "needs_background": "light"
          }
        }
      ]
    },
    {
      "cell_type": "code",
      "source": [
        "clas = {'LogisticRegression': y_pred_cls, 'SVC linear': y_pred_svc, \n",
        "        'SVC rbf': y_pred_svc_g, 'KNeighbors': y_pred_kn, 'DecisionTree': y_pred_dt}\n",
        "\n",
        "for n, y_pred in clas.items():\n",
        "  print(f'Достоверность ({n}): {metrics.accuracy_score(y_test, y_pred)}')\n",
        "  print(f'Точность ({n}): {metrics.precision_score(y_test, y_pred, average = \"macro\", zero_division=1)}')\n",
        "  print(f'Полнота ({n}): {metrics.recall_score(y_test, y_pred, average = \"macro\")}\\n')"
      ],
      "metadata": {
        "colab": {
          "base_uri": "https://localhost:8080/"
        },
        "id": "9FNV-z9IU6Xa",
        "outputId": "92de2345-4c1a-47cd-c3d7-79da97145a95"
      },
      "execution_count": 185,
      "outputs": [
        {
          "output_type": "stream",
          "name": "stdout",
          "text": [
            "Достоверность (LogisticRegression): 0.6130653266331658\n",
            "Точность (LogisticRegression): 0.4064102564102564\n",
            "Полнота (LogisticRegression): 0.24596774193548387\n",
            "\n",
            "Достоверность (SVC linear): 0.6231155778894473\n",
            "Точность (SVC linear): 0.9057788944723618\n",
            "Полнота (SVC linear): 0.25\n",
            "\n",
            "Достоверность (SVC rbf): 0.6231155778894473\n",
            "Точность (SVC rbf): 0.9057788944723618\n",
            "Полнота (SVC rbf): 0.25\n",
            "\n",
            "Достоверность (KNeighbors): 0.5879396984924623\n",
            "Точность (KNeighbors): 0.5477678571428571\n",
            "Полнота (KNeighbors): 0.26877747762063664\n",
            "\n",
            "Достоверность (DecisionTree): 0.5226130653266332\n",
            "Точность (DecisionTree): 0.3535517730624638\n",
            "Полнота (DecisionTree): 0.3703652206154987\n",
            "\n"
          ]
        }
      ]
    },
    {
      "cell_type": "markdown",
      "source": [
        "**На основе метрик мы видим, что наиболее хорошо показала себя модель метода опорных векторов** "
      ],
      "metadata": {
        "id": "PeFIAdFAWsC7"
      }
    },
    {
      "cell_type": "markdown",
      "source": [
        "### Выводы об обученности моделей "
      ],
      "metadata": {
        "id": "OWJ_0_36Z8Zg"
      }
    },
    {
      "cell_type": "markdown",
      "source": [
        "### Вывод о недообученности/переобученности модели"
      ],
      "metadata": {
        "id": "B056CDz5NE6e"
      }
    },
    {
      "cell_type": "code",
      "source": [
        "acc_cls = metrics.accuracy_score(y_test, y_pred_cls)\n",
        "acc_svc = metrics.accuracy_score(y_test, y_pred_svc)\n",
        "acc_svc_g = metrics.accuracy_score(y_test, y_pred_svc_g)\n",
        "acc_kn = metrics.accuracy_score(y_test, y_pred_kn)\n",
        "acc_dt = metrics.accuracy_score(y_test, y_pred_dt)\n",
        "\n",
        "acc_train_cls = metrics.accuracy_score(y_train, cls.predict(x_train))\n",
        "acc_train_svc = metrics.accuracy_score(y_train, svc.predict(x_train))\n",
        "acc_train_svc_g = metrics.accuracy_score(y_train, svc_g.predict(x_train))\n",
        "acc_train_kn = metrics.accuracy_score(y_train, kn.predict(x_train))\n",
        "acc_train_dt = metrics.accuracy_score(y_train, dt.predict(x_train))"
      ],
      "metadata": {
        "id": "ifdnMSWvN31G"
      },
      "execution_count": 186,
      "outputs": []
    },
    {
      "cell_type": "code",
      "source": [
        "trained = pd.DataFrame(columns = ['test data', 'train data'])\n",
        "\n",
        "logistic = [acc_cls, acc_train_cls]\n",
        "svm = [acc_svc, acc_train_svc]\n",
        "svm_g = [acc_svc, acc_train_svc]\n",
        "kneighbors = [acc_kn, acc_train_kn]\n",
        "dtree = [acc_dt, acc_train_dt]\n",
        "\n",
        "trained.loc[0] = logistic\n",
        "trained.loc[1] = svm\n",
        "trained.loc[2] = svm_g\n",
        "trained.loc[3] = kneighbors\n",
        "trained.loc[4] = dtree\n",
        "\n",
        "trained['result'] = trained.apply(lambda x: 'обучена адекватно' if (abs(x['test data'] - x['train data']) <= 0.015) else \n",
        "                                  ('недообучена' if (x['test data'] > x['train data']) else 'переобучена'), axis=1)\n",
        "trained.set_axis(['LogisticRegression', 'SVC linear', 'SVC rbf', 'KNeighbors', 'DecisionTree'], axis='index', inplace=True)\n",
        "\n",
        "trained"
      ],
      "metadata": {
        "colab": {
          "base_uri": "https://localhost:8080/",
          "height": 206
        },
        "id": "16uGf9EOEG5g",
        "outputId": "e3dd0c63-f819-4880-c7d0-9470cec23261"
      },
      "execution_count": 187,
      "outputs": [
        {
          "output_type": "execute_result",
          "data": {
            "text/plain": [
              "                    test data  train data       result\n",
              "LogisticRegression   0.613065    0.640152  переобучена\n",
              "SVC linear           0.623116    0.638889  переобучена\n",
              "SVC rbf              0.623116    0.638889  переобучена\n",
              "KNeighbors           0.587940    0.651515  переобучена\n",
              "DecisionTree         0.522613    1.000000  переобучена"
            ],
            "text/html": [
              "\n",
              "  <div id=\"df-2daed501-c88e-423c-b5dc-78111a06cdb8\">\n",
              "    <div class=\"colab-df-container\">\n",
              "      <div>\n",
              "<style scoped>\n",
              "    .dataframe tbody tr th:only-of-type {\n",
              "        vertical-align: middle;\n",
              "    }\n",
              "\n",
              "    .dataframe tbody tr th {\n",
              "        vertical-align: top;\n",
              "    }\n",
              "\n",
              "    .dataframe thead th {\n",
              "        text-align: right;\n",
              "    }\n",
              "</style>\n",
              "<table border=\"1\" class=\"dataframe\">\n",
              "  <thead>\n",
              "    <tr style=\"text-align: right;\">\n",
              "      <th></th>\n",
              "      <th>test data</th>\n",
              "      <th>train data</th>\n",
              "      <th>result</th>\n",
              "    </tr>\n",
              "  </thead>\n",
              "  <tbody>\n",
              "    <tr>\n",
              "      <th>LogisticRegression</th>\n",
              "      <td>0.613065</td>\n",
              "      <td>0.640152</td>\n",
              "      <td>переобучена</td>\n",
              "    </tr>\n",
              "    <tr>\n",
              "      <th>SVC linear</th>\n",
              "      <td>0.623116</td>\n",
              "      <td>0.638889</td>\n",
              "      <td>переобучена</td>\n",
              "    </tr>\n",
              "    <tr>\n",
              "      <th>SVC rbf</th>\n",
              "      <td>0.623116</td>\n",
              "      <td>0.638889</td>\n",
              "      <td>переобучена</td>\n",
              "    </tr>\n",
              "    <tr>\n",
              "      <th>KNeighbors</th>\n",
              "      <td>0.587940</td>\n",
              "      <td>0.651515</td>\n",
              "      <td>переобучена</td>\n",
              "    </tr>\n",
              "    <tr>\n",
              "      <th>DecisionTree</th>\n",
              "      <td>0.522613</td>\n",
              "      <td>1.000000</td>\n",
              "      <td>переобучена</td>\n",
              "    </tr>\n",
              "  </tbody>\n",
              "</table>\n",
              "</div>\n",
              "      <button class=\"colab-df-convert\" onclick=\"convertToInteractive('df-2daed501-c88e-423c-b5dc-78111a06cdb8')\"\n",
              "              title=\"Convert this dataframe to an interactive table.\"\n",
              "              style=\"display:none;\">\n",
              "        \n",
              "  <svg xmlns=\"http://www.w3.org/2000/svg\" height=\"24px\"viewBox=\"0 0 24 24\"\n",
              "       width=\"24px\">\n",
              "    <path d=\"M0 0h24v24H0V0z\" fill=\"none\"/>\n",
              "    <path d=\"M18.56 5.44l.94 2.06.94-2.06 2.06-.94-2.06-.94-.94-2.06-.94 2.06-2.06.94zm-11 1L8.5 8.5l.94-2.06 2.06-.94-2.06-.94L8.5 2.5l-.94 2.06-2.06.94zm10 10l.94 2.06.94-2.06 2.06-.94-2.06-.94-.94-2.06-.94 2.06-2.06.94z\"/><path d=\"M17.41 7.96l-1.37-1.37c-.4-.4-.92-.59-1.43-.59-.52 0-1.04.2-1.43.59L10.3 9.45l-7.72 7.72c-.78.78-.78 2.05 0 2.83L4 21.41c.39.39.9.59 1.41.59.51 0 1.02-.2 1.41-.59l7.78-7.78 2.81-2.81c.8-.78.8-2.07 0-2.86zM5.41 20L4 18.59l7.72-7.72 1.47 1.35L5.41 20z\"/>\n",
              "  </svg>\n",
              "      </button>\n",
              "      \n",
              "  <style>\n",
              "    .colab-df-container {\n",
              "      display:flex;\n",
              "      flex-wrap:wrap;\n",
              "      gap: 12px;\n",
              "    }\n",
              "\n",
              "    .colab-df-convert {\n",
              "      background-color: #E8F0FE;\n",
              "      border: none;\n",
              "      border-radius: 50%;\n",
              "      cursor: pointer;\n",
              "      display: none;\n",
              "      fill: #1967D2;\n",
              "      height: 32px;\n",
              "      padding: 0 0 0 0;\n",
              "      width: 32px;\n",
              "    }\n",
              "\n",
              "    .colab-df-convert:hover {\n",
              "      background-color: #E2EBFA;\n",
              "      box-shadow: 0px 1px 2px rgba(60, 64, 67, 0.3), 0px 1px 3px 1px rgba(60, 64, 67, 0.15);\n",
              "      fill: #174EA6;\n",
              "    }\n",
              "\n",
              "    [theme=dark] .colab-df-convert {\n",
              "      background-color: #3B4455;\n",
              "      fill: #D2E3FC;\n",
              "    }\n",
              "\n",
              "    [theme=dark] .colab-df-convert:hover {\n",
              "      background-color: #434B5C;\n",
              "      box-shadow: 0px 1px 3px 1px rgba(0, 0, 0, 0.15);\n",
              "      filter: drop-shadow(0px 1px 2px rgba(0, 0, 0, 0.3));\n",
              "      fill: #FFFFFF;\n",
              "    }\n",
              "  </style>\n",
              "\n",
              "      <script>\n",
              "        const buttonEl =\n",
              "          document.querySelector('#df-2daed501-c88e-423c-b5dc-78111a06cdb8 button.colab-df-convert');\n",
              "        buttonEl.style.display =\n",
              "          google.colab.kernel.accessAllowed ? 'block' : 'none';\n",
              "\n",
              "        async function convertToInteractive(key) {\n",
              "          const element = document.querySelector('#df-2daed501-c88e-423c-b5dc-78111a06cdb8');\n",
              "          const dataTable =\n",
              "            await google.colab.kernel.invokeFunction('convertToInteractive',\n",
              "                                                     [key], {});\n",
              "          if (!dataTable) return;\n",
              "\n",
              "          const docLinkHtml = 'Like what you see? Visit the ' +\n",
              "            '<a target=\"_blank\" href=https://colab.research.google.com/notebooks/data_table.ipynb>data table notebook</a>'\n",
              "            + ' to learn more about interactive tables.';\n",
              "          element.innerHTML = '';\n",
              "          dataTable['output_type'] = 'display_data';\n",
              "          await google.colab.output.renderOutput(dataTable, element);\n",
              "          const docLink = document.createElement('div');\n",
              "          docLink.innerHTML = docLinkHtml;\n",
              "          element.appendChild(docLink);\n",
              "        }\n",
              "      </script>\n",
              "    </div>\n",
              "  </div>\n",
              "  "
            ]
          },
          "metadata": {},
          "execution_count": 187
        }
      ]
    },
    {
      "cell_type": "code",
      "source": [],
      "metadata": {
        "id": "QfAKNTHwtnGz"
      },
      "execution_count": 187,
      "outputs": []
    }
  ]
}